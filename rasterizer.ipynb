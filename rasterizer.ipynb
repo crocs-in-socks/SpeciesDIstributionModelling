{
 "cells": [
  {
   "cell_type": "code",
   "execution_count": 1,
   "metadata": {},
   "outputs": [
    {
     "name": "stdout",
     "output_type": "stream",
     "text": [
      "Modules imported.\n"
     ]
    }
   ],
   "source": [
    "import os\n",
    "import pyproj\n",
    "import rasterio\n",
    "import numpy as np\n",
    "import pandas as pd\n",
    "import polars as pl\n",
    "from tqdm.notebook import tqdm\n",
    "import geopandas as gpd\n",
    "from rasterio.features import rasterize\n",
    "from rasterio.transform import from_origin, from_bounds\n",
    "\n",
    "print('Modules imported.')"
   ]
  },
  {
   "cell_type": "code",
   "execution_count": 2,
   "metadata": {},
   "outputs": [
    {
     "data": {
      "text/html": [
       "<div><style>\n",
       ".dataframe > thead > tr,\n",
       ".dataframe > tbody > tr {\n",
       "  text-align: right;\n",
       "  white-space: pre-wrap;\n",
       "}\n",
       "</style>\n",
       "<small>shape: (5, 2)</small><table border=\"1\" class=\"dataframe\"><thead><tr><th>species_index</th><th>verbatimScientificName</th></tr><tr><td>u32</td><td>str</td></tr></thead><tbody><tr><td>0</td><td>&quot;Abies&quot;</td></tr><tr><td>1</td><td>&quot;Abies alba&quot;</td></tr><tr><td>2</td><td>&quot;Abies alba × concolor&quot;</td></tr><tr><td>3</td><td>&quot;Abies balsamea&quot;</td></tr><tr><td>4</td><td>&quot;Abies cephalonica&quot;</td></tr></tbody></table></div>"
      ],
      "text/plain": [
       "shape: (5, 2)\n",
       "┌───────────────┬────────────────────────┐\n",
       "│ species_index ┆ verbatimScientificName │\n",
       "│ ---           ┆ ---                    │\n",
       "│ u32           ┆ str                    │\n",
       "╞═══════════════╪════════════════════════╡\n",
       "│ 0             ┆ Abies                  │\n",
       "│ 1             ┆ Abies alba             │\n",
       "│ 2             ┆ Abies alba × concolor  │\n",
       "│ 3             ┆ Abies balsamea         │\n",
       "│ 4             ┆ Abies cephalonica      │\n",
       "└───────────────┴────────────────────────┘"
      ]
     },
     "execution_count": 2,
     "metadata": {},
     "output_type": "execute_result"
    }
   ],
   "source": [
    "relevant_columns = [\n",
    "    'occurrenceID', \n",
    "    'verbatimScientificName', \n",
    "    'decimalLatitude', \n",
    "    'decimalLongitude', \n",
    "    'coordinateUncertaintyInMeters', \n",
    "    'eventDate'\n",
    "]\n",
    "\n",
    "gbif_data = pl.read_csv(\n",
    "    r'D:\\Projects\\Project-1\\GBIF-Data\\gbif-data-with-expanded-dates.csv',\n",
    "    separator=',',\n",
    "    columns=relevant_columns\n",
    ")\n",
    "\n",
    "species_index = (\n",
    "    gbif_data\n",
    "    .select('verbatimScientificName')\n",
    "    .unique()\n",
    "    .sort('verbatimScientificName')\n",
    "    .with_row_index('species_index')\n",
    ")\n",
    "\n",
    "species_index.head()"
   ]
  },
  {
   "cell_type": "code",
   "execution_count": 3,
   "metadata": {},
   "outputs": [
    {
     "data": {
      "text/html": [
       "<div><style>\n",
       ".dataframe > thead > tr,\n",
       ".dataframe > tbody > tr {\n",
       "  text-align: right;\n",
       "  white-space: pre-wrap;\n",
       "}\n",
       "</style>\n",
       "<small>shape: (5, 7)</small><table border=\"1\" class=\"dataframe\"><thead><tr><th>occurrenceID</th><th>verbatimScientificName</th><th>decimalLatitude</th><th>decimalLongitude</th><th>coordinateUncertaintyInMeters</th><th>eventDate</th><th>species_index</th></tr><tr><td>str</td><td>str</td><td>f64</td><td>f64</td><td>f64</td><td>str</td><td>u32</td></tr></thead><tbody><tr><td>&quot;urn:lsid:artportalen.se:sighti…</td><td>&quot;Cota tinctoria&quot;</td><td>59.75263</td><td>17.0766</td><td>261.0</td><td>&quot;2019-07&quot;</td><td>1885</td></tr><tr><td>&quot;urn:lsid:artportalen.se:sighti…</td><td>&quot;Rosa vosagiaca&quot;</td><td>56.6378</td><td>16.54385</td><td>50.0</td><td>&quot;2019-07&quot;</td><td>6718</td></tr><tr><td>&quot;urn:lsid:artportalen.se:sighti…</td><td>&quot;Vaccinium myrtillus&quot;</td><td>58.56746</td><td>15.71282</td><td>50.0</td><td>&quot;2019-07&quot;</td><td>8660</td></tr><tr><td>&quot;urn:lsid:artportalen.se:sighti…</td><td>&quot;Campanula rapunculoides&quot;</td><td>60.29459</td><td>13.87982</td><td>150.0</td><td>&quot;2019-07&quot;</td><td>1109</td></tr><tr><td>&quot;urn:lsid:artportalen.se:sighti…</td><td>&quot;Trifolium medium&quot;</td><td>58.56221</td><td>14.93347</td><td>100.0</td><td>&quot;2019-07&quot;</td><td>8522</td></tr></tbody></table></div>"
      ],
      "text/plain": [
       "shape: (5, 7)\n",
       "┌──────────────┬──────────────┬──────────────┬─────────────┬─────────────┬───────────┬─────────────┐\n",
       "│ occurrenceID ┆ verbatimScie ┆ decimalLatit ┆ decimalLong ┆ coordinateU ┆ eventDate ┆ species_ind │\n",
       "│ ---          ┆ ntificName   ┆ ude          ┆ itude       ┆ ncertaintyI ┆ ---       ┆ ex          │\n",
       "│ str          ┆ ---          ┆ ---          ┆ ---         ┆ nMeters     ┆ str       ┆ ---         │\n",
       "│              ┆ str          ┆ f64          ┆ f64         ┆ ---         ┆           ┆ u32         │\n",
       "│              ┆              ┆              ┆             ┆ f64         ┆           ┆             │\n",
       "╞══════════════╪══════════════╪══════════════╪═════════════╪═════════════╪═══════════╪═════════════╡\n",
       "│ urn:lsid:art ┆ Cota         ┆ 59.75263     ┆ 17.0766     ┆ 261.0       ┆ 2019-07   ┆ 1885        │\n",
       "│ portalen.se: ┆ tinctoria    ┆              ┆             ┆             ┆           ┆             │\n",
       "│ sighti…      ┆              ┆              ┆             ┆             ┆           ┆             │\n",
       "│ urn:lsid:art ┆ Rosa         ┆ 56.6378      ┆ 16.54385    ┆ 50.0        ┆ 2019-07   ┆ 6718        │\n",
       "│ portalen.se: ┆ vosagiaca    ┆              ┆             ┆             ┆           ┆             │\n",
       "│ sighti…      ┆              ┆              ┆             ┆             ┆           ┆             │\n",
       "│ urn:lsid:art ┆ Vaccinium    ┆ 58.56746     ┆ 15.71282    ┆ 50.0        ┆ 2019-07   ┆ 8660        │\n",
       "│ portalen.se: ┆ myrtillus    ┆              ┆             ┆             ┆           ┆             │\n",
       "│ sighti…      ┆              ┆              ┆             ┆             ┆           ┆             │\n",
       "│ urn:lsid:art ┆ Campanula    ┆ 60.29459     ┆ 13.87982    ┆ 150.0       ┆ 2019-07   ┆ 1109        │\n",
       "│ portalen.se: ┆ rapunculoide ┆              ┆             ┆             ┆           ┆             │\n",
       "│ sighti…      ┆ s            ┆              ┆             ┆             ┆           ┆             │\n",
       "│ urn:lsid:art ┆ Trifolium    ┆ 58.56221     ┆ 14.93347    ┆ 100.0       ┆ 2019-07   ┆ 8522        │\n",
       "│ portalen.se: ┆ medium       ┆              ┆             ┆             ┆           ┆             │\n",
       "│ sighti…      ┆              ┆              ┆             ┆             ┆           ┆             │\n",
       "└──────────────┴──────────────┴──────────────┴─────────────┴─────────────┴───────────┴─────────────┘"
      ]
     },
     "execution_count": 3,
     "metadata": {},
     "output_type": "execute_result"
    }
   ],
   "source": [
    "gbif_data = gbif_data.join(\n",
    "    species_index, \n",
    "    on=\"verbatimScientificName\", \n",
    "    how=\"left\"\n",
    ")\n",
    "\n",
    "gbif_data.head()"
   ]
  },
  {
   "cell_type": "code",
   "execution_count": 4,
   "metadata": {},
   "outputs": [
    {
     "name": "stdout",
     "output_type": "stream",
     "text": [
      "Raster size: 328x329\n"
     ]
    }
   ],
   "source": [
    "grid_resolution = 5000 # in meters\n",
    "ROI_bounds = [\n",
    "    -224767,            # x_min\n",
    "    6083545,            # y_min\n",
    "    1413055,            # x_max\n",
    "    7721367,            # y_max\n",
    "]\n",
    "\n",
    "x_min, y_min, x_max, y_max = ROI_bounds\n",
    "# width = int((x_max - x_min) / grid_resolution)\n",
    "# height = int((y_max - y_min) / grid_resolution)\n",
    "width = 328\n",
    "height = 329\n",
    "transform = from_bounds(x_min, y_min, x_max, y_max, width, height)\n",
    "\n",
    "wgs84 = pyproj.CRS('EPSG:4326')\n",
    "utm = pyproj.CRS('EPSG:32633')\n",
    "transformer = pyproj.Transformer.from_crs(wgs84, utm, always_xy=True)\n",
    "\n",
    "print(f'Raster size: {width}x{height}')\n",
    "\n",
    "output_folder = '../occurrence-rasters'\n",
    "os.makedirs(output_folder, exist_ok=True)"
   ]
  },
  {
   "cell_type": "code",
   "execution_count": 5,
   "metadata": {},
   "outputs": [
    {
     "data": {
      "application/vnd.jupyter.widget-view+json": {
       "model_id": "4ccf304ff24048eb817a269246917536",
       "version_major": 2,
       "version_minor": 0
      },
      "text/plain": [
       "Processing event dates: 0it [00:00, ?it/s]"
      ]
     },
     "metadata": {},
     "output_type": "display_data"
    },
    {
     "data": {
      "application/vnd.jupyter.widget-view+json": {
       "model_id": "d73f89dcde804813885c50c233fc5d2e",
       "version_major": 2,
       "version_minor": 0
      },
      "text/plain": [
       "Processing rows for 1990-03:   0%|          | 0/51653 [00:00<?, ?it/s]"
      ]
     },
     "metadata": {},
     "output_type": "display_data"
    },
    {
     "data": {
      "application/vnd.jupyter.widget-view+json": {
       "model_id": "a74e50ce86134f41b1675dd2ce4a3b51",
       "version_major": 2,
       "version_minor": 0
      },
      "text/plain": [
       "Processing rows for 2015-01:   0%|          | 0/8026 [00:00<?, ?it/s]"
      ]
     },
     "metadata": {},
     "output_type": "display_data"
    },
    {
     "data": {
      "application/vnd.jupyter.widget-view+json": {
       "model_id": "1b16f47dd8144c399aa12e336ee74e98",
       "version_major": 2,
       "version_minor": 0
      },
      "text/plain": [
       "Processing rows for 1980-04:   0%|          | 0/33117 [00:00<?, ?it/s]"
      ]
     },
     "metadata": {},
     "output_type": "display_data"
    },
    {
     "data": {
      "application/vnd.jupyter.widget-view+json": {
       "model_id": "6a07a744f3d64c1bb4b9edb405df7a5e",
       "version_major": 2,
       "version_minor": 0
      },
      "text/plain": [
       "Processing rows for 2014-08:   0%|          | 0/27010 [00:00<?, ?it/s]"
      ]
     },
     "metadata": {},
     "output_type": "display_data"
    },
    {
     "data": {
      "application/vnd.jupyter.widget-view+json": {
       "model_id": "b1fdf34f58124eb69bc7ba0d5412f292",
       "version_major": 2,
       "version_minor": 0
      },
      "text/plain": [
       "Processing rows for 2000-01:   0%|          | 0/160207 [00:00<?, ?it/s]"
      ]
     },
     "metadata": {},
     "output_type": "display_data"
    },
    {
     "data": {
      "application/vnd.jupyter.widget-view+json": {
       "model_id": "58b8b8700e56456d9f1a0d0aa4e64276",
       "version_major": 2,
       "version_minor": 0
      },
      "text/plain": [
       "Processing rows for 2002-12:   0%|          | 0/38940 [00:00<?, ?it/s]"
      ]
     },
     "metadata": {},
     "output_type": "display_data"
    },
    {
     "data": {
      "application/vnd.jupyter.widget-view+json": {
       "model_id": "fe256e95397e4d9ba7b51a4da2812a69",
       "version_major": 2,
       "version_minor": 0
      },
      "text/plain": [
       "Processing rows for 2012-07:   0%|          | 0/41183 [00:00<?, ?it/s]"
      ]
     },
     "metadata": {},
     "output_type": "display_data"
    },
    {
     "data": {
      "application/vnd.jupyter.widget-view+json": {
       "model_id": "984f27b2a3ce4592a0b3168484106bd9",
       "version_major": 2,
       "version_minor": 0
      },
      "text/plain": [
       "Processing rows for 1993-10:   0%|          | 0/44284 [00:00<?, ?it/s]"
      ]
     },
     "metadata": {},
     "output_type": "display_data"
    },
    {
     "data": {
      "application/vnd.jupyter.widget-view+json": {
       "model_id": "30471004986946e5900c47058c966b88",
       "version_major": 2,
       "version_minor": 0
      },
      "text/plain": [
       "Processing rows for 1983-03:   0%|          | 0/20357 [00:00<?, ?it/s]"
      ]
     },
     "metadata": {},
     "output_type": "display_data"
    },
    {
     "data": {
      "application/vnd.jupyter.widget-view+json": {
       "model_id": "44abc004437f4790b6c6045f8344f05e",
       "version_major": 2,
       "version_minor": 0
      },
      "text/plain": [
       "Processing rows for 2013-01:   0%|          | 0/9472 [00:00<?, ?it/s]"
      ]
     },
     "metadata": {},
     "output_type": "display_data"
    },
    {
     "data": {
      "application/vnd.jupyter.widget-view+json": {
       "model_id": "ceefe674096b4e219d1a624457b28001",
       "version_major": 2,
       "version_minor": 0
      },
      "text/plain": [
       "Processing rows for 1995-03:   0%|          | 0/49568 [00:00<?, ?it/s]"
      ]
     },
     "metadata": {},
     "output_type": "display_data"
    },
    {
     "data": {
      "application/vnd.jupyter.widget-view+json": {
       "model_id": "b694f9a8e64d45a9bf88818cc41aabeb",
       "version_major": 2,
       "version_minor": 0
      },
      "text/plain": [
       "Processing rows for 1979-07:   0%|          | 0/57283 [00:00<?, ?it/s]"
      ]
     },
     "metadata": {},
     "output_type": "display_data"
    },
    {
     "data": {
      "application/vnd.jupyter.widget-view+json": {
       "model_id": "9749586f9af1487e95f0f9dc67d5d93c",
       "version_major": 2,
       "version_minor": 0
      },
      "text/plain": [
       "Processing rows for 1999-04:   0%|          | 0/42060 [00:00<?, ?it/s]"
      ]
     },
     "metadata": {},
     "output_type": "display_data"
    },
    {
     "data": {
      "application/vnd.jupyter.widget-view+json": {
       "model_id": "6713f4c0b4c24be9900d8a6ddb785b3f",
       "version_major": 2,
       "version_minor": 0
      },
      "text/plain": [
       "Processing rows for 2005-03:   0%|          | 0/8295 [00:00<?, ?it/s]"
      ]
     },
     "metadata": {},
     "output_type": "display_data"
    },
    {
     "data": {
      "application/vnd.jupyter.widget-view+json": {
       "model_id": "d096835b70c84f899c88c178927343d1",
       "version_major": 2,
       "version_minor": 0
      },
      "text/plain": [
       "Processing rows for 2002-02:   0%|          | 0/44328 [00:00<?, ?it/s]"
      ]
     },
     "metadata": {},
     "output_type": "display_data"
    },
    {
     "data": {
      "application/vnd.jupyter.widget-view+json": {
       "model_id": "62ea549b0f6f437783ee0670fb8d6015",
       "version_major": 2,
       "version_minor": 0
      },
      "text/plain": [
       "Processing rows for 1989-04:   0%|          | 0/61108 [00:00<?, ?it/s]"
      ]
     },
     "metadata": {},
     "output_type": "display_data"
    },
    {
     "data": {
      "application/vnd.jupyter.widget-view+json": {
       "model_id": "89712a6c413b45b0b7d0da802b2b4fd1",
       "version_major": 2,
       "version_minor": 0
      },
      "text/plain": [
       "Processing rows for 2002-01:   0%|          | 0/160088 [00:00<?, ?it/s]"
      ]
     },
     "metadata": {},
     "output_type": "display_data"
    },
    {
     "data": {
      "application/vnd.jupyter.widget-view+json": {
       "model_id": "dbc92a3ea7d0413aaa426776d6973be6",
       "version_major": 2,
       "version_minor": 0
      },
      "text/plain": [
       "Processing rows for 1983-04:   0%|          | 0/20493 [00:00<?, ?it/s]"
      ]
     },
     "metadata": {},
     "output_type": "display_data"
    },
    {
     "data": {
      "application/vnd.jupyter.widget-view+json": {
       "model_id": "297e6c02623b4530909a6733a113745a",
       "version_major": 2,
       "version_minor": 0
      },
      "text/plain": [
       "Processing rows for 2012-05:   0%|          | 0/66857 [00:00<?, ?it/s]"
      ]
     },
     "metadata": {},
     "output_type": "display_data"
    },
    {
     "data": {
      "application/vnd.jupyter.widget-view+json": {
       "model_id": "f9706b1e7c774f698328b17a40293abb",
       "version_major": 2,
       "version_minor": 0
      },
      "text/plain": [
       "Processing rows for 1983-06:   0%|          | 0/28381 [00:00<?, ?it/s]"
      ]
     },
     "metadata": {},
     "output_type": "display_data"
    },
    {
     "data": {
      "application/vnd.jupyter.widget-view+json": {
       "model_id": "e2ca36a19db0492b86440cb5d7a94257",
       "version_major": 2,
       "version_minor": 0
      },
      "text/plain": [
       "Processing rows for 2003-06:   0%|          | 0/74499 [00:00<?, ?it/s]"
      ]
     },
     "metadata": {},
     "output_type": "display_data"
    },
    {
     "data": {
      "application/vnd.jupyter.widget-view+json": {
       "model_id": "af3a6e11556c47f98b644db5edcba11b",
       "version_major": 2,
       "version_minor": 0
      },
      "text/plain": [
       "Processing rows for 2010-02:   0%|          | 0/4776 [00:00<?, ?it/s]"
      ]
     },
     "metadata": {},
     "output_type": "display_data"
    },
    {
     "data": {
      "application/vnd.jupyter.widget-view+json": {
       "model_id": "17c461d66be446e981fe55d10ccb76c6",
       "version_major": 2,
       "version_minor": 0
      },
      "text/plain": [
       "Processing rows for 2014-09:   0%|          | 0/26486 [00:00<?, ?it/s]"
      ]
     },
     "metadata": {},
     "output_type": "display_data"
    },
    {
     "data": {
      "application/vnd.jupyter.widget-view+json": {
       "model_id": "9eb9f40cfcee4f27bc8516ab38fcc7f4",
       "version_major": 2,
       "version_minor": 0
      },
      "text/plain": [
       "Processing rows for 1984-03:   0%|          | 0/28860 [00:00<?, ?it/s]"
      ]
     },
     "metadata": {},
     "output_type": "display_data"
    },
    {
     "data": {
      "application/vnd.jupyter.widget-view+json": {
       "model_id": "ea2d48a7acc0433fb37fa27cfdcc4c0d",
       "version_major": 2,
       "version_minor": 0
      },
      "text/plain": [
       "Processing rows for 1998-05:   0%|          | 0/31362 [00:00<?, ?it/s]"
      ]
     },
     "metadata": {},
     "output_type": "display_data"
    },
    {
     "data": {
      "application/vnd.jupyter.widget-view+json": {
       "model_id": "74cbb5d38db14f30bf34bc31a088b399",
       "version_major": 2,
       "version_minor": 0
      },
      "text/plain": [
       "Processing rows for 2004-12:   0%|          | 0/21183 [00:00<?, ?it/s]"
      ]
     },
     "metadata": {},
     "output_type": "display_data"
    },
    {
     "data": {
      "application/vnd.jupyter.widget-view+json": {
       "model_id": "7de4e6c036144836a10fe4c3a48b76e4",
       "version_major": 2,
       "version_minor": 0
      },
      "text/plain": [
       "Processing rows for 2001-08:   0%|          | 0/38959 [00:00<?, ?it/s]"
      ]
     },
     "metadata": {},
     "output_type": "display_data"
    },
    {
     "data": {
      "application/vnd.jupyter.widget-view+json": {
       "model_id": "0f5dd6f325e74d00a1c6037fc9762a7a",
       "version_major": 2,
       "version_minor": 0
      },
      "text/plain": [
       "Processing rows for 2009-10:   0%|          | 0/7682 [00:00<?, ?it/s]"
      ]
     },
     "metadata": {},
     "output_type": "display_data"
    },
    {
     "data": {
      "application/vnd.jupyter.widget-view+json": {
       "model_id": "359b8bc7af9d4200aa7f24e6f2ec6b46",
       "version_major": 2,
       "version_minor": 0
      },
      "text/plain": [
       "Processing rows for 1992-11:   0%|          | 0/32120 [00:00<?, ?it/s]"
      ]
     },
     "metadata": {},
     "output_type": "display_data"
    },
    {
     "data": {
      "application/vnd.jupyter.widget-view+json": {
       "model_id": "6b2ae2f1eec9450ca840dff391e08f47",
       "version_major": 2,
       "version_minor": 0
      },
      "text/plain": [
       "Processing rows for 1983-05:   0%|          | 0/121590 [00:00<?, ?it/s]"
      ]
     },
     "metadata": {},
     "output_type": "display_data"
    },
    {
     "data": {
      "application/vnd.jupyter.widget-view+json": {
       "model_id": "9343c3cef85c495ea93d99e541f02128",
       "version_major": 2,
       "version_minor": 0
      },
      "text/plain": [
       "Processing rows for 2012-11:   0%|          | 0/8586 [00:00<?, ?it/s]"
      ]
     },
     "metadata": {},
     "output_type": "display_data"
    },
    {
     "data": {
      "application/vnd.jupyter.widget-view+json": {
       "model_id": "f2a811fe52f848c191b95bbd90b06cef",
       "version_major": 2,
       "version_minor": 0
      },
      "text/plain": [
       "Processing rows for 1991-11:   0%|          | 0/37449 [00:00<?, ?it/s]"
      ]
     },
     "metadata": {},
     "output_type": "display_data"
    },
    {
     "data": {
      "application/vnd.jupyter.widget-view+json": {
       "model_id": "1477485d8cab498dbfccd775501cd164",
       "version_major": 2,
       "version_minor": 0
      },
      "text/plain": [
       "Processing rows for 2007-01:   0%|          | 0/29169 [00:00<?, ?it/s]"
      ]
     },
     "metadata": {},
     "output_type": "display_data"
    },
    {
     "data": {
      "application/vnd.jupyter.widget-view+json": {
       "model_id": "58e6ee20e1f547de844df6f8bb7a6673",
       "version_major": 2,
       "version_minor": 0
      },
      "text/plain": [
       "Processing rows for 1995-01:   0%|          | 0/338927 [00:00<?, ?it/s]"
      ]
     },
     "metadata": {},
     "output_type": "display_data"
    },
    {
     "data": {
      "application/vnd.jupyter.widget-view+json": {
       "model_id": "07a963f9011942b4bb2ab1f59d11b347",
       "version_major": 2,
       "version_minor": 0
      },
      "text/plain": [
       "Processing rows for 2012-03:   0%|          | 0/8101 [00:00<?, ?it/s]"
      ]
     },
     "metadata": {},
     "output_type": "display_data"
    },
    {
     "data": {
      "application/vnd.jupyter.widget-view+json": {
       "model_id": "a66f501fe8a84dd387f1c8915e50c210",
       "version_major": 2,
       "version_minor": 0
      },
      "text/plain": [
       "Processing rows for 1995-10:   0%|          | 0/51230 [00:00<?, ?it/s]"
      ]
     },
     "metadata": {},
     "output_type": "display_data"
    },
    {
     "data": {
      "application/vnd.jupyter.widget-view+json": {
       "model_id": "97cf9d4a496d4efeb81f3f6ceb7f3421",
       "version_major": 2,
       "version_minor": 0
      },
      "text/plain": [
       "Processing rows for 2013-11:   0%|          | 0/6497 [00:00<?, ?it/s]"
      ]
     },
     "metadata": {},
     "output_type": "display_data"
    },
    {
     "data": {
      "application/vnd.jupyter.widget-view+json": {
       "model_id": "9d0866b1d29448578d3229c29fe8b11a",
       "version_major": 2,
       "version_minor": 0
      },
      "text/plain": [
       "Processing rows for 1983-09:   0%|          | 0/23463 [00:00<?, ?it/s]"
      ]
     },
     "metadata": {},
     "output_type": "display_data"
    },
    {
     "data": {
      "application/vnd.jupyter.widget-view+json": {
       "model_id": "2f898ac2017d467ebee1fbb33450f1f5",
       "version_major": 2,
       "version_minor": 0
      },
      "text/plain": [
       "Processing rows for 2019-09:   0%|          | 0/54305 [00:00<?, ?it/s]"
      ]
     },
     "metadata": {},
     "output_type": "display_data"
    },
    {
     "data": {
      "application/vnd.jupyter.widget-view+json": {
       "model_id": "f94fb1ae1afd40fca0eb6b57bed3c22c",
       "version_major": 2,
       "version_minor": 0
      },
      "text/plain": [
       "Processing rows for 1987-04:   0%|          | 0/41230 [00:00<?, ?it/s]"
      ]
     },
     "metadata": {},
     "output_type": "display_data"
    },
    {
     "data": {
      "application/vnd.jupyter.widget-view+json": {
       "model_id": "bb9877fb7f264e5b84b4edb5a6a9bae1",
       "version_major": 2,
       "version_minor": 0
      },
      "text/plain": [
       "Processing rows for 1987-10:   0%|          | 0/42632 [00:00<?, ?it/s]"
      ]
     },
     "metadata": {},
     "output_type": "display_data"
    },
    {
     "data": {
      "application/vnd.jupyter.widget-view+json": {
       "model_id": "51d625b832e24cf8872bf4b4fd713383",
       "version_major": 2,
       "version_minor": 0
      },
      "text/plain": [
       "Processing rows for 2013-05:   0%|          | 0/17363 [00:00<?, ?it/s]"
      ]
     },
     "metadata": {},
     "output_type": "display_data"
    },
    {
     "data": {
      "application/vnd.jupyter.widget-view+json": {
       "model_id": "2d667208ecfd442b9cd1a7b072e6e296",
       "version_major": 2,
       "version_minor": 0
      },
      "text/plain": [
       "Processing rows for 1981-11:   0%|          | 0/14946 [00:00<?, ?it/s]"
      ]
     },
     "metadata": {},
     "output_type": "display_data"
    },
    {
     "data": {
      "application/vnd.jupyter.widget-view+json": {
       "model_id": "6f94c6a39087418e89ffbbf68b5169a9",
       "version_major": 2,
       "version_minor": 0
      },
      "text/plain": [
       "Processing rows for 2015-10:   0%|          | 0/20382 [00:00<?, ?it/s]"
      ]
     },
     "metadata": {},
     "output_type": "display_data"
    },
    {
     "data": {
      "application/vnd.jupyter.widget-view+json": {
       "model_id": "496b942866f2452688118920d5f356b4",
       "version_major": 2,
       "version_minor": 0
      },
      "text/plain": [
       "Processing rows for 2004-02:   0%|          | 0/23187 [00:00<?, ?it/s]"
      ]
     },
     "metadata": {},
     "output_type": "display_data"
    },
    {
     "data": {
      "application/vnd.jupyter.widget-view+json": {
       "model_id": "97b2dc70e7024ad8993a58b64336406a",
       "version_major": 2,
       "version_minor": 0
      },
      "text/plain": [
       "Processing rows for 2016-08:   0%|          | 0/60745 [00:00<?, ?it/s]"
      ]
     },
     "metadata": {},
     "output_type": "display_data"
    },
    {
     "data": {
      "application/vnd.jupyter.widget-view+json": {
       "model_id": "929e57bcabd04c7d81452c89da44c6b7",
       "version_major": 2,
       "version_minor": 0
      },
      "text/plain": [
       "Processing rows for 1989-10:   0%|          | 0/65734 [00:00<?, ?it/s]"
      ]
     },
     "metadata": {},
     "output_type": "display_data"
    },
    {
     "data": {
      "application/vnd.jupyter.widget-view+json": {
       "model_id": "d25afe2d57be4ce4a4378a7727c76be1",
       "version_major": 2,
       "version_minor": 0
      },
      "text/plain": [
       "Processing rows for 2019-10:   0%|          | 0/38835 [00:00<?, ?it/s]"
      ]
     },
     "metadata": {},
     "output_type": "display_data"
    },
    {
     "data": {
      "application/vnd.jupyter.widget-view+json": {
       "model_id": "d89aad8dfca84aada2dbd025501b0346",
       "version_major": 2,
       "version_minor": 0
      },
      "text/plain": [
       "Processing rows for 1988-11:   0%|          | 0/45229 [00:00<?, ?it/s]"
      ]
     },
     "metadata": {},
     "output_type": "display_data"
    },
    {
     "data": {
      "application/vnd.jupyter.widget-view+json": {
       "model_id": "e4a5d56e82e9477e971951b7c30aa25e",
       "version_major": 2,
       "version_minor": 0
      },
      "text/plain": [
       "Processing rows for 1983-08:   0%|          | 0/23853 [00:00<?, ?it/s]"
      ]
     },
     "metadata": {},
     "output_type": "display_data"
    },
    {
     "data": {
      "application/vnd.jupyter.widget-view+json": {
       "model_id": "86dcff916d134f1f84bead9fee2d2f7b",
       "version_major": 2,
       "version_minor": 0
      },
      "text/plain": [
       "Processing rows for 2018-09:   0%|          | 0/36760 [00:00<?, ?it/s]"
      ]
     },
     "metadata": {},
     "output_type": "display_data"
    },
    {
     "data": {
      "application/vnd.jupyter.widget-view+json": {
       "model_id": "79dcc600a0cd4050a4844a129136887e",
       "version_major": 2,
       "version_minor": 0
      },
      "text/plain": [
       "Processing rows for 1996-07:   0%|          | 0/48775 [00:00<?, ?it/s]"
      ]
     },
     "metadata": {},
     "output_type": "display_data"
    },
    {
     "data": {
      "application/vnd.jupyter.widget-view+json": {
       "model_id": "ac5603ebfcb545d1856b2730ab4a5e96",
       "version_major": 2,
       "version_minor": 0
      },
      "text/plain": [
       "Processing rows for 2005-04:   0%|          | 0/15500 [00:00<?, ?it/s]"
      ]
     },
     "metadata": {},
     "output_type": "display_data"
    },
    {
     "data": {
      "application/vnd.jupyter.widget-view+json": {
       "model_id": "a8783f1937f94e5b9d720f064a32cce9",
       "version_major": 2,
       "version_minor": 0
      },
      "text/plain": [
       "Processing rows for 2015-03:   0%|          | 0/6286 [00:00<?, ?it/s]"
      ]
     },
     "metadata": {},
     "output_type": "display_data"
    },
    {
     "data": {
      "application/vnd.jupyter.widget-view+json": {
       "model_id": "c7e8fe2a54d04706b39fbf75596f5214",
       "version_major": 2,
       "version_minor": 0
      },
      "text/plain": [
       "Processing rows for 2016-03:   0%|          | 0/14226 [00:00<?, ?it/s]"
      ]
     },
     "metadata": {},
     "output_type": "display_data"
    },
    {
     "data": {
      "application/vnd.jupyter.widget-view+json": {
       "model_id": "dca3e909367149f784ea789b484c1324",
       "version_major": 2,
       "version_minor": 0
      },
      "text/plain": [
       "Processing rows for 2003-01:   0%|          | 0/169172 [00:00<?, ?it/s]"
      ]
     },
     "metadata": {},
     "output_type": "display_data"
    },
    {
     "data": {
      "application/vnd.jupyter.widget-view+json": {
       "model_id": "189af7835ce640eb9aeebee46c82f4d4",
       "version_major": 2,
       "version_minor": 0
      },
      "text/plain": [
       "Processing rows for 2003-08:   0%|          | 0/105990 [00:00<?, ?it/s]"
      ]
     },
     "metadata": {},
     "output_type": "display_data"
    },
    {
     "data": {
      "application/vnd.jupyter.widget-view+json": {
       "model_id": "702f1d9eda054c6ca73063445fa4c9c7",
       "version_major": 2,
       "version_minor": 0
      },
      "text/plain": [
       "Processing rows for 1986-04:   0%|          | 0/34216 [00:00<?, ?it/s]"
      ]
     },
     "metadata": {},
     "output_type": "display_data"
    },
    {
     "data": {
      "application/vnd.jupyter.widget-view+json": {
       "model_id": "c60b72c682f14e6b85c83b39c8bdc5b6",
       "version_major": 2,
       "version_minor": 0
      },
      "text/plain": [
       "Processing rows for 1994-04:   0%|          | 0/35640 [00:00<?, ?it/s]"
      ]
     },
     "metadata": {},
     "output_type": "display_data"
    },
    {
     "data": {
      "application/vnd.jupyter.widget-view+json": {
       "model_id": "7d65f1967b5f4d068b26351097934cf3",
       "version_major": 2,
       "version_minor": 0
      },
      "text/plain": [
       "Processing rows for 2004-09:   0%|          | 0/31208 [00:00<?, ?it/s]"
      ]
     },
     "metadata": {},
     "output_type": "display_data"
    },
    {
     "data": {
      "application/vnd.jupyter.widget-view+json": {
       "model_id": "35585020fa334c418fab2213a04d0fb2",
       "version_major": 2,
       "version_minor": 0
      },
      "text/plain": [
       "Processing rows for 1980-11:   0%|          | 0/29846 [00:00<?, ?it/s]"
      ]
     },
     "metadata": {},
     "output_type": "display_data"
    },
    {
     "data": {
      "application/vnd.jupyter.widget-view+json": {
       "model_id": "7e25f2eb2c594238bb7ca0abe724b3bc",
       "version_major": 2,
       "version_minor": 0
      },
      "text/plain": [
       "Processing rows for 1982-06:   0%|          | 0/42024 [00:00<?, ?it/s]"
      ]
     },
     "metadata": {},
     "output_type": "display_data"
    },
    {
     "data": {
      "application/vnd.jupyter.widget-view+json": {
       "model_id": "91bd944459134374a63d12549ccb24dc",
       "version_major": 2,
       "version_minor": 0
      },
      "text/plain": [
       "Processing rows for 1980-03:   0%|          | 0/29665 [00:00<?, ?it/s]"
      ]
     },
     "metadata": {},
     "output_type": "display_data"
    },
    {
     "data": {
      "application/vnd.jupyter.widget-view+json": {
       "model_id": "a856fdf2d46845318ab5e98117475996",
       "version_major": 2,
       "version_minor": 0
      },
      "text/plain": [
       "Processing rows for 2002-05:   0%|          | 0/141317 [00:00<?, ?it/s]"
      ]
     },
     "metadata": {},
     "output_type": "display_data"
    },
    {
     "data": {
      "application/vnd.jupyter.widget-view+json": {
       "model_id": "245d83896d454ba392dc0e0b6c21c643",
       "version_major": 2,
       "version_minor": 0
      },
      "text/plain": [
       "Processing rows for 1986-06:   0%|          | 0/59962 [00:00<?, ?it/s]"
      ]
     },
     "metadata": {},
     "output_type": "display_data"
    },
    {
     "data": {
      "application/vnd.jupyter.widget-view+json": {
       "model_id": "4ddee801e97d4e458d0423467497dd15",
       "version_major": 2,
       "version_minor": 0
      },
      "text/plain": [
       "Processing rows for 1983-12:   0%|          | 0/20131 [00:00<?, ?it/s]"
      ]
     },
     "metadata": {},
     "output_type": "display_data"
    },
    {
     "data": {
      "application/vnd.jupyter.widget-view+json": {
       "model_id": "55a6dded4085444c8fd1defddda162c3",
       "version_major": 2,
       "version_minor": 0
      },
      "text/plain": [
       "Processing rows for 1997-05:   0%|          | 0/46394 [00:00<?, ?it/s]"
      ]
     },
     "metadata": {},
     "output_type": "display_data"
    },
    {
     "data": {
      "application/vnd.jupyter.widget-view+json": {
       "model_id": "95d8e74e23694919b1fbe1955dc6b3a1",
       "version_major": 2,
       "version_minor": 0
      },
      "text/plain": [
       "Processing rows for 1979-12:   0%|          | 0/38879 [00:00<?, ?it/s]"
      ]
     },
     "metadata": {},
     "output_type": "display_data"
    },
    {
     "data": {
      "application/vnd.jupyter.widget-view+json": {
       "model_id": "58de7424435b4af99df2c2ceadb16de8",
       "version_major": 2,
       "version_minor": 0
      },
      "text/plain": [
       "Processing rows for 1985-01:   0%|          | 0/129213 [00:00<?, ?it/s]"
      ]
     },
     "metadata": {},
     "output_type": "display_data"
    },
    {
     "data": {
      "application/vnd.jupyter.widget-view+json": {
       "model_id": "7e712e81544b4b1e9282a4c0d145fd3f",
       "version_major": 2,
       "version_minor": 0
      },
      "text/plain": [
       "Processing rows for 2001-09:   0%|          | 0/32950 [00:00<?, ?it/s]"
      ]
     },
     "metadata": {},
     "output_type": "display_data"
    },
    {
     "data": {
      "application/vnd.jupyter.widget-view+json": {
       "model_id": "1a62df49e24a4592ae2e32924e79684e",
       "version_major": 2,
       "version_minor": 0
      },
      "text/plain": [
       "Processing rows for 2004-10:   0%|          | 0/21777 [00:00<?, ?it/s]"
      ]
     },
     "metadata": {},
     "output_type": "display_data"
    },
    {
     "data": {
      "application/vnd.jupyter.widget-view+json": {
       "model_id": "868f9d7d7ce8401cb32899dab4c651b3",
       "version_major": 2,
       "version_minor": 0
      },
      "text/plain": [
       "Processing rows for 2000-06:   0%|          | 0/84716 [00:00<?, ?it/s]"
      ]
     },
     "metadata": {},
     "output_type": "display_data"
    },
    {
     "data": {
      "application/vnd.jupyter.widget-view+json": {
       "model_id": "b14d7cafd5b14a738724f632ceb99820",
       "version_major": 2,
       "version_minor": 0
      },
      "text/plain": [
       "Processing rows for 2015-04:   0%|          | 0/15171 [00:00<?, ?it/s]"
      ]
     },
     "metadata": {},
     "output_type": "display_data"
    },
    {
     "data": {
      "application/vnd.jupyter.widget-view+json": {
       "model_id": "26e1bbd49a7c480bbc240bfeaaaf3872",
       "version_major": 2,
       "version_minor": 0
      },
      "text/plain": [
       "Processing rows for 1998-06:   0%|          | 0/39231 [00:00<?, ?it/s]"
      ]
     },
     "metadata": {},
     "output_type": "display_data"
    },
    {
     "data": {
      "application/vnd.jupyter.widget-view+json": {
       "model_id": "248e47fd9eee4949a0ac8f0feb9098d1",
       "version_major": 2,
       "version_minor": 0
      },
      "text/plain": [
       "Processing rows for 1990-06:   0%|          | 0/55305 [00:00<?, ?it/s]"
      ]
     },
     "metadata": {},
     "output_type": "display_data"
    },
    {
     "data": {
      "application/vnd.jupyter.widget-view+json": {
       "model_id": "f30d14a080b94d559eadc3fc0818614a",
       "version_major": 2,
       "version_minor": 0
      },
      "text/plain": [
       "Processing rows for 2006-12:   0%|          | 0/6833 [00:00<?, ?it/s]"
      ]
     },
     "metadata": {},
     "output_type": "display_data"
    },
    {
     "data": {
      "application/vnd.jupyter.widget-view+json": {
       "model_id": "eae34e6a07a04a95a867bd6c2a1ef8ba",
       "version_major": 2,
       "version_minor": 0
      },
      "text/plain": [
       "Processing rows for 1987-06:   0%|          | 0/45624 [00:00<?, ?it/s]"
      ]
     },
     "metadata": {},
     "output_type": "display_data"
    },
    {
     "data": {
      "application/vnd.jupyter.widget-view+json": {
       "model_id": "0cb51067145d4a9bab4a5c104d00bf9a",
       "version_major": 2,
       "version_minor": 0
      },
      "text/plain": [
       "Processing rows for 2002-11:   0%|          | 0/52960 [00:00<?, ?it/s]"
      ]
     },
     "metadata": {},
     "output_type": "display_data"
    },
    {
     "data": {
      "application/vnd.jupyter.widget-view+json": {
       "model_id": "32eaea68d59e4e18b19705dd6cd2b57c",
       "version_major": 2,
       "version_minor": 0
      },
      "text/plain": [
       "Processing rows for 1994-11:   0%|          | 0/32158 [00:00<?, ?it/s]"
      ]
     },
     "metadata": {},
     "output_type": "display_data"
    },
    {
     "data": {
      "application/vnd.jupyter.widget-view+json": {
       "model_id": "d062cdec22fa4ee29577b4f1461e738a",
       "version_major": 2,
       "version_minor": 0
      },
      "text/plain": [
       "Processing rows for 1989-01:   0%|          | 0/357153 [00:00<?, ?it/s]"
      ]
     },
     "metadata": {},
     "output_type": "display_data"
    },
    {
     "data": {
      "application/vnd.jupyter.widget-view+json": {
       "model_id": "d33fb86acaeb4d46b43b59d744e94ec8",
       "version_major": 2,
       "version_minor": 0
      },
      "text/plain": [
       "Processing rows for 2017-11:   0%|          | 0/12419 [00:00<?, ?it/s]"
      ]
     },
     "metadata": {},
     "output_type": "display_data"
    },
    {
     "data": {
      "application/vnd.jupyter.widget-view+json": {
       "model_id": "039e10ab4d634d81bc9fad71cff99b55",
       "version_major": 2,
       "version_minor": 0
      },
      "text/plain": [
       "Processing rows for 1982-05:   0%|          | 0/61213 [00:00<?, ?it/s]"
      ]
     },
     "metadata": {},
     "output_type": "display_data"
    },
    {
     "data": {
      "application/vnd.jupyter.widget-view+json": {
       "model_id": "d3860c4c4b264606a87b0c15af3e9b65",
       "version_major": 2,
       "version_minor": 0
      },
      "text/plain": [
       "Processing rows for 1987-03:   0%|          | 0/40945 [00:00<?, ?it/s]"
      ]
     },
     "metadata": {},
     "output_type": "display_data"
    },
    {
     "data": {
      "application/vnd.jupyter.widget-view+json": {
       "model_id": "0046b233ec9f497692fb37eaa319e5c2",
       "version_major": 2,
       "version_minor": 0
      },
      "text/plain": [
       "Processing rows for 1998-09:   0%|          | 0/22116 [00:00<?, ?it/s]"
      ]
     },
     "metadata": {},
     "output_type": "display_data"
    },
    {
     "data": {
      "application/vnd.jupyter.widget-view+json": {
       "model_id": "e2cffb52b16649bfa529051a1629b973",
       "version_major": 2,
       "version_minor": 0
      },
      "text/plain": [
       "Processing rows for 1988-03:   0%|          | 0/44946 [00:00<?, ?it/s]"
      ]
     },
     "metadata": {},
     "output_type": "display_data"
    },
    {
     "data": {
      "application/vnd.jupyter.widget-view+json": {
       "model_id": "754d02e80303420d8ee3f1b52f1c96f1",
       "version_major": 2,
       "version_minor": 0
      },
      "text/plain": [
       "Processing rows for 2008-08:   0%|          | 0/31024 [00:00<?, ?it/s]"
      ]
     },
     "metadata": {},
     "output_type": "display_data"
    },
    {
     "data": {
      "application/vnd.jupyter.widget-view+json": {
       "model_id": "8fd34188889d4b43a107af1cfbcb280e",
       "version_major": 2,
       "version_minor": 0
      },
      "text/plain": [
       "Processing rows for 2009-04:   0%|          | 0/10937 [00:00<?, ?it/s]"
      ]
     },
     "metadata": {},
     "output_type": "display_data"
    },
    {
     "data": {
      "application/vnd.jupyter.widget-view+json": {
       "model_id": "2591af51755c4b6bbb6abeaca405504e",
       "version_major": 2,
       "version_minor": 0
      },
      "text/plain": [
       "Processing rows for 1993-02:   0%|          | 0/43456 [00:00<?, ?it/s]"
      ]
     },
     "metadata": {},
     "output_type": "display_data"
    },
    {
     "data": {
      "application/vnd.jupyter.widget-view+json": {
       "model_id": "4bb45b5b1d2e44629a2904ae827f9f8f",
       "version_major": 2,
       "version_minor": 0
      },
      "text/plain": [
       "Processing rows for 2007-09:   0%|          | 0/14033 [00:00<?, ?it/s]"
      ]
     },
     "metadata": {},
     "output_type": "display_data"
    },
    {
     "data": {
      "application/vnd.jupyter.widget-view+json": {
       "model_id": "3ec7ec6de9ef410095f1edd2998eebf7",
       "version_major": 2,
       "version_minor": 0
      },
      "text/plain": [
       "Processing rows for 1998-01:   0%|          | 0/148474 [00:00<?, ?it/s]"
      ]
     },
     "metadata": {},
     "output_type": "display_data"
    },
    {
     "data": {
      "application/vnd.jupyter.widget-view+json": {
       "model_id": "161b63e236844f3cb5ad1ea4dcb5e736",
       "version_major": 2,
       "version_minor": 0
      },
      "text/plain": [
       "Processing rows for 1981-03:   0%|          | 0/37317 [00:00<?, ?it/s]"
      ]
     },
     "metadata": {},
     "output_type": "display_data"
    },
    {
     "data": {
      "application/vnd.jupyter.widget-view+json": {
       "model_id": "3b741bbc6fcf4718bc1fc4c6d9ce8fa2",
       "version_major": 2,
       "version_minor": 0
      },
      "text/plain": [
       "Processing rows for 2006-11:   0%|          | 0/7295 [00:00<?, ?it/s]"
      ]
     },
     "metadata": {},
     "output_type": "display_data"
    },
    {
     "data": {
      "application/vnd.jupyter.widget-view+json": {
       "model_id": "a82fe3b848a946c2993b183053586ce4",
       "version_major": 2,
       "version_minor": 0
      },
      "text/plain": [
       "Processing rows for 1996-06:   0%|          | 0/47250 [00:00<?, ?it/s]"
      ]
     },
     "metadata": {},
     "output_type": "display_data"
    },
    {
     "data": {
      "application/vnd.jupyter.widget-view+json": {
       "model_id": "69745a6fc99145fcb06dba29da2be43f",
       "version_major": 2,
       "version_minor": 0
      },
      "text/plain": [
       "Processing rows for 2010-11:   0%|          | 0/11384 [00:00<?, ?it/s]"
      ]
     },
     "metadata": {},
     "output_type": "display_data"
    },
    {
     "data": {
      "application/vnd.jupyter.widget-view+json": {
       "model_id": "0ac0edb0ea1245ca800c0d8849141c07",
       "version_major": 2,
       "version_minor": 0
      },
      "text/plain": [
       "Processing rows for 1991-12:   0%|          | 0/36856 [00:00<?, ?it/s]"
      ]
     },
     "metadata": {},
     "output_type": "display_data"
    },
    {
     "data": {
      "application/vnd.jupyter.widget-view+json": {
       "model_id": "bd7cd78f771e472e83b2fd4d80a37a62",
       "version_major": 2,
       "version_minor": 0
      },
      "text/plain": [
       "Processing rows for 1989-07:   0%|          | 0/87119 [00:00<?, ?it/s]"
      ]
     },
     "metadata": {},
     "output_type": "display_data"
    },
    {
     "data": {
      "application/vnd.jupyter.widget-view+json": {
       "model_id": "1a06d7d3bccf45a9aedd66e1f1a98d8f",
       "version_major": 2,
       "version_minor": 0
      },
      "text/plain": [
       "Processing rows for 2010-01:   0%|          | 0/24815 [00:00<?, ?it/s]"
      ]
     },
     "metadata": {},
     "output_type": "display_data"
    },
    {
     "data": {
      "application/vnd.jupyter.widget-view+json": {
       "model_id": "9ba28391371040a3916b4001fa5124f2",
       "version_major": 2,
       "version_minor": 0
      },
      "text/plain": [
       "Processing rows for 2005-07:   0%|          | 0/76358 [00:00<?, ?it/s]"
      ]
     },
     "metadata": {},
     "output_type": "display_data"
    },
    {
     "data": {
      "application/vnd.jupyter.widget-view+json": {
       "model_id": "f6a1e99cd14048d68fd00c8d1eebe973",
       "version_major": 2,
       "version_minor": 0
      },
      "text/plain": [
       "Processing rows for 2014-12:   0%|          | 0/8094 [00:00<?, ?it/s]"
      ]
     },
     "metadata": {},
     "output_type": "display_data"
    },
    {
     "data": {
      "application/vnd.jupyter.widget-view+json": {
       "model_id": "acffcec49ff64024815c1dfbefaf1392",
       "version_major": 2,
       "version_minor": 0
      },
      "text/plain": [
       "Processing rows for 1983-11:   0%|          | 0/20209 [00:00<?, ?it/s]"
      ]
     },
     "metadata": {},
     "output_type": "display_data"
    },
    {
     "data": {
      "application/vnd.jupyter.widget-view+json": {
       "model_id": "f2df48f706e14c1abc8e132f6b38c7c7",
       "version_major": 2,
       "version_minor": 0
      },
      "text/plain": [
       "Processing rows for 2000-11:   0%|          | 0/44788 [00:00<?, ?it/s]"
      ]
     },
     "metadata": {},
     "output_type": "display_data"
    },
    {
     "data": {
      "application/vnd.jupyter.widget-view+json": {
       "model_id": "dc3cca3b5b1442608959c762cd30e5bf",
       "version_major": 2,
       "version_minor": 0
      },
      "text/plain": [
       "Processing rows for 1991-04:   0%|          | 0/37136 [00:00<?, ?it/s]"
      ]
     },
     "metadata": {},
     "output_type": "display_data"
    },
    {
     "data": {
      "application/vnd.jupyter.widget-view+json": {
       "model_id": "f07efdeba083406cab0ac6594b5ee6bf",
       "version_major": 2,
       "version_minor": 0
      },
      "text/plain": [
       "Processing rows for 2013-08:   0%|          | 0/13288 [00:00<?, ?it/s]"
      ]
     },
     "metadata": {},
     "output_type": "display_data"
    },
    {
     "data": {
      "application/vnd.jupyter.widget-view+json": {
       "model_id": "988fda49354e4b19bd96b050c12bdddf",
       "version_major": 2,
       "version_minor": 0
      },
      "text/plain": [
       "Processing rows for 1982-10:   0%|          | 0/13152 [00:00<?, ?it/s]"
      ]
     },
     "metadata": {},
     "output_type": "display_data"
    },
    {
     "data": {
      "application/vnd.jupyter.widget-view+json": {
       "model_id": "e8a4b7d3c38a42f19fe459173ee9a3ea",
       "version_major": 2,
       "version_minor": 0
      },
      "text/plain": [
       "Processing rows for 1996-05:   0%|          | 0/53404 [00:00<?, ?it/s]"
      ]
     },
     "metadata": {},
     "output_type": "display_data"
    },
    {
     "data": {
      "application/vnd.jupyter.widget-view+json": {
       "model_id": "13798f7069d244c9bcfd6bd9141307da",
       "version_major": 2,
       "version_minor": 0
      },
      "text/plain": [
       "Processing rows for 2002-07:   0%|          | 0/51664 [00:00<?, ?it/s]"
      ]
     },
     "metadata": {},
     "output_type": "display_data"
    },
    {
     "data": {
      "application/vnd.jupyter.widget-view+json": {
       "model_id": "c09adc3f8acc4e3f96a527d68d233dbf",
       "version_major": 2,
       "version_minor": 0
      },
      "text/plain": [
       "Processing rows for 2018-11:   0%|          | 0/3348 [00:00<?, ?it/s]"
      ]
     },
     "metadata": {},
     "output_type": "display_data"
    },
    {
     "data": {
      "application/vnd.jupyter.widget-view+json": {
       "model_id": "8cec1f27aeae4e8f9079937d15631ff5",
       "version_major": 2,
       "version_minor": 0
      },
      "text/plain": [
       "Processing rows for 1998-10:   0%|          | 0/22706 [00:00<?, ?it/s]"
      ]
     },
     "metadata": {},
     "output_type": "display_data"
    },
    {
     "data": {
      "application/vnd.jupyter.widget-view+json": {
       "model_id": "9baf0d6326284099a16cbd6d1ca7f2a8",
       "version_major": 2,
       "version_minor": 0
      },
      "text/plain": [
       "Processing rows for 2000-02:   0%|          | 0/45014 [00:00<?, ?it/s]"
      ]
     },
     "metadata": {},
     "output_type": "display_data"
    },
    {
     "data": {
      "application/vnd.jupyter.widget-view+json": {
       "model_id": "7918fba23db84466b8a5a79d2e2bbe65",
       "version_major": 2,
       "version_minor": 0
      },
      "text/plain": [
       "Processing rows for 1985-06:   0%|          | 0/67746 [00:00<?, ?it/s]"
      ]
     },
     "metadata": {},
     "output_type": "display_data"
    },
    {
     "data": {
      "application/vnd.jupyter.widget-view+json": {
       "model_id": "4ba14c9566b94d90bdf44acd61a6765e",
       "version_major": 2,
       "version_minor": 0
      },
      "text/plain": [
       "Processing rows for 1998-07:   0%|          | 0/36861 [00:00<?, ?it/s]"
      ]
     },
     "metadata": {},
     "output_type": "display_data"
    },
    {
     "data": {
      "application/vnd.jupyter.widget-view+json": {
       "model_id": "2faea93fce0144b180d87d4afdba684b",
       "version_major": 2,
       "version_minor": 0
      },
      "text/plain": [
       "Processing rows for 1986-12:   0%|          | 0/31721 [00:00<?, ?it/s]"
      ]
     },
     "metadata": {},
     "output_type": "display_data"
    },
    {
     "data": {
      "application/vnd.jupyter.widget-view+json": {
       "model_id": "06262edc41b94374a447ff6332a86bcb",
       "version_major": 2,
       "version_minor": 0
      },
      "text/plain": [
       "Processing rows for 1988-06:   0%|          | 0/67192 [00:00<?, ?it/s]"
      ]
     },
     "metadata": {},
     "output_type": "display_data"
    },
    {
     "data": {
      "application/vnd.jupyter.widget-view+json": {
       "model_id": "72e53c84d3334628be9203a4799d0ead",
       "version_major": 2,
       "version_minor": 0
      },
      "text/plain": [
       "Processing rows for 2019-05:   0%|          | 0/73020 [00:00<?, ?it/s]"
      ]
     },
     "metadata": {},
     "output_type": "display_data"
    },
    {
     "data": {
      "application/vnd.jupyter.widget-view+json": {
       "model_id": "5e3bc197a68b4a1ea451fc825f633aa0",
       "version_major": 2,
       "version_minor": 0
      },
      "text/plain": [
       "Processing rows for 1992-12:   0%|          | 0/32066 [00:00<?, ?it/s]"
      ]
     },
     "metadata": {},
     "output_type": "display_data"
    },
    {
     "data": {
      "application/vnd.jupyter.widget-view+json": {
       "model_id": "5628deca1e344e2e8542cb4567b1914b",
       "version_major": 2,
       "version_minor": 0
      },
      "text/plain": [
       "Processing rows for 1981-09:   0%|          | 0/15424 [00:00<?, ?it/s]"
      ]
     },
     "metadata": {},
     "output_type": "display_data"
    },
    {
     "data": {
      "application/vnd.jupyter.widget-view+json": {
       "model_id": "20937d3f077c4d70a836c0c8a1620072",
       "version_major": 2,
       "version_minor": 0
      },
      "text/plain": [
       "Processing rows for 2002-03:   0%|          | 0/39607 [00:00<?, ?it/s]"
      ]
     },
     "metadata": {},
     "output_type": "display_data"
    },
    {
     "data": {
      "application/vnd.jupyter.widget-view+json": {
       "model_id": "c68ef2372bf74308918ee0742bc354b4",
       "version_major": 2,
       "version_minor": 0
      },
      "text/plain": [
       "Processing rows for 2011-12:   0%|          | 0/5913 [00:00<?, ?it/s]"
      ]
     },
     "metadata": {},
     "output_type": "display_data"
    },
    {
     "data": {
      "application/vnd.jupyter.widget-view+json": {
       "model_id": "cb3989f0a4d542fab8a1d394b63a9169",
       "version_major": 2,
       "version_minor": 0
      },
      "text/plain": [
       "Processing rows for 1988-05:   0%|          | 0/170060 [00:00<?, ?it/s]"
      ]
     },
     "metadata": {},
     "output_type": "display_data"
    },
    {
     "data": {
      "application/vnd.jupyter.widget-view+json": {
       "model_id": "68b580f0f5c4467b97f21f2d8386f96d",
       "version_major": 2,
       "version_minor": 0
      },
      "text/plain": [
       "Processing rows for 2019-02:   0%|          | 0/9932 [00:00<?, ?it/s]"
      ]
     },
     "metadata": {},
     "output_type": "display_data"
    },
    {
     "data": {
      "application/vnd.jupyter.widget-view+json": {
       "model_id": "b990fa11f3eb48018c950696b5a74807",
       "version_major": 2,
       "version_minor": 0
      },
      "text/plain": [
       "Processing rows for 2009-08:   0%|          | 0/55011 [00:00<?, ?it/s]"
      ]
     },
     "metadata": {},
     "output_type": "display_data"
    },
    {
     "data": {
      "application/vnd.jupyter.widget-view+json": {
       "model_id": "5ec1917d2adc42bf95a5e387baf716a8",
       "version_major": 2,
       "version_minor": 0
      },
      "text/plain": [
       "Processing rows for 1981-04:   0%|          | 0/16926 [00:00<?, ?it/s]"
      ]
     },
     "metadata": {},
     "output_type": "display_data"
    },
    {
     "data": {
      "application/vnd.jupyter.widget-view+json": {
       "model_id": "8de25d8c2fc64a6794417e18a0b7fdc6",
       "version_major": 2,
       "version_minor": 0
      },
      "text/plain": [
       "Processing rows for 1991-02:   0%|          | 0/36858 [00:00<?, ?it/s]"
      ]
     },
     "metadata": {},
     "output_type": "display_data"
    },
    {
     "data": {
      "application/vnd.jupyter.widget-view+json": {
       "model_id": "2fc19c54849b4957b5f28707066e40ce",
       "version_major": 2,
       "version_minor": 0
      },
      "text/plain": [
       "Processing rows for 2018-06:   0%|          | 0/149644 [00:00<?, ?it/s]"
      ]
     },
     "metadata": {},
     "output_type": "display_data"
    },
    {
     "data": {
      "application/vnd.jupyter.widget-view+json": {
       "model_id": "0b5297d407b84754adee411ce5eee017",
       "version_major": 2,
       "version_minor": 0
      },
      "text/plain": [
       "Processing rows for 1995-09:   0%|          | 0/50545 [00:00<?, ?it/s]"
      ]
     },
     "metadata": {},
     "output_type": "display_data"
    },
    {
     "data": {
      "application/vnd.jupyter.widget-view+json": {
       "model_id": "c16686bbba4749b3b9d6f224e00c29dd",
       "version_major": 2,
       "version_minor": 0
      },
      "text/plain": [
       "Processing rows for 1999-12:   0%|          | 0/40267 [00:00<?, ?it/s]"
      ]
     },
     "metadata": {},
     "output_type": "display_data"
    },
    {
     "data": {
      "application/vnd.jupyter.widget-view+json": {
       "model_id": "537365df56254a788ca94d4a635f4574",
       "version_major": 2,
       "version_minor": 0
      },
      "text/plain": [
       "Processing rows for 1990-12:   0%|          | 0/51265 [00:00<?, ?it/s]"
      ]
     },
     "metadata": {},
     "output_type": "display_data"
    },
    {
     "data": {
      "application/vnd.jupyter.widget-view+json": {
       "model_id": "a4480438a65c473cb3ef49c6217c2b13",
       "version_major": 2,
       "version_minor": 0
      },
      "text/plain": [
       "Processing rows for 1984-01:   0%|          | 0/198490 [00:00<?, ?it/s]"
      ]
     },
     "metadata": {},
     "output_type": "display_data"
    },
    {
     "data": {
      "application/vnd.jupyter.widget-view+json": {
       "model_id": "58359743867041d690afb6fba60027a8",
       "version_major": 2,
       "version_minor": 0
      },
      "text/plain": [
       "Processing rows for 1991-05:   0%|          | 0/135043 [00:00<?, ?it/s]"
      ]
     },
     "metadata": {},
     "output_type": "display_data"
    },
    {
     "data": {
      "application/vnd.jupyter.widget-view+json": {
       "model_id": "a7398ca66afa4fe1a705a7db218cfb69",
       "version_major": 2,
       "version_minor": 0
      },
      "text/plain": [
       "Processing rows for 2001-11:   0%|          | 0/32091 [00:00<?, ?it/s]"
      ]
     },
     "metadata": {},
     "output_type": "display_data"
    },
    {
     "data": {
      "application/vnd.jupyter.widget-view+json": {
       "model_id": "9398d12b25f54218916e2ada816fa3aa",
       "version_major": 2,
       "version_minor": 0
      },
      "text/plain": [
       "Processing rows for 2000-10:   0%|          | 0/49540 [00:00<?, ?it/s]"
      ]
     },
     "metadata": {},
     "output_type": "display_data"
    },
    {
     "data": {
      "application/vnd.jupyter.widget-view+json": {
       "model_id": "9a46c41c2d254b89b56375f374d00d90",
       "version_major": 2,
       "version_minor": 0
      },
      "text/plain": [
       "Processing rows for 1996-04:   0%|          | 0/40340 [00:00<?, ?it/s]"
      ]
     },
     "metadata": {},
     "output_type": "display_data"
    },
    {
     "data": {
      "application/vnd.jupyter.widget-view+json": {
       "model_id": "6e042f54e6cb4b62a8b4738b0ccf3aaa",
       "version_major": 2,
       "version_minor": 0
      },
      "text/plain": [
       "Processing rows for 2001-06:   0%|          | 0/47730 [00:00<?, ?it/s]"
      ]
     },
     "metadata": {},
     "output_type": "display_data"
    },
    {
     "data": {
      "application/vnd.jupyter.widget-view+json": {
       "model_id": "6e43f61290db4e219084eb3cf12a7388",
       "version_major": 2,
       "version_minor": 0
      },
      "text/plain": [
       "Processing rows for 1987-05:   0%|          | 0/89406 [00:00<?, ?it/s]"
      ]
     },
     "metadata": {},
     "output_type": "display_data"
    },
    {
     "data": {
      "application/vnd.jupyter.widget-view+json": {
       "model_id": "3f3dd8a36206454cbeb334c70e2d5a26",
       "version_major": 2,
       "version_minor": 0
      },
      "text/plain": [
       "Processing rows for 1996-08:   0%|          | 0/41079 [00:00<?, ?it/s]"
      ]
     },
     "metadata": {},
     "output_type": "display_data"
    },
    {
     "data": {
      "application/vnd.jupyter.widget-view+json": {
       "model_id": "604bdf7fbd4d43b89488a78e3b74afdd",
       "version_major": 2,
       "version_minor": 0
      },
      "text/plain": [
       "Processing rows for 1984-10:   0%|          | 0/30567 [00:00<?, ?it/s]"
      ]
     },
     "metadata": {},
     "output_type": "display_data"
    },
    {
     "data": {
      "application/vnd.jupyter.widget-view+json": {
       "model_id": "dc1c832b7832455dacc3eab7e499910f",
       "version_major": 2,
       "version_minor": 0
      },
      "text/plain": [
       "Processing rows for 1994-01:   0%|          | 0/175109 [00:00<?, ?it/s]"
      ]
     },
     "metadata": {},
     "output_type": "display_data"
    },
    {
     "data": {
      "application/vnd.jupyter.widget-view+json": {
       "model_id": "ee799494f9de46f1b8df10542c90d4e9",
       "version_major": 2,
       "version_minor": 0
      },
      "text/plain": [
       "Processing rows for 1998-12:   0%|          | 0/21559 [00:00<?, ?it/s]"
      ]
     },
     "metadata": {},
     "output_type": "display_data"
    },
    {
     "data": {
      "application/vnd.jupyter.widget-view+json": {
       "model_id": "87bb5a68a8d14ea2a8569c2d093be1a4",
       "version_major": 2,
       "version_minor": 0
      },
      "text/plain": [
       "Processing rows for 1995-04:   0%|          | 0/58974 [00:00<?, ?it/s]"
      ]
     },
     "metadata": {},
     "output_type": "display_data"
    },
    {
     "data": {
      "application/vnd.jupyter.widget-view+json": {
       "model_id": "87a89d940580492e9de51eccf05b5a36",
       "version_major": 2,
       "version_minor": 0
      },
      "text/plain": [
       "Processing rows for 2016-07:   0%|          | 0/114932 [00:00<?, ?it/s]"
      ]
     },
     "metadata": {},
     "output_type": "display_data"
    },
    {
     "data": {
      "application/vnd.jupyter.widget-view+json": {
       "model_id": "594638884c814d4b8cf3c02e58e0f7e3",
       "version_major": 2,
       "version_minor": 0
      },
      "text/plain": [
       "Processing rows for 1980-06:   0%|          | 0/70486 [00:00<?, ?it/s]"
      ]
     },
     "metadata": {},
     "output_type": "display_data"
    },
    {
     "data": {
      "application/vnd.jupyter.widget-view+json": {
       "model_id": "40891aee424346a2b6d3b40efd124e69",
       "version_major": 2,
       "version_minor": 0
      },
      "text/plain": [
       "Processing rows for 1986-03:   0%|          | 0/31811 [00:00<?, ?it/s]"
      ]
     },
     "metadata": {},
     "output_type": "display_data"
    },
    {
     "data": {
      "application/vnd.jupyter.widget-view+json": {
       "model_id": "7a08d749b8e04995933001fb3e59c667",
       "version_major": 2,
       "version_minor": 0
      },
      "text/plain": [
       "Processing rows for 2003-07:   0%|          | 0/68354 [00:00<?, ?it/s]"
      ]
     },
     "metadata": {},
     "output_type": "display_data"
    },
    {
     "data": {
      "application/vnd.jupyter.widget-view+json": {
       "model_id": "556b4b02c5d7424694ccb318698676f4",
       "version_major": 2,
       "version_minor": 0
      },
      "text/plain": [
       "Processing rows for 1980-12:   0%|          | 0/29666 [00:00<?, ?it/s]"
      ]
     },
     "metadata": {},
     "output_type": "display_data"
    },
    {
     "data": {
      "application/vnd.jupyter.widget-view+json": {
       "model_id": "b41c53a001bd441084df4870ec0cc35c",
       "version_major": 2,
       "version_minor": 0
      },
      "text/plain": [
       "Processing rows for 1993-04:   0%|          | 0/59292 [00:00<?, ?it/s]"
      ]
     },
     "metadata": {},
     "output_type": "display_data"
    },
    {
     "data": {
      "application/vnd.jupyter.widget-view+json": {
       "model_id": "b848aa35ce584750810edf5815f8ebf5",
       "version_major": 2,
       "version_minor": 0
      },
      "text/plain": [
       "Processing rows for 2004-11:   0%|          | 0/21184 [00:00<?, ?it/s]"
      ]
     },
     "metadata": {},
     "output_type": "display_data"
    },
    {
     "data": {
      "application/vnd.jupyter.widget-view+json": {
       "model_id": "d18cca6520434a8894b8732c6d437a19",
       "version_major": 2,
       "version_minor": 0
      },
      "text/plain": [
       "Processing rows for 2011-10:   0%|          | 0/34838 [00:00<?, ?it/s]"
      ]
     },
     "metadata": {},
     "output_type": "display_data"
    },
    {
     "data": {
      "application/vnd.jupyter.widget-view+json": {
       "model_id": "dde689aca2fd40f4bf7b3dfc672a90f3",
       "version_major": 2,
       "version_minor": 0
      },
      "text/plain": [
       "Processing rows for 1982-01:   0%|          | 0/70031 [00:00<?, ?it/s]"
      ]
     },
     "metadata": {},
     "output_type": "display_data"
    },
    {
     "data": {
      "application/vnd.jupyter.widget-view+json": {
       "model_id": "05708d4fa2514f72b6c00ef574d20882",
       "version_major": 2,
       "version_minor": 0
      },
      "text/plain": [
       "Processing rows for 1988-09:   0%|          | 0/49572 [00:00<?, ?it/s]"
      ]
     },
     "metadata": {},
     "output_type": "display_data"
    },
    {
     "data": {
      "application/vnd.jupyter.widget-view+json": {
       "model_id": "2f163eb12b6b4d43b34d311a806511d0",
       "version_major": 2,
       "version_minor": 0
      },
      "text/plain": [
       "Processing rows for 1985-04:   0%|          | 0/24643 [00:00<?, ?it/s]"
      ]
     },
     "metadata": {},
     "output_type": "display_data"
    },
    {
     "data": {
      "application/vnd.jupyter.widget-view+json": {
       "model_id": "9081a9c06c1c4db09e4b1b98f31b8fe2",
       "version_major": 2,
       "version_minor": 0
      },
      "text/plain": [
       "Processing rows for 1984-11:   0%|          | 0/28796 [00:00<?, ?it/s]"
      ]
     },
     "metadata": {},
     "output_type": "display_data"
    },
    {
     "data": {
      "application/vnd.jupyter.widget-view+json": {
       "model_id": "1c1885f3293e428a990be7433924afbb",
       "version_major": 2,
       "version_minor": 0
      },
      "text/plain": [
       "Processing rows for 2006-10:   0%|          | 0/8999 [00:00<?, ?it/s]"
      ]
     },
     "metadata": {},
     "output_type": "display_data"
    },
    {
     "data": {
      "application/vnd.jupyter.widget-view+json": {
       "model_id": "b7a4cf7637374e92b1bede8e2c990525",
       "version_major": 2,
       "version_minor": 0
      },
      "text/plain": [
       "Processing rows for 2016-09:   0%|          | 0/47656 [00:00<?, ?it/s]"
      ]
     },
     "metadata": {},
     "output_type": "display_data"
    },
    {
     "data": {
      "application/vnd.jupyter.widget-view+json": {
       "model_id": "90ccac33f7f94283b40cc6b8d1819f17",
       "version_major": 2,
       "version_minor": 0
      },
      "text/plain": [
       "Processing rows for 2014-06:   0%|          | 0/62708 [00:00<?, ?it/s]"
      ]
     },
     "metadata": {},
     "output_type": "display_data"
    },
    {
     "data": {
      "application/vnd.jupyter.widget-view+json": {
       "model_id": "aec963fee04f42d694e6dcf56010ed18",
       "version_major": 2,
       "version_minor": 0
      },
      "text/plain": [
       "Processing rows for 2018-12:   0%|          | 0/1677 [00:00<?, ?it/s]"
      ]
     },
     "metadata": {},
     "output_type": "display_data"
    },
    {
     "data": {
      "application/vnd.jupyter.widget-view+json": {
       "model_id": "33bc473547334bbba34cc449238327d8",
       "version_major": 2,
       "version_minor": 0
      },
      "text/plain": [
       "Processing rows for 1979-04:   0%|          | 0/38961 [00:00<?, ?it/s]"
      ]
     },
     "metadata": {},
     "output_type": "display_data"
    },
    {
     "data": {
      "application/vnd.jupyter.widget-view+json": {
       "model_id": "03f4a6f474b64e0481eb9035c6918352",
       "version_major": 2,
       "version_minor": 0
      },
      "text/plain": [
       "Processing rows for 2014-01:   0%|          | 0/11050 [00:00<?, ?it/s]"
      ]
     },
     "metadata": {},
     "output_type": "display_data"
    },
    {
     "data": {
      "application/vnd.jupyter.widget-view+json": {
       "model_id": "ec1b166017a34672808e2c9be8d65e81",
       "version_major": 2,
       "version_minor": 0
      },
      "text/plain": [
       "Processing rows for 2003-04:   0%|          | 0/62737 [00:00<?, ?it/s]"
      ]
     },
     "metadata": {},
     "output_type": "display_data"
    },
    {
     "data": {
      "application/vnd.jupyter.widget-view+json": {
       "model_id": "b8eff877db744d39863eba37aea7f565",
       "version_major": 2,
       "version_minor": 0
      },
      "text/plain": [
       "Processing rows for 2003-12:   0%|          | 0/62008 [00:00<?, ?it/s]"
      ]
     },
     "metadata": {},
     "output_type": "display_data"
    },
    {
     "data": {
      "application/vnd.jupyter.widget-view+json": {
       "model_id": "960d309b991a460b9a0b089eb2cb2f82",
       "version_major": 2,
       "version_minor": 0
      },
      "text/plain": [
       "Processing rows for 2017-01:   0%|          | 0/73427 [00:00<?, ?it/s]"
      ]
     },
     "metadata": {},
     "output_type": "display_data"
    },
    {
     "data": {
      "application/vnd.jupyter.widget-view+json": {
       "model_id": "0f661b0e20fa4426ada656e0d9822d27",
       "version_major": 2,
       "version_minor": 0
      },
      "text/plain": [
       "Processing rows for 1981-02:   0%|          | 0/14522 [00:00<?, ?it/s]"
      ]
     },
     "metadata": {},
     "output_type": "display_data"
    },
    {
     "data": {
      "application/vnd.jupyter.widget-view+json": {
       "model_id": "7c9bda2b8f164128b2ab5235188f7fe6",
       "version_major": 2,
       "version_minor": 0
      },
      "text/plain": [
       "Processing rows for 1992-06:   0%|          | 0/57249 [00:00<?, ?it/s]"
      ]
     },
     "metadata": {},
     "output_type": "display_data"
    },
    {
     "data": {
      "application/vnd.jupyter.widget-view+json": {
       "model_id": "8f29eb81fee54c81b8084a5d3f6ecd8d",
       "version_major": 2,
       "version_minor": 0
      },
      "text/plain": [
       "Processing rows for 2001-10:   0%|          | 0/39560 [00:00<?, ?it/s]"
      ]
     },
     "metadata": {},
     "output_type": "display_data"
    },
    {
     "data": {
      "application/vnd.jupyter.widget-view+json": {
       "model_id": "014468b0a6f94859872474aae0a4116a",
       "version_major": 2,
       "version_minor": 0
      },
      "text/plain": [
       "Processing rows for 1997-09:   0%|          | 0/36747 [00:00<?, ?it/s]"
      ]
     },
     "metadata": {},
     "output_type": "display_data"
    },
    {
     "data": {
      "application/vnd.jupyter.widget-view+json": {
       "model_id": "104b3b9d6fa544bdb53009d5e920f458",
       "version_major": 2,
       "version_minor": 0
      },
      "text/plain": [
       "Processing rows for 2012-01:   0%|          | 0/22482 [00:00<?, ?it/s]"
      ]
     },
     "metadata": {},
     "output_type": "display_data"
    },
    {
     "data": {
      "application/vnd.jupyter.widget-view+json": {
       "model_id": "958a254ce7db48419a2e6905cba05b8f",
       "version_major": 2,
       "version_minor": 0
      },
      "text/plain": [
       "Processing rows for 2017-04:   0%|          | 0/17761 [00:00<?, ?it/s]"
      ]
     },
     "metadata": {},
     "output_type": "display_data"
    },
    {
     "data": {
      "application/vnd.jupyter.widget-view+json": {
       "model_id": "270f90c2a1a14f3da633bcd80951b915",
       "version_major": 2,
       "version_minor": 0
      },
      "text/plain": [
       "Processing rows for 1991-03:   0%|          | 0/36876 [00:00<?, ?it/s]"
      ]
     },
     "metadata": {},
     "output_type": "display_data"
    },
    {
     "data": {
      "application/vnd.jupyter.widget-view+json": {
       "model_id": "b24d54fb1d414388a1f236f8eb5e97a4",
       "version_major": 2,
       "version_minor": 0
      },
      "text/plain": [
       "Processing rows for 1982-03:   0%|          | 0/11459 [00:00<?, ?it/s]"
      ]
     },
     "metadata": {},
     "output_type": "display_data"
    },
    {
     "data": {
      "application/vnd.jupyter.widget-view+json": {
       "model_id": "5ceaf4911e12471db73e50fefbb754e8",
       "version_major": 2,
       "version_minor": 0
      },
      "text/plain": [
       "Processing rows for 1980-05:   0%|          | 0/61639 [00:00<?, ?it/s]"
      ]
     },
     "metadata": {},
     "output_type": "display_data"
    },
    {
     "data": {
      "application/vnd.jupyter.widget-view+json": {
       "model_id": "b3e38d7eb7884f388df8d8c3df144379",
       "version_major": 2,
       "version_minor": 0
      },
      "text/plain": [
       "Processing rows for 2004-03:   0%|          | 0/22500 [00:00<?, ?it/s]"
      ]
     },
     "metadata": {},
     "output_type": "display_data"
    },
    {
     "data": {
      "application/vnd.jupyter.widget-view+json": {
       "model_id": "861ab35347da4f3bb4511ba4ba068658",
       "version_major": 2,
       "version_minor": 0
      },
      "text/plain": [
       "Processing rows for 2005-06:   0%|          | 0/34620 [00:00<?, ?it/s]"
      ]
     },
     "metadata": {},
     "output_type": "display_data"
    },
    {
     "data": {
      "application/vnd.jupyter.widget-view+json": {
       "model_id": "c90c1b727a59495f960f5be1857517e1",
       "version_major": 2,
       "version_minor": 0
      },
      "text/plain": [
       "Processing rows for 2018-05:   0%|          | 0/62835 [00:00<?, ?it/s]"
      ]
     },
     "metadata": {},
     "output_type": "display_data"
    },
    {
     "data": {
      "application/vnd.jupyter.widget-view+json": {
       "model_id": "203ffc3b88ed4351a3ccc599fd057abe",
       "version_major": 2,
       "version_minor": 0
      },
      "text/plain": [
       "Processing rows for 2011-06:   0%|          | 0/27078 [00:00<?, ?it/s]"
      ]
     },
     "metadata": {},
     "output_type": "display_data"
    },
    {
     "data": {
      "application/vnd.jupyter.widget-view+json": {
       "model_id": "16b4251afaaa434cbb87edf928bf0877",
       "version_major": 2,
       "version_minor": 0
      },
      "text/plain": [
       "Processing rows for 1986-02:   0%|          | 0/31728 [00:00<?, ?it/s]"
      ]
     },
     "metadata": {},
     "output_type": "display_data"
    },
    {
     "data": {
      "application/vnd.jupyter.widget-view+json": {
       "model_id": "c79be4b479bc49b8b9d83488fe27acc8",
       "version_major": 2,
       "version_minor": 0
      },
      "text/plain": [
       "Processing rows for 2005-05:   0%|          | 0/16634 [00:00<?, ?it/s]"
      ]
     },
     "metadata": {},
     "output_type": "display_data"
    },
    {
     "data": {
      "application/vnd.jupyter.widget-view+json": {
       "model_id": "c390fd4552a24115b92dc95729cd67a9",
       "version_major": 2,
       "version_minor": 0
      },
      "text/plain": [
       "Processing rows for 1989-11:   0%|          | 0/60587 [00:00<?, ?it/s]"
      ]
     },
     "metadata": {},
     "output_type": "display_data"
    },
    {
     "data": {
      "application/vnd.jupyter.widget-view+json": {
       "model_id": "635cec28d4c3476e858b19f7fcf811e8",
       "version_major": 2,
       "version_minor": 0
      },
      "text/plain": [
       "Processing rows for 1979-08:   0%|          | 0/44278 [00:00<?, ?it/s]"
      ]
     },
     "metadata": {},
     "output_type": "display_data"
    },
    {
     "data": {
      "application/vnd.jupyter.widget-view+json": {
       "model_id": "b608f2ab75d043a9ac4982af63f6168a",
       "version_major": 2,
       "version_minor": 0
      },
      "text/plain": [
       "Processing rows for 2003-02:   0%|          | 0/62007 [00:00<?, ?it/s]"
      ]
     },
     "metadata": {},
     "output_type": "display_data"
    },
    {
     "data": {
      "application/vnd.jupyter.widget-view+json": {
       "model_id": "4a86b80f939a4edf8189f376165df33f",
       "version_major": 2,
       "version_minor": 0
      },
      "text/plain": [
       "Processing rows for 2002-06:   0%|          | 0/53867 [00:00<?, ?it/s]"
      ]
     },
     "metadata": {},
     "output_type": "display_data"
    },
    {
     "data": {
      "application/vnd.jupyter.widget-view+json": {
       "model_id": "3810a06a45f248f3aa9c86f95bc43ca2",
       "version_major": 2,
       "version_minor": 0
      },
      "text/plain": [
       "Processing rows for 1996-03:   0%|          | 0/40083 [00:00<?, ?it/s]"
      ]
     },
     "metadata": {},
     "output_type": "display_data"
    },
    {
     "data": {
      "application/vnd.jupyter.widget-view+json": {
       "model_id": "4a720fa7eb7a4850a1c4e1d5db90ccc2",
       "version_major": 2,
       "version_minor": 0
      },
      "text/plain": [
       "Processing rows for 1995-11:   0%|          | 0/50168 [00:00<?, ?it/s]"
      ]
     },
     "metadata": {},
     "output_type": "display_data"
    },
    {
     "data": {
      "application/vnd.jupyter.widget-view+json": {
       "model_id": "d24d2790ce3d4ed4972e884889f58554",
       "version_major": 2,
       "version_minor": 0
      },
      "text/plain": [
       "Processing rows for 1992-03:   0%|          | 0/38518 [00:00<?, ?it/s]"
      ]
     },
     "metadata": {},
     "output_type": "display_data"
    },
    {
     "data": {
      "application/vnd.jupyter.widget-view+json": {
       "model_id": "82d38ba1ee2e40e99948bae2445a38b1",
       "version_major": 2,
       "version_minor": 0
      },
      "text/plain": [
       "Processing rows for 2011-04:   0%|          | 0/19148 [00:00<?, ?it/s]"
      ]
     },
     "metadata": {},
     "output_type": "display_data"
    },
    {
     "data": {
      "application/vnd.jupyter.widget-view+json": {
       "model_id": "fab06656fa7642ca954e21e7ecfbbd4e",
       "version_major": 2,
       "version_minor": 0
      },
      "text/plain": [
       "Processing rows for 2007-07:   0%|          | 0/149717 [00:00<?, ?it/s]"
      ]
     },
     "metadata": {},
     "output_type": "display_data"
    },
    {
     "data": {
      "application/vnd.jupyter.widget-view+json": {
       "model_id": "4e3544b42254465bb783c6f9f30c7a20",
       "version_major": 2,
       "version_minor": 0
      },
      "text/plain": [
       "Processing rows for 2015-02:   0%|          | 0/5409 [00:00<?, ?it/s]"
      ]
     },
     "metadata": {},
     "output_type": "display_data"
    },
    {
     "data": {
      "application/vnd.jupyter.widget-view+json": {
       "model_id": "77a6c04cecb745779a03e3605160e58f",
       "version_major": 2,
       "version_minor": 0
      },
      "text/plain": [
       "Processing rows for 2010-06:   0%|          | 0/36080 [00:00<?, ?it/s]"
      ]
     },
     "metadata": {},
     "output_type": "display_data"
    },
    {
     "data": {
      "application/vnd.jupyter.widget-view+json": {
       "model_id": "ea50a3afec9e48a798091d6803d9ff29",
       "version_major": 2,
       "version_minor": 0
      },
      "text/plain": [
       "Processing rows for 2001-04:   0%|          | 0/32432 [00:00<?, ?it/s]"
      ]
     },
     "metadata": {},
     "output_type": "display_data"
    },
    {
     "data": {
      "application/vnd.jupyter.widget-view+json": {
       "model_id": "9d661cc9780149f496ebff59bb7cb570",
       "version_major": 2,
       "version_minor": 0
      },
      "text/plain": [
       "Processing rows for 1979-05:   0%|          | 0/77418 [00:00<?, ?it/s]"
      ]
     },
     "metadata": {},
     "output_type": "display_data"
    },
    {
     "data": {
      "application/vnd.jupyter.widget-view+json": {
       "model_id": "0f2e30ba549e4ca2a630f6158e306c86",
       "version_major": 2,
       "version_minor": 0
      },
      "text/plain": [
       "Processing rows for 1999-08:   0%|          | 0/45813 [00:00<?, ?it/s]"
      ]
     },
     "metadata": {},
     "output_type": "display_data"
    },
    {
     "data": {
      "application/vnd.jupyter.widget-view+json": {
       "model_id": "a09c8b0e7b3b4117b06b3636e6493d19",
       "version_major": 2,
       "version_minor": 0
      },
      "text/plain": [
       "Processing rows for 1999-06:   0%|          | 0/47515 [00:00<?, ?it/s]"
      ]
     },
     "metadata": {},
     "output_type": "display_data"
    },
    {
     "data": {
      "application/vnd.jupyter.widget-view+json": {
       "model_id": "73974db43fe547d09a0f033c2b7bd0e7",
       "version_major": 2,
       "version_minor": 0
      },
      "text/plain": [
       "Processing rows for 1987-08:   0%|          | 0/44893 [00:00<?, ?it/s]"
      ]
     },
     "metadata": {},
     "output_type": "display_data"
    },
    {
     "data": {
      "application/vnd.jupyter.widget-view+json": {
       "model_id": "43885f1108164cc08de8e0718f3dd19a",
       "version_major": 2,
       "version_minor": 0
      },
      "text/plain": [
       "Processing rows for 1988-01:   0%|          | 0/257262 [00:00<?, ?it/s]"
      ]
     },
     "metadata": {},
     "output_type": "display_data"
    },
    {
     "data": {
      "application/vnd.jupyter.widget-view+json": {
       "model_id": "fe29e14c228640c3a70fed4af35dea97",
       "version_major": 2,
       "version_minor": 0
      },
      "text/plain": [
       "Processing rows for 2006-09:   0%|          | 0/14055 [00:00<?, ?it/s]"
      ]
     },
     "metadata": {},
     "output_type": "display_data"
    },
    {
     "data": {
      "application/vnd.jupyter.widget-view+json": {
       "model_id": "aa2c563a48164a82a37865b065ad25b4",
       "version_major": 2,
       "version_minor": 0
      },
      "text/plain": [
       "Processing rows for 2007-11:   0%|          | 0/6432 [00:00<?, ?it/s]"
      ]
     },
     "metadata": {},
     "output_type": "display_data"
    },
    {
     "data": {
      "application/vnd.jupyter.widget-view+json": {
       "model_id": "ecc2bcc392704faab9825b75395d6f4d",
       "version_major": 2,
       "version_minor": 0
      },
      "text/plain": [
       "Processing rows for 2004-08:   0%|          | 0/34458 [00:00<?, ?it/s]"
      ]
     },
     "metadata": {},
     "output_type": "display_data"
    },
    {
     "data": {
      "application/vnd.jupyter.widget-view+json": {
       "model_id": "46558c884fe346a2b4eba47f94d91f94",
       "version_major": 2,
       "version_minor": 0
      },
      "text/plain": [
       "Processing rows for 2017-02:   0%|          | 0/52760 [00:00<?, ?it/s]"
      ]
     },
     "metadata": {},
     "output_type": "display_data"
    },
    {
     "data": {
      "application/vnd.jupyter.widget-view+json": {
       "model_id": "10c5179d28054536a674f86f41f0f360",
       "version_major": 2,
       "version_minor": 0
      },
      "text/plain": [
       "Processing rows for 1981-05:   0%|          | 0/18000 [00:00<?, ?it/s]"
      ]
     },
     "metadata": {},
     "output_type": "display_data"
    },
    {
     "data": {
      "application/vnd.jupyter.widget-view+json": {
       "model_id": "18fe8db78a3c4a6297c2377b5d44329f",
       "version_major": 2,
       "version_minor": 0
      },
      "text/plain": [
       "Processing rows for 1993-12:   0%|          | 0/42306 [00:00<?, ?it/s]"
      ]
     },
     "metadata": {},
     "output_type": "display_data"
    },
    {
     "data": {
      "application/vnd.jupyter.widget-view+json": {
       "model_id": "8a69634d950c43c299ac728209fd9fb2",
       "version_major": 2,
       "version_minor": 0
      },
      "text/plain": [
       "Processing rows for 2013-02:   0%|          | 0/4834 [00:00<?, ?it/s]"
      ]
     },
     "metadata": {},
     "output_type": "display_data"
    },
    {
     "data": {
      "application/vnd.jupyter.widget-view+json": {
       "model_id": "9e1eb138f2444edfb46eaf0a1d228d0d",
       "version_major": 2,
       "version_minor": 0
      },
      "text/plain": [
       "Processing rows for 2011-11:   0%|          | 0/13757 [00:00<?, ?it/s]"
      ]
     },
     "metadata": {},
     "output_type": "display_data"
    },
    {
     "data": {
      "application/vnd.jupyter.widget-view+json": {
       "model_id": "3394b9404e834659a8b40ef8be03725c",
       "version_major": 2,
       "version_minor": 0
      },
      "text/plain": [
       "Processing rows for 2001-01:   0%|          | 0/129069 [00:00<?, ?it/s]"
      ]
     },
     "metadata": {},
     "output_type": "display_data"
    },
    {
     "data": {
      "application/vnd.jupyter.widget-view+json": {
       "model_id": "fffdf28fa1b749429f148a232a3866a3",
       "version_major": 2,
       "version_minor": 0
      },
      "text/plain": [
       "Processing rows for 2014-10:   0%|          | 0/9006 [00:00<?, ?it/s]"
      ]
     },
     "metadata": {},
     "output_type": "display_data"
    },
    {
     "data": {
      "application/vnd.jupyter.widget-view+json": {
       "model_id": "cb9f8b6de5104708a3e71311960cd9f8",
       "version_major": 2,
       "version_minor": 0
      },
      "text/plain": [
       "Processing rows for 1982-08:   0%|          | 0/14224 [00:00<?, ?it/s]"
      ]
     },
     "metadata": {},
     "output_type": "display_data"
    },
    {
     "data": {
      "application/vnd.jupyter.widget-view+json": {
       "model_id": "4c64e1aa2d3c4232ab0763889d2ee9b6",
       "version_major": 2,
       "version_minor": 0
      },
      "text/plain": [
       "Processing rows for 2007-12:   0%|          | 0/5376 [00:00<?, ?it/s]"
      ]
     },
     "metadata": {},
     "output_type": "display_data"
    },
    {
     "data": {
      "application/vnd.jupyter.widget-view+json": {
       "model_id": "24849631632541e9bf83c42594a6ac2e",
       "version_major": 2,
       "version_minor": 0
      },
      "text/plain": [
       "Processing rows for 2009-03:   0%|          | 0/8233 [00:00<?, ?it/s]"
      ]
     },
     "metadata": {},
     "output_type": "display_data"
    },
    {
     "data": {
      "application/vnd.jupyter.widget-view+json": {
       "model_id": "c8a51e558c3d4a85b7a2d6e9c0add3eb",
       "version_major": 2,
       "version_minor": 0
      },
      "text/plain": [
       "Processing rows for 2010-03:   0%|          | 0/4864 [00:00<?, ?it/s]"
      ]
     },
     "metadata": {},
     "output_type": "display_data"
    },
    {
     "data": {
      "application/vnd.jupyter.widget-view+json": {
       "model_id": "2c26ff557bc44581b3304974e0bd867c",
       "version_major": 2,
       "version_minor": 0
      },
      "text/plain": [
       "Processing rows for 2005-10:   0%|          | 0/11504 [00:00<?, ?it/s]"
      ]
     },
     "metadata": {},
     "output_type": "display_data"
    },
    {
     "data": {
      "application/vnd.jupyter.widget-view+json": {
       "model_id": "1e67087ab39d426ab8cbdb6a9ef1fe7c",
       "version_major": 2,
       "version_minor": 0
      },
      "text/plain": [
       "Processing rows for 1989-09:   0%|          | 0/65804 [00:00<?, ?it/s]"
      ]
     },
     "metadata": {},
     "output_type": "display_data"
    },
    {
     "data": {
      "application/vnd.jupyter.widget-view+json": {
       "model_id": "2da03c4747414442b544f121532dda2d",
       "version_major": 2,
       "version_minor": 0
      },
      "text/plain": [
       "Processing rows for 1982-09:   0%|          | 0/13307 [00:00<?, ?it/s]"
      ]
     },
     "metadata": {},
     "output_type": "display_data"
    },
    {
     "data": {
      "application/vnd.jupyter.widget-view+json": {
       "model_id": "80f8ca6659a34c6ca8fd6fd7d44d16d3",
       "version_major": 2,
       "version_minor": 0
      },
      "text/plain": [
       "Processing rows for 2018-10:   0%|          | 0/16317 [00:00<?, ?it/s]"
      ]
     },
     "metadata": {},
     "output_type": "display_data"
    },
    {
     "data": {
      "application/vnd.jupyter.widget-view+json": {
       "model_id": "00f97b2bdc6c46c2882948b71be70fc0",
       "version_major": 2,
       "version_minor": 0
      },
      "text/plain": [
       "Processing rows for 1991-09:   0%|          | 0/47403 [00:00<?, ?it/s]"
      ]
     },
     "metadata": {},
     "output_type": "display_data"
    },
    {
     "data": {
      "application/vnd.jupyter.widget-view+json": {
       "model_id": "f611738293914cbc98f755c8ac05dff9",
       "version_major": 2,
       "version_minor": 0
      },
      "text/plain": [
       "Processing rows for 1986-11:   0%|          | 0/32975 [00:00<?, ?it/s]"
      ]
     },
     "metadata": {},
     "output_type": "display_data"
    },
    {
     "data": {
      "application/vnd.jupyter.widget-view+json": {
       "model_id": "ad7a7a30c14b4cd9ab94f88606f573f6",
       "version_major": 2,
       "version_minor": 0
      },
      "text/plain": [
       "Processing rows for 1979-01:   0%|          | 0/93962 [00:00<?, ?it/s]"
      ]
     },
     "metadata": {},
     "output_type": "display_data"
    },
    {
     "data": {
      "application/vnd.jupyter.widget-view+json": {
       "model_id": "02271042283149a8a600eb2d99c37548",
       "version_major": 2,
       "version_minor": 0
      },
      "text/plain": [
       "Processing rows for 1987-01:   0%|          | 0/198274 [00:00<?, ?it/s]"
      ]
     },
     "metadata": {},
     "output_type": "display_data"
    },
    {
     "data": {
      "application/vnd.jupyter.widget-view+json": {
       "model_id": "c3f0c0fa45a5467684c40cfef0df1712",
       "version_major": 2,
       "version_minor": 0
      },
      "text/plain": [
       "Processing rows for 1993-07:   0%|          | 0/53979 [00:00<?, ?it/s]"
      ]
     },
     "metadata": {},
     "output_type": "display_data"
    },
    {
     "data": {
      "application/vnd.jupyter.widget-view+json": {
       "model_id": "e87dcdaef3df4fed9a052a1ea33bfa65",
       "version_major": 2,
       "version_minor": 0
      },
      "text/plain": [
       "Processing rows for 1991-07:   0%|          | 0/80559 [00:00<?, ?it/s]"
      ]
     },
     "metadata": {},
     "output_type": "display_data"
    },
    {
     "data": {
      "application/vnd.jupyter.widget-view+json": {
       "model_id": "8d99b7f14ee8431bb0d65389a46b7cdf",
       "version_major": 2,
       "version_minor": 0
      },
      "text/plain": [
       "Processing rows for 1999-09:   0%|          | 0/42829 [00:00<?, ?it/s]"
      ]
     },
     "metadata": {},
     "output_type": "display_data"
    },
    {
     "data": {
      "application/vnd.jupyter.widget-view+json": {
       "model_id": "e551b9bb353e4d3996adc50108518111",
       "version_major": 2,
       "version_minor": 0
      },
      "text/plain": [
       "Processing rows for 1995-05:   0%|          | 0/82155 [00:00<?, ?it/s]"
      ]
     },
     "metadata": {},
     "output_type": "display_data"
    },
    {
     "data": {
      "application/vnd.jupyter.widget-view+json": {
       "model_id": "3251c22c070b47338332f9629ecb7d32",
       "version_major": 2,
       "version_minor": 0
      },
      "text/plain": [
       "Processing rows for 2001-07:   0%|          | 0/66136 [00:00<?, ?it/s]"
      ]
     },
     "metadata": {},
     "output_type": "display_data"
    },
    {
     "data": {
      "application/vnd.jupyter.widget-view+json": {
       "model_id": "f292a59e4fc342f68c004487b60543a7",
       "version_major": 2,
       "version_minor": 0
      },
      "text/plain": [
       "Processing rows for 1996-10:   0%|          | 0/40909 [00:00<?, ?it/s]"
      ]
     },
     "metadata": {},
     "output_type": "display_data"
    },
    {
     "data": {
      "application/vnd.jupyter.widget-view+json": {
       "model_id": "7c0f0543c68d4f2a9423ab1208aeeedf",
       "version_major": 2,
       "version_minor": 0
      },
      "text/plain": [
       "Processing rows for 2013-10:   0%|          | 0/12331 [00:00<?, ?it/s]"
      ]
     },
     "metadata": {},
     "output_type": "display_data"
    },
    {
     "data": {
      "application/vnd.jupyter.widget-view+json": {
       "model_id": "9203b3f562a74210ad08026215c730af",
       "version_major": 2,
       "version_minor": 0
      },
      "text/plain": [
       "Processing rows for 1990-04:   0%|          | 0/51878 [00:00<?, ?it/s]"
      ]
     },
     "metadata": {},
     "output_type": "display_data"
    },
    {
     "data": {
      "application/vnd.jupyter.widget-view+json": {
       "model_id": "0bd9e53dcb4e40df9379eb7a201b6c47",
       "version_major": 2,
       "version_minor": 0
      },
      "text/plain": [
       "Processing rows for 1991-08:   0%|          | 0/47421 [00:00<?, ?it/s]"
      ]
     },
     "metadata": {},
     "output_type": "display_data"
    },
    {
     "data": {
      "application/vnd.jupyter.widget-view+json": {
       "model_id": "6a25c10969f743bdae620081b585c00e",
       "version_major": 2,
       "version_minor": 0
      },
      "text/plain": [
       "Processing rows for 2001-05:   0%|          | 0/93971 [00:00<?, ?it/s]"
      ]
     },
     "metadata": {},
     "output_type": "display_data"
    },
    {
     "data": {
      "application/vnd.jupyter.widget-view+json": {
       "model_id": "fdf82323f44e49e1828d582fa83e280e",
       "version_major": 2,
       "version_minor": 0
      },
      "text/plain": [
       "Processing rows for 2013-03:   0%|          | 0/5067 [00:00<?, ?it/s]"
      ]
     },
     "metadata": {},
     "output_type": "display_data"
    },
    {
     "data": {
      "application/vnd.jupyter.widget-view+json": {
       "model_id": "61ddf5b03dde41399cface4ffad7e41f",
       "version_major": 2,
       "version_minor": 0
      },
      "text/plain": [
       "Processing rows for 1985-10:   0%|          | 0/31230 [00:00<?, ?it/s]"
      ]
     },
     "metadata": {},
     "output_type": "display_data"
    },
    {
     "data": {
      "application/vnd.jupyter.widget-view+json": {
       "model_id": "484e9aa8b9ae4823b2041b61a64403bb",
       "version_major": 2,
       "version_minor": 0
      },
      "text/plain": [
       "Processing rows for 1980-10:   0%|          | 0/30040 [00:00<?, ?it/s]"
      ]
     },
     "metadata": {},
     "output_type": "display_data"
    },
    {
     "data": {
      "application/vnd.jupyter.widget-view+json": {
       "model_id": "33edd27f4ce644a88d98ec512c28cf39",
       "version_major": 2,
       "version_minor": 0
      },
      "text/plain": [
       "Processing rows for 1995-06:   0%|          | 0/59481 [00:00<?, ?it/s]"
      ]
     },
     "metadata": {},
     "output_type": "display_data"
    },
    {
     "data": {
      "application/vnd.jupyter.widget-view+json": {
       "model_id": "14cd2b00416d44e4a3eed5b6bf12bbfb",
       "version_major": 2,
       "version_minor": 0
      },
      "text/plain": [
       "Processing rows for 1998-11:   0%|          | 0/21705 [00:00<?, ?it/s]"
      ]
     },
     "metadata": {},
     "output_type": "display_data"
    },
    {
     "data": {
      "application/vnd.jupyter.widget-view+json": {
       "model_id": "23dba24a234e49f4bac5cbd5f1237fe4",
       "version_major": 2,
       "version_minor": 0
      },
      "text/plain": [
       "Processing rows for 2017-09:   0%|          | 0/38940 [00:00<?, ?it/s]"
      ]
     },
     "metadata": {},
     "output_type": "display_data"
    },
    {
     "data": {
      "application/vnd.jupyter.widget-view+json": {
       "model_id": "f1afe7dc3c3c4d6d82537766a4ccf84f",
       "version_major": 2,
       "version_minor": 0
      },
      "text/plain": [
       "Processing rows for 2012-02:   0%|          | 0/7109 [00:00<?, ?it/s]"
      ]
     },
     "metadata": {},
     "output_type": "display_data"
    },
    {
     "data": {
      "application/vnd.jupyter.widget-view+json": {
       "model_id": "df3c9399aaea4419a5f1005e6b22bf87",
       "version_major": 2,
       "version_minor": 0
      },
      "text/plain": [
       "Processing rows for 2014-07:   0%|          | 0/31372 [00:00<?, ?it/s]"
      ]
     },
     "metadata": {},
     "output_type": "display_data"
    },
    {
     "data": {
      "application/vnd.jupyter.widget-view+json": {
       "model_id": "5c12cc18c77a47ea89e403749270c6a4",
       "version_major": 2,
       "version_minor": 0
      },
      "text/plain": [
       "Processing rows for 1984-08:   0%|          | 0/34791 [00:00<?, ?it/s]"
      ]
     },
     "metadata": {},
     "output_type": "display_data"
    },
    {
     "data": {
      "application/vnd.jupyter.widget-view+json": {
       "model_id": "b8c816de2d2a4d5fa6db7536945dab5c",
       "version_major": 2,
       "version_minor": 0
      },
      "text/plain": [
       "Processing rows for 2011-08:   0%|          | 0/32308 [00:00<?, ?it/s]"
      ]
     },
     "metadata": {},
     "output_type": "display_data"
    },
    {
     "data": {
      "application/vnd.jupyter.widget-view+json": {
       "model_id": "b9e0783f327c46a982f5877a14b1a2da",
       "version_major": 2,
       "version_minor": 0
      },
      "text/plain": [
       "Processing rows for 2017-12:   0%|          | 0/7493 [00:00<?, ?it/s]"
      ]
     },
     "metadata": {},
     "output_type": "display_data"
    },
    {
     "data": {
      "application/vnd.jupyter.widget-view+json": {
       "model_id": "506764452a6a40808b8a3489fb3133eb",
       "version_major": 2,
       "version_minor": 0
      },
      "text/plain": [
       "Processing rows for 1988-02:   0%|          | 0/44903 [00:00<?, ?it/s]"
      ]
     },
     "metadata": {},
     "output_type": "display_data"
    },
    {
     "data": {
      "application/vnd.jupyter.widget-view+json": {
       "model_id": "19d0f19d5433495ba8380842148fb580",
       "version_major": 2,
       "version_minor": 0
      },
      "text/plain": [
       "Processing rows for 2012-10:   0%|          | 0/15709 [00:00<?, ?it/s]"
      ]
     },
     "metadata": {},
     "output_type": "display_data"
    },
    {
     "data": {
      "application/vnd.jupyter.widget-view+json": {
       "model_id": "55bdf6dc3ac54b368ccd60b29d8ec234",
       "version_major": 2,
       "version_minor": 0
      },
      "text/plain": [
       "Processing rows for 2008-09:   0%|          | 0/12472 [00:00<?, ?it/s]"
      ]
     },
     "metadata": {},
     "output_type": "display_data"
    },
    {
     "data": {
      "application/vnd.jupyter.widget-view+json": {
       "model_id": "e130d950ea4f4e3b8067203e82195b36",
       "version_major": 2,
       "version_minor": 0
      },
      "text/plain": [
       "Processing rows for 1979-06:   0%|          | 0/47922 [00:00<?, ?it/s]"
      ]
     },
     "metadata": {},
     "output_type": "display_data"
    },
    {
     "data": {
      "application/vnd.jupyter.widget-view+json": {
       "model_id": "4f9df388b7304000a6061fbfd23d7953",
       "version_major": 2,
       "version_minor": 0
      },
      "text/plain": [
       "Processing rows for 1982-04:   0%|          | 0/11795 [00:00<?, ?it/s]"
      ]
     },
     "metadata": {},
     "output_type": "display_data"
    },
    {
     "data": {
      "application/vnd.jupyter.widget-view+json": {
       "model_id": "1d64286cee4848589c1724a26cee6ecd",
       "version_major": 2,
       "version_minor": 0
      },
      "text/plain": [
       "Processing rows for 2006-06:   0%|          | 0/27199 [00:00<?, ?it/s]"
      ]
     },
     "metadata": {},
     "output_type": "display_data"
    },
    {
     "data": {
      "application/vnd.jupyter.widget-view+json": {
       "model_id": "2096506ab24d435b8fa0c5f4555e9734",
       "version_major": 2,
       "version_minor": 0
      },
      "text/plain": [
       "Processing rows for 1995-07:   0%|          | 0/65272 [00:00<?, ?it/s]"
      ]
     },
     "metadata": {},
     "output_type": "display_data"
    },
    {
     "data": {
      "application/vnd.jupyter.widget-view+json": {
       "model_id": "2086054aeb7b4f0daaf92979296b11fd",
       "version_major": 2,
       "version_minor": 0
      },
      "text/plain": [
       "Processing rows for 1996-11:   0%|          | 0/39630 [00:00<?, ?it/s]"
      ]
     },
     "metadata": {},
     "output_type": "display_data"
    },
    {
     "data": {
      "application/vnd.jupyter.widget-view+json": {
       "model_id": "ceb26c3c4ed14245a44ba4befb5ecde8",
       "version_major": 2,
       "version_minor": 0
      },
      "text/plain": [
       "Processing rows for 1990-09:   0%|          | 0/53527 [00:00<?, ?it/s]"
      ]
     },
     "metadata": {},
     "output_type": "display_data"
    },
    {
     "data": {
      "application/vnd.jupyter.widget-view+json": {
       "model_id": "c96ae36c62d64519a053cf75bab57692",
       "version_major": 2,
       "version_minor": 0
      },
      "text/plain": [
       "Processing rows for 2017-03:   0%|          | 0/12443 [00:00<?, ?it/s]"
      ]
     },
     "metadata": {},
     "output_type": "display_data"
    },
    {
     "data": {
      "application/vnd.jupyter.widget-view+json": {
       "model_id": "0cb1454c5a0d4742ad9e7f724bfed27a",
       "version_major": 2,
       "version_minor": 0
      },
      "text/plain": [
       "Processing rows for 2018-03:   0%|          | 0/7328 [00:00<?, ?it/s]"
      ]
     },
     "metadata": {},
     "output_type": "display_data"
    },
    {
     "data": {
      "application/vnd.jupyter.widget-view+json": {
       "model_id": "c5a8c6049f33415faa62e55e94e64b2e",
       "version_major": 2,
       "version_minor": 0
      },
      "text/plain": [
       "Processing rows for 2019-04:   0%|          | 0/43390 [00:00<?, ?it/s]"
      ]
     },
     "metadata": {},
     "output_type": "display_data"
    },
    {
     "data": {
      "application/vnd.jupyter.widget-view+json": {
       "model_id": "88401aab3dae443f9a7123ecce1baa80",
       "version_major": 2,
       "version_minor": 0
      },
      "text/plain": [
       "Processing rows for 2006-01:   0%|          | 0/31613 [00:00<?, ?it/s]"
      ]
     },
     "metadata": {},
     "output_type": "display_data"
    },
    {
     "data": {
      "application/vnd.jupyter.widget-view+json": {
       "model_id": "16d33ebc0ec04142ac608f6df74f0ee9",
       "version_major": 2,
       "version_minor": 0
      },
      "text/plain": [
       "Processing rows for 2006-04:   0%|          | 0/12744 [00:00<?, ?it/s]"
      ]
     },
     "metadata": {},
     "output_type": "display_data"
    },
    {
     "data": {
      "application/vnd.jupyter.widget-view+json": {
       "model_id": "59786070c09f47c08300848ec4832d63",
       "version_major": 2,
       "version_minor": 0
      },
      "text/plain": [
       "Processing rows for 1990-02:   0%|          | 0/51482 [00:00<?, ?it/s]"
      ]
     },
     "metadata": {},
     "output_type": "display_data"
    },
    {
     "data": {
      "application/vnd.jupyter.widget-view+json": {
       "model_id": "d68bad8fd977483ba274072d48403c18",
       "version_major": 2,
       "version_minor": 0
      },
      "text/plain": [
       "Processing rows for 2007-02:   0%|          | 0/5419 [00:00<?, ?it/s]"
      ]
     },
     "metadata": {},
     "output_type": "display_data"
    },
    {
     "data": {
      "application/vnd.jupyter.widget-view+json": {
       "model_id": "09b608407ee04e2ab13498ea5159c50f",
       "version_major": 2,
       "version_minor": 0
      },
      "text/plain": [
       "Processing rows for 2005-02:   0%|          | 0/8295 [00:00<?, ?it/s]"
      ]
     },
     "metadata": {},
     "output_type": "display_data"
    },
    {
     "data": {
      "application/vnd.jupyter.widget-view+json": {
       "model_id": "a2096bd6d63f4f15867ea494c76ca6e8",
       "version_major": 2,
       "version_minor": 0
      },
      "text/plain": [
       "Processing rows for 2014-11:   0%|          | 0/10937 [00:00<?, ?it/s]"
      ]
     },
     "metadata": {},
     "output_type": "display_data"
    },
    {
     "data": {
      "application/vnd.jupyter.widget-view+json": {
       "model_id": "afee9890145a4a9f80df411d362d92cf",
       "version_major": 2,
       "version_minor": 0
      },
      "text/plain": [
       "Processing rows for 1982-11:   0%|          | 0/11459 [00:00<?, ?it/s]"
      ]
     },
     "metadata": {},
     "output_type": "display_data"
    },
    {
     "data": {
      "application/vnd.jupyter.widget-view+json": {
       "model_id": "b60190882fd94d2a84dbdccefcd02186",
       "version_major": 2,
       "version_minor": 0
      },
      "text/plain": [
       "Processing rows for 2010-09:   0%|          | 0/24367 [00:00<?, ?it/s]"
      ]
     },
     "metadata": {},
     "output_type": "display_data"
    },
    {
     "data": {
      "application/vnd.jupyter.widget-view+json": {
       "model_id": "98728f6809eb42f887e526aff95623a6",
       "version_major": 2,
       "version_minor": 0
      },
      "text/plain": [
       "Processing rows for 1996-02:   0%|          | 0/40047 [00:00<?, ?it/s]"
      ]
     },
     "metadata": {},
     "output_type": "display_data"
    },
    {
     "data": {
      "application/vnd.jupyter.widget-view+json": {
       "model_id": "597d97d00863448fb666cb3197066537",
       "version_major": 2,
       "version_minor": 0
      },
      "text/plain": [
       "Processing rows for 2003-09:   0%|          | 0/65692 [00:00<?, ?it/s]"
      ]
     },
     "metadata": {},
     "output_type": "display_data"
    },
    {
     "data": {
      "application/vnd.jupyter.widget-view+json": {
       "model_id": "c26af7e4a00c45dba1ee1fcf284e5812",
       "version_major": 2,
       "version_minor": 0
      },
      "text/plain": [
       "Processing rows for 2000-08:   0%|          | 0/50311 [00:00<?, ?it/s]"
      ]
     },
     "metadata": {},
     "output_type": "display_data"
    },
    {
     "data": {
      "application/vnd.jupyter.widget-view+json": {
       "model_id": "243cf93752b74a7d974315cad28f6cce",
       "version_major": 2,
       "version_minor": 0
      },
      "text/plain": [
       "Processing rows for 1993-08:   0%|          | 0/46674 [00:00<?, ?it/s]"
      ]
     },
     "metadata": {},
     "output_type": "display_data"
    },
    {
     "data": {
      "application/vnd.jupyter.widget-view+json": {
       "model_id": "2f75e96728d14e8dad03b8e55e952097",
       "version_major": 2,
       "version_minor": 0
      },
      "text/plain": [
       "Processing rows for 2000-05:   0%|          | 0/57262 [00:00<?, ?it/s]"
      ]
     },
     "metadata": {},
     "output_type": "display_data"
    },
    {
     "data": {
      "application/vnd.jupyter.widget-view+json": {
       "model_id": "631f9e5f01f64e279e4352a3cb887faa",
       "version_major": 2,
       "version_minor": 0
      },
      "text/plain": [
       "Processing rows for 1990-11:   0%|          | 0/51273 [00:00<?, ?it/s]"
      ]
     },
     "metadata": {},
     "output_type": "display_data"
    },
    {
     "data": {
      "application/vnd.jupyter.widget-view+json": {
       "model_id": "a582ca44c3744fe4a595d53d45cefb8c",
       "version_major": 2,
       "version_minor": 0
      },
      "text/plain": [
       "Processing rows for 2002-10:   0%|          | 0/41659 [00:00<?, ?it/s]"
      ]
     },
     "metadata": {},
     "output_type": "display_data"
    },
    {
     "data": {
      "application/vnd.jupyter.widget-view+json": {
       "model_id": "e66a1e330a3c484bac9df74dfef83f82",
       "version_major": 2,
       "version_minor": 0
      },
      "text/plain": [
       "Processing rows for 2007-03:   0%|          | 0/10650 [00:00<?, ?it/s]"
      ]
     },
     "metadata": {},
     "output_type": "display_data"
    },
    {
     "data": {
      "application/vnd.jupyter.widget-view+json": {
       "model_id": "0d06f66fbb5e4a2b8e28265fb2d53997",
       "version_major": 2,
       "version_minor": 0
      },
      "text/plain": [
       "Processing rows for 1982-02:   0%|          | 0/11459 [00:00<?, ?it/s]"
      ]
     },
     "metadata": {},
     "output_type": "display_data"
    },
    {
     "data": {
      "application/vnd.jupyter.widget-view+json": {
       "model_id": "b4582599891c469db9c876bdc6ef25d1",
       "version_major": 2,
       "version_minor": 0
      },
      "text/plain": [
       "Processing rows for 2000-09:   0%|          | 0/74262 [00:00<?, ?it/s]"
      ]
     },
     "metadata": {},
     "output_type": "display_data"
    },
    {
     "data": {
      "application/vnd.jupyter.widget-view+json": {
       "model_id": "2292be01b0f648dd83adc3d1c0cbe8a5",
       "version_major": 2,
       "version_minor": 0
      },
      "text/plain": [
       "Processing rows for 1994-12:   0%|          | 0/31620 [00:00<?, ?it/s]"
      ]
     },
     "metadata": {},
     "output_type": "display_data"
    },
    {
     "data": {
      "application/vnd.jupyter.widget-view+json": {
       "model_id": "c46c8721400743798ca82169aa5c0d3f",
       "version_major": 2,
       "version_minor": 0
      },
      "text/plain": [
       "Processing rows for 1984-02:   0%|          | 0/28695 [00:00<?, ?it/s]"
      ]
     },
     "metadata": {},
     "output_type": "display_data"
    },
    {
     "data": {
      "application/vnd.jupyter.widget-view+json": {
       "model_id": "6901d690b182460896afcab2085ce9e9",
       "version_major": 2,
       "version_minor": 0
      },
      "text/plain": [
       "Processing rows for 1985-09:   0%|          | 0/33033 [00:00<?, ?it/s]"
      ]
     },
     "metadata": {},
     "output_type": "display_data"
    },
    {
     "data": {
      "application/vnd.jupyter.widget-view+json": {
       "model_id": "9a7d19b622504ddaaaba226634955a1f",
       "version_major": 2,
       "version_minor": 0
      },
      "text/plain": [
       "Processing rows for 1988-08:   0%|          | 0/57139 [00:00<?, ?it/s]"
      ]
     },
     "metadata": {},
     "output_type": "display_data"
    },
    {
     "data": {
      "application/vnd.jupyter.widget-view+json": {
       "model_id": "9b5c240477f141749a1b829bec582f3e",
       "version_major": 2,
       "version_minor": 0
      },
      "text/plain": [
       "Processing rows for 1994-08:   0%|          | 0/35661 [00:00<?, ?it/s]"
      ]
     },
     "metadata": {},
     "output_type": "display_data"
    },
    {
     "data": {
      "application/vnd.jupyter.widget-view+json": {
       "model_id": "bc5e98dd03a64b5ea7f3810785e31fc3",
       "version_major": 2,
       "version_minor": 0
      },
      "text/plain": [
       "Processing rows for 2015-12:   0%|          | 0/6946 [00:00<?, ?it/s]"
      ]
     },
     "metadata": {},
     "output_type": "display_data"
    },
    {
     "data": {
      "application/vnd.jupyter.widget-view+json": {
       "model_id": "d7cfc444a65747cbb03ecfdaa7d1231e",
       "version_major": 2,
       "version_minor": 0
      },
      "text/plain": [
       "Processing rows for 2013-12:   0%|          | 0/4711 [00:00<?, ?it/s]"
      ]
     },
     "metadata": {},
     "output_type": "display_data"
    },
    {
     "data": {
      "application/vnd.jupyter.widget-view+json": {
       "model_id": "4720fefe9de94f90915891d2790357f1",
       "version_major": 2,
       "version_minor": 0
      },
      "text/plain": [
       "Processing rows for 1989-06:   0%|          | 0/99764 [00:00<?, ?it/s]"
      ]
     },
     "metadata": {},
     "output_type": "display_data"
    },
    {
     "data": {
      "application/vnd.jupyter.widget-view+json": {
       "model_id": "4e4f72860bcb432cbb343ac39d6dcf26",
       "version_major": 2,
       "version_minor": 0
      },
      "text/plain": [
       "Processing rows for 1981-07:   0%|          | 0/40344 [00:00<?, ?it/s]"
      ]
     },
     "metadata": {},
     "output_type": "display_data"
    },
    {
     "data": {
      "application/vnd.jupyter.widget-view+json": {
       "model_id": "717ff07aa2b645a9834eb370de215be0",
       "version_major": 2,
       "version_minor": 0
      },
      "text/plain": [
       "Processing rows for 1990-08:   0%|          | 0/59018 [00:00<?, ?it/s]"
      ]
     },
     "metadata": {},
     "output_type": "display_data"
    },
    {
     "data": {
      "application/vnd.jupyter.widget-view+json": {
       "model_id": "0ce2ae419bd149619c617402b390ed9a",
       "version_major": 2,
       "version_minor": 0
      },
      "text/plain": [
       "Processing rows for 1985-08:   0%|          | 0/32493 [00:00<?, ?it/s]"
      ]
     },
     "metadata": {},
     "output_type": "display_data"
    },
    {
     "data": {
      "application/vnd.jupyter.widget-view+json": {
       "model_id": "4a58f692e42d47628dbd61a12826df95",
       "version_major": 2,
       "version_minor": 0
      },
      "text/plain": [
       "Processing rows for 2018-02:   0%|          | 0/7197 [00:00<?, ?it/s]"
      ]
     },
     "metadata": {},
     "output_type": "display_data"
    },
    {
     "data": {
      "application/vnd.jupyter.widget-view+json": {
       "model_id": "fc586c7c236648c68762f7de716d1eae",
       "version_major": 2,
       "version_minor": 0
      },
      "text/plain": [
       "Processing rows for 2016-02:   0%|          | 0/6242 [00:00<?, ?it/s]"
      ]
     },
     "metadata": {},
     "output_type": "display_data"
    },
    {
     "data": {
      "application/vnd.jupyter.widget-view+json": {
       "model_id": "e7358b632f9947718724489cd0b28d68",
       "version_major": 2,
       "version_minor": 0
      },
      "text/plain": [
       "Processing rows for 1992-08:   0%|          | 0/38104 [00:00<?, ?it/s]"
      ]
     },
     "metadata": {},
     "output_type": "display_data"
    },
    {
     "data": {
      "application/vnd.jupyter.widget-view+json": {
       "model_id": "5c62d2bddc3f47efbede17303a9376a4",
       "version_major": 2,
       "version_minor": 0
      },
      "text/plain": [
       "Processing rows for 2015-09:   0%|          | 0/19071 [00:00<?, ?it/s]"
      ]
     },
     "metadata": {},
     "output_type": "display_data"
    },
    {
     "data": {
      "application/vnd.jupyter.widget-view+json": {
       "model_id": "5620389e23f24e6eb8a11e50c95b20e8",
       "version_major": 2,
       "version_minor": 0
      },
      "text/plain": [
       "Processing rows for 1994-07:   0%|          | 0/51123 [00:00<?, ?it/s]"
      ]
     },
     "metadata": {},
     "output_type": "display_data"
    },
    {
     "data": {
      "application/vnd.jupyter.widget-view+json": {
       "model_id": "9f29a43860714179a0aca77e81eafb74",
       "version_major": 2,
       "version_minor": 0
      },
      "text/plain": [
       "Processing rows for 1985-12:   0%|          | 0/24515 [00:00<?, ?it/s]"
      ]
     },
     "metadata": {},
     "output_type": "display_data"
    },
    {
     "data": {
      "application/vnd.jupyter.widget-view+json": {
       "model_id": "c2383af02b4c4125b1771a58ea4d2d13",
       "version_major": 2,
       "version_minor": 0
      },
      "text/plain": [
       "Processing rows for 2018-07:   0%|          | 0/132605 [00:00<?, ?it/s]"
      ]
     },
     "metadata": {},
     "output_type": "display_data"
    },
    {
     "data": {
      "application/vnd.jupyter.widget-view+json": {
       "model_id": "ebda5097b53d4f289bc6d842de7b29da",
       "version_major": 2,
       "version_minor": 0
      },
      "text/plain": [
       "Processing rows for 2016-12:   0%|          | 0/8939 [00:00<?, ?it/s]"
      ]
     },
     "metadata": {},
     "output_type": "display_data"
    },
    {
     "data": {
      "application/vnd.jupyter.widget-view+json": {
       "model_id": "7871e9168f414dad9bbeea09d22bc7dc",
       "version_major": 2,
       "version_minor": 0
      },
      "text/plain": [
       "Processing rows for 1984-05:   0%|          | 0/88590 [00:00<?, ?it/s]"
      ]
     },
     "metadata": {},
     "output_type": "display_data"
    },
    {
     "data": {
      "application/vnd.jupyter.widget-view+json": {
       "model_id": "3f5b0dd7dfcd44859f939c84e3e803cc",
       "version_major": 2,
       "version_minor": 0
      },
      "text/plain": [
       "Processing rows for 2011-09:   0%|          | 0/80212 [00:00<?, ?it/s]"
      ]
     },
     "metadata": {},
     "output_type": "display_data"
    },
    {
     "data": {
      "application/vnd.jupyter.widget-view+json": {
       "model_id": "52a27c8949d544b99c53460e2a5e4ce9",
       "version_major": 2,
       "version_minor": 0
      },
      "text/plain": [
       "Processing rows for 2007-06:   0%|          | 0/77122 [00:00<?, ?it/s]"
      ]
     },
     "metadata": {},
     "output_type": "display_data"
    },
    {
     "data": {
      "application/vnd.jupyter.widget-view+json": {
       "model_id": "de11b866edaf49fbb01fa1ffd8708c31",
       "version_major": 2,
       "version_minor": 0
      },
      "text/plain": [
       "Processing rows for 1980-08:   0%|          | 0/34473 [00:00<?, ?it/s]"
      ]
     },
     "metadata": {},
     "output_type": "display_data"
    },
    {
     "data": {
      "application/vnd.jupyter.widget-view+json": {
       "model_id": "6adf1104fb444aafb262c6af3ce30bf1",
       "version_major": 2,
       "version_minor": 0
      },
      "text/plain": [
       "Processing rows for 2013-06:   0%|          | 0/80717 [00:00<?, ?it/s]"
      ]
     },
     "metadata": {},
     "output_type": "display_data"
    },
    {
     "data": {
      "application/vnd.jupyter.widget-view+json": {
       "model_id": "52288dd123da4950b43e8bbc918df05f",
       "version_major": 2,
       "version_minor": 0
      },
      "text/plain": [
       "Processing rows for 1994-03:   0%|          | 0/32344 [00:00<?, ?it/s]"
      ]
     },
     "metadata": {},
     "output_type": "display_data"
    },
    {
     "data": {
      "application/vnd.jupyter.widget-view+json": {
       "model_id": "2624fe446ea24030a4978d3619725712",
       "version_major": 2,
       "version_minor": 0
      },
      "text/plain": [
       "Processing rows for 1999-05:   0%|          | 0/63091 [00:00<?, ?it/s]"
      ]
     },
     "metadata": {},
     "output_type": "display_data"
    },
    {
     "data": {
      "application/vnd.jupyter.widget-view+json": {
       "model_id": "1cc33de7722c45abb694b7a32cb3337d",
       "version_major": 2,
       "version_minor": 0
      },
      "text/plain": [
       "Processing rows for 2015-05:   0%|          | 0/54848 [00:00<?, ?it/s]"
      ]
     },
     "metadata": {},
     "output_type": "display_data"
    },
    {
     "data": {
      "application/vnd.jupyter.widget-view+json": {
       "model_id": "a4c0fe26a2a64a50845f46ec6f75731d",
       "version_major": 2,
       "version_minor": 0
      },
      "text/plain": [
       "Processing rows for 1996-09:   0%|          | 0/40740 [00:00<?, ?it/s]"
      ]
     },
     "metadata": {},
     "output_type": "display_data"
    },
    {
     "data": {
      "application/vnd.jupyter.widget-view+json": {
       "model_id": "c66f0790858544d395f164d8144b5135",
       "version_major": 2,
       "version_minor": 0
      },
      "text/plain": [
       "Processing rows for 2008-11:   0%|          | 0/14020 [00:00<?, ?it/s]"
      ]
     },
     "metadata": {},
     "output_type": "display_data"
    },
    {
     "data": {
      "application/vnd.jupyter.widget-view+json": {
       "model_id": "a35b703cbe0d41cb9e5e696b0d7d1cc2",
       "version_major": 2,
       "version_minor": 0
      },
      "text/plain": [
       "Processing rows for 2017-10:   0%|          | 0/27780 [00:00<?, ?it/s]"
      ]
     },
     "metadata": {},
     "output_type": "display_data"
    },
    {
     "data": {
      "application/vnd.jupyter.widget-view+json": {
       "model_id": "21c8e606c2c840368e8ae9d2f94f4e6b",
       "version_major": 2,
       "version_minor": 0
      },
      "text/plain": [
       "Processing rows for 1980-01:   0%|          | 0/90392 [00:00<?, ?it/s]"
      ]
     },
     "metadata": {},
     "output_type": "display_data"
    },
    {
     "data": {
      "application/vnd.jupyter.widget-view+json": {
       "model_id": "e3d2849595e84bee92f92e35a7e6a844",
       "version_major": 2,
       "version_minor": 0
      },
      "text/plain": [
       "Processing rows for 1987-07:   0%|          | 0/48973 [00:00<?, ?it/s]"
      ]
     },
     "metadata": {},
     "output_type": "display_data"
    },
    {
     "data": {
      "application/vnd.jupyter.widget-view+json": {
       "model_id": "3546f4d3f52e4160958bbc81d206e7ce",
       "version_major": 2,
       "version_minor": 0
      },
      "text/plain": [
       "Processing rows for 1997-07:   0%|          | 0/39038 [00:00<?, ?it/s]"
      ]
     },
     "metadata": {},
     "output_type": "display_data"
    },
    {
     "data": {
      "application/vnd.jupyter.widget-view+json": {
       "model_id": "c94e344dbadc4db3b96cfb761fd7bca3",
       "version_major": 2,
       "version_minor": 0
      },
      "text/plain": [
       "Processing rows for 2016-05:   0%|          | 0/85424 [00:00<?, ?it/s]"
      ]
     },
     "metadata": {},
     "output_type": "display_data"
    },
    {
     "data": {
      "application/vnd.jupyter.widget-view+json": {
       "model_id": "e897b126437a4de8b65074469b7d152b",
       "version_major": 2,
       "version_minor": 0
      },
      "text/plain": [
       "Processing rows for 2008-07:   0%|          | 0/37608 [00:00<?, ?it/s]"
      ]
     },
     "metadata": {},
     "output_type": "display_data"
    },
    {
     "data": {
      "application/vnd.jupyter.widget-view+json": {
       "model_id": "e8d6dd2db6644fa4b6233ea0adc5875d",
       "version_major": 2,
       "version_minor": 0
      },
      "text/plain": [
       "Processing rows for 2008-03:   0%|          | 0/10868 [00:00<?, ?it/s]"
      ]
     },
     "metadata": {},
     "output_type": "display_data"
    },
    {
     "data": {
      "application/vnd.jupyter.widget-view+json": {
       "model_id": "5fa70fd9da844a41a56bcd1120d7dbfe",
       "version_major": 2,
       "version_minor": 0
      },
      "text/plain": [
       "Processing rows for 1994-10:   0%|          | 0/32809 [00:00<?, ?it/s]"
      ]
     },
     "metadata": {},
     "output_type": "display_data"
    },
    {
     "data": {
      "application/vnd.jupyter.widget-view+json": {
       "model_id": "56dcb73fa102493aaf02b00e25f8733c",
       "version_major": 2,
       "version_minor": 0
      },
      "text/plain": [
       "Processing rows for 1988-04:   0%|          | 0/45107 [00:00<?, ?it/s]"
      ]
     },
     "metadata": {},
     "output_type": "display_data"
    },
    {
     "data": {
      "application/vnd.jupyter.widget-view+json": {
       "model_id": "d5adbbecdaa74ed1a0a7786198782bab",
       "version_major": 2,
       "version_minor": 0
      },
      "text/plain": [
       "Processing rows for 1999-10:   0%|          | 0/41455 [00:00<?, ?it/s]"
      ]
     },
     "metadata": {},
     "output_type": "display_data"
    },
    {
     "data": {
      "application/vnd.jupyter.widget-view+json": {
       "model_id": "fd66467e3f584d41b47aa12f638ec073",
       "version_major": 2,
       "version_minor": 0
      },
      "text/plain": [
       "Processing rows for 1991-06:   0%|          | 0/41662 [00:00<?, ?it/s]"
      ]
     },
     "metadata": {},
     "output_type": "display_data"
    },
    {
     "data": {
      "application/vnd.jupyter.widget-view+json": {
       "model_id": "7e17485a3a2c4edca85a9037f1077369",
       "version_major": 2,
       "version_minor": 0
      },
      "text/plain": [
       "Processing rows for 2012-12:   0%|          | 0/5980 [00:00<?, ?it/s]"
      ]
     },
     "metadata": {},
     "output_type": "display_data"
    },
    {
     "data": {
      "application/vnd.jupyter.widget-view+json": {
       "model_id": "082ee10e198f46f1ac238ca1a2c6461c",
       "version_major": 2,
       "version_minor": 0
      },
      "text/plain": [
       "Processing rows for 2009-07:   0%|          | 0/18615 [00:00<?, ?it/s]"
      ]
     },
     "metadata": {},
     "output_type": "display_data"
    },
    {
     "data": {
      "application/vnd.jupyter.widget-view+json": {
       "model_id": "8e1e207d60dd402e8da266d6c8303ed4",
       "version_major": 2,
       "version_minor": 0
      },
      "text/plain": [
       "Processing rows for 2019-08:   0%|          | 0/138590 [00:00<?, ?it/s]"
      ]
     },
     "metadata": {},
     "output_type": "display_data"
    },
    {
     "data": {
      "application/vnd.jupyter.widget-view+json": {
       "model_id": "0b21b59a9f7a4fa3811b48bc096b8910",
       "version_major": 2,
       "version_minor": 0
      },
      "text/plain": [
       "Processing rows for 2011-07:   0%|          | 0/34304 [00:00<?, ?it/s]"
      ]
     },
     "metadata": {},
     "output_type": "display_data"
    },
    {
     "data": {
      "application/vnd.jupyter.widget-view+json": {
       "model_id": "5be70adba42a40e2b9e63a98f8a868a2",
       "version_major": 2,
       "version_minor": 0
      },
      "text/plain": [
       "Processing rows for 1980-07:   0%|          | 0/55954 [00:00<?, ?it/s]"
      ]
     },
     "metadata": {},
     "output_type": "display_data"
    },
    {
     "data": {
      "application/vnd.jupyter.widget-view+json": {
       "model_id": "4e9f6b2d277f4a899bd07faca76b349c",
       "version_major": 2,
       "version_minor": 0
      },
      "text/plain": [
       "Processing rows for 2010-08:   0%|          | 0/29022 [00:00<?, ?it/s]"
      ]
     },
     "metadata": {},
     "output_type": "display_data"
    },
    {
     "data": {
      "application/vnd.jupyter.widget-view+json": {
       "model_id": "168d6592fe2a46bead0b2e43a0c26df2",
       "version_major": 2,
       "version_minor": 0
      },
      "text/plain": [
       "Processing rows for 2009-05:   0%|          | 0/12582 [00:00<?, ?it/s]"
      ]
     },
     "metadata": {},
     "output_type": "display_data"
    },
    {
     "data": {
      "application/vnd.jupyter.widget-view+json": {
       "model_id": "fdbf46cd40d74a479e79eebd10da5dd7",
       "version_major": 2,
       "version_minor": 0
      },
      "text/plain": [
       "Processing rows for 2012-04:   0%|          | 0/27868 [00:00<?, ?it/s]"
      ]
     },
     "metadata": {},
     "output_type": "display_data"
    },
    {
     "data": {
      "application/vnd.jupyter.widget-view+json": {
       "model_id": "e8fc266637184e289f2877c0a28c2449",
       "version_major": 2,
       "version_minor": 0
      },
      "text/plain": [
       "Processing rows for 1981-06:   0%|          | 0/19835 [00:00<?, ?it/s]"
      ]
     },
     "metadata": {},
     "output_type": "display_data"
    },
    {
     "data": {
      "application/vnd.jupyter.widget-view+json": {
       "model_id": "5ef99f01d2584d499e7d7250a2a82404",
       "version_major": 2,
       "version_minor": 0
      },
      "text/plain": [
       "Processing rows for 1992-01:   0%|          | 0/236397 [00:00<?, ?it/s]"
      ]
     },
     "metadata": {},
     "output_type": "display_data"
    },
    {
     "data": {
      "application/vnd.jupyter.widget-view+json": {
       "model_id": "270d0f36b71744749cb0152b13d59416",
       "version_major": 2,
       "version_minor": 0
      },
      "text/plain": [
       "Processing rows for 1995-08:   0%|          | 0/52285 [00:00<?, ?it/s]"
      ]
     },
     "metadata": {},
     "output_type": "display_data"
    },
    {
     "data": {
      "application/vnd.jupyter.widget-view+json": {
       "model_id": "eba15d80ce68464f8265bb6f0f5aa1d8",
       "version_major": 2,
       "version_minor": 0
      },
      "text/plain": [
       "Processing rows for 1981-10:   0%|          | 0/15129 [00:00<?, ?it/s]"
      ]
     },
     "metadata": {},
     "output_type": "display_data"
    },
    {
     "data": {
      "application/vnd.jupyter.widget-view+json": {
       "model_id": "8e64137663594398b256cca33859d033",
       "version_major": 2,
       "version_minor": 0
      },
      "text/plain": [
       "Processing rows for 2014-04:   0%|          | 0/21650 [00:00<?, ?it/s]"
      ]
     },
     "metadata": {},
     "output_type": "display_data"
    },
    {
     "data": {
      "application/vnd.jupyter.widget-view+json": {
       "model_id": "27ae50814db34431a75f57ef6abf526b",
       "version_major": 2,
       "version_minor": 0
      },
      "text/plain": [
       "Processing rows for 2016-06:   0%|          | 0/160192 [00:00<?, ?it/s]"
      ]
     },
     "metadata": {},
     "output_type": "display_data"
    },
    {
     "data": {
      "application/vnd.jupyter.widget-view+json": {
       "model_id": "d9077c412cbc499288f185d4f33e302e",
       "version_major": 2,
       "version_minor": 0
      },
      "text/plain": [
       "Processing rows for 2010-05:   0%|          | 0/35850 [00:00<?, ?it/s]"
      ]
     },
     "metadata": {},
     "output_type": "display_data"
    },
    {
     "data": {
      "application/vnd.jupyter.widget-view+json": {
       "model_id": "5b04986b4a1342bfbad11249ea1e59cd",
       "version_major": 2,
       "version_minor": 0
      },
      "text/plain": [
       "Processing rows for 2016-10:   0%|          | 0/15549 [00:00<?, ?it/s]"
      ]
     },
     "metadata": {},
     "output_type": "display_data"
    },
    {
     "data": {
      "application/vnd.jupyter.widget-view+json": {
       "model_id": "5b38c11d4b154273aa354c79c8d4d151",
       "version_major": 2,
       "version_minor": 0
      },
      "text/plain": [
       "Processing rows for 1985-02:   0%|          | 0/24497 [00:00<?, ?it/s]"
      ]
     },
     "metadata": {},
     "output_type": "display_data"
    },
    {
     "data": {
      "application/vnd.jupyter.widget-view+json": {
       "model_id": "88cb37e678e448d78f86e89312a74482",
       "version_major": 2,
       "version_minor": 0
      },
      "text/plain": [
       "Processing rows for 2007-04:   0%|          | 0/15356 [00:00<?, ?it/s]"
      ]
     },
     "metadata": {},
     "output_type": "display_data"
    },
    {
     "data": {
      "application/vnd.jupyter.widget-view+json": {
       "model_id": "e34e7b06b57e4ce9aedc3baefe68c985",
       "version_major": 2,
       "version_minor": 0
      },
      "text/plain": [
       "Processing rows for 2009-06:   0%|          | 0/16541 [00:00<?, ?it/s]"
      ]
     },
     "metadata": {},
     "output_type": "display_data"
    },
    {
     "data": {
      "application/vnd.jupyter.widget-view+json": {
       "model_id": "1113e0a85abd43a9b332329e81869329",
       "version_major": 2,
       "version_minor": 0
      },
      "text/plain": [
       "Processing rows for 1997-06:   0%|          | 0/46722 [00:00<?, ?it/s]"
      ]
     },
     "metadata": {},
     "output_type": "display_data"
    },
    {
     "data": {
      "application/vnd.jupyter.widget-view+json": {
       "model_id": "aec32fa703e34df88f7e8c01b2ab354f",
       "version_major": 2,
       "version_minor": 0
      },
      "text/plain": [
       "Processing rows for 1997-04:   0%|          | 0/39373 [00:00<?, ?it/s]"
      ]
     },
     "metadata": {},
     "output_type": "display_data"
    },
    {
     "data": {
      "application/vnd.jupyter.widget-view+json": {
       "model_id": "27f1da28cce94b9bb1b69c9f0a2b4a4b",
       "version_major": 2,
       "version_minor": 0
      },
      "text/plain": [
       "Processing rows for 1984-07:   0%|          | 0/68560 [00:00<?, ?it/s]"
      ]
     },
     "metadata": {},
     "output_type": "display_data"
    },
    {
     "data": {
      "application/vnd.jupyter.widget-view+json": {
       "model_id": "ba86f127560c4716a46f081a366053c7",
       "version_major": 2,
       "version_minor": 0
      },
      "text/plain": [
       "Processing rows for 2003-03:   0%|          | 0/62111 [00:00<?, ?it/s]"
      ]
     },
     "metadata": {},
     "output_type": "display_data"
    },
    {
     "data": {
      "application/vnd.jupyter.widget-view+json": {
       "model_id": "73fa2c42b7cb4444ba9463821969c08b",
       "version_major": 2,
       "version_minor": 0
      },
      "text/plain": [
       "Processing rows for 2006-07:   0%|          | 0/22440 [00:00<?, ?it/s]"
      ]
     },
     "metadata": {},
     "output_type": "display_data"
    },
    {
     "data": {
      "application/vnd.jupyter.widget-view+json": {
       "model_id": "452731b8f533484b8614e736212d9ebb",
       "version_major": 2,
       "version_minor": 0
      },
      "text/plain": [
       "Processing rows for 2012-08:   0%|          | 0/51913 [00:00<?, ?it/s]"
      ]
     },
     "metadata": {},
     "output_type": "display_data"
    },
    {
     "data": {
      "application/vnd.jupyter.widget-view+json": {
       "model_id": "b883421e41f74d8c87a1915ccbca8a0a",
       "version_major": 2,
       "version_minor": 0
      },
      "text/plain": [
       "Processing rows for 2017-05:   0%|          | 0/33952 [00:00<?, ?it/s]"
      ]
     },
     "metadata": {},
     "output_type": "display_data"
    },
    {
     "data": {
      "application/vnd.jupyter.widget-view+json": {
       "model_id": "8b9c39f7f56a41f9859de134ed42d1f1",
       "version_major": 2,
       "version_minor": 0
      },
      "text/plain": [
       "Processing rows for 1992-07:   0%|          | 0/69487 [00:00<?, ?it/s]"
      ]
     },
     "metadata": {},
     "output_type": "display_data"
    },
    {
     "data": {
      "application/vnd.jupyter.widget-view+json": {
       "model_id": "840869507c45489cac8f8db2c410ed77",
       "version_major": 2,
       "version_minor": 0
      },
      "text/plain": [
       "Processing rows for 2010-04:   0%|          | 0/43610 [00:00<?, ?it/s]"
      ]
     },
     "metadata": {},
     "output_type": "display_data"
    },
    {
     "data": {
      "application/vnd.jupyter.widget-view+json": {
       "model_id": "6c3861f756e24a2dadcf97d943a092e8",
       "version_major": 2,
       "version_minor": 0
      },
      "text/plain": [
       "Processing rows for 1988-10:   0%|          | 0/49286 [00:00<?, ?it/s]"
      ]
     },
     "metadata": {},
     "output_type": "display_data"
    },
    {
     "data": {
      "application/vnd.jupyter.widget-view+json": {
       "model_id": "edf8d9ca37bc4090863277518d4fe55b",
       "version_major": 2,
       "version_minor": 0
      },
      "text/plain": [
       "Processing rows for 1986-09:   0%|          | 0/34677 [00:00<?, ?it/s]"
      ]
     },
     "metadata": {},
     "output_type": "display_data"
    },
    {
     "data": {
      "application/vnd.jupyter.widget-view+json": {
       "model_id": "e2e882aa52504ba38e526326bc04ae6d",
       "version_major": 2,
       "version_minor": 0
      },
      "text/plain": [
       "Processing rows for 2010-10:   0%|          | 0/6794 [00:00<?, ?it/s]"
      ]
     },
     "metadata": {},
     "output_type": "display_data"
    },
    {
     "data": {
      "application/vnd.jupyter.widget-view+json": {
       "model_id": "4c63596e1bd44f6a9bb2fb40cf4b74ab",
       "version_major": 2,
       "version_minor": 0
      },
      "text/plain": [
       "Processing rows for 1989-03:   0%|          | 0/61208 [00:00<?, ?it/s]"
      ]
     },
     "metadata": {},
     "output_type": "display_data"
    },
    {
     "data": {
      "application/vnd.jupyter.widget-view+json": {
       "model_id": "86c0872208594b9bb49be4973f0a6d1e",
       "version_major": 2,
       "version_minor": 0
      },
      "text/plain": [
       "Processing rows for 2015-06:   0%|          | 0/69390 [00:00<?, ?it/s]"
      ]
     },
     "metadata": {},
     "output_type": "display_data"
    },
    {
     "data": {
      "application/vnd.jupyter.widget-view+json": {
       "model_id": "aa20c8f7252b438889dad41fec61caca",
       "version_major": 2,
       "version_minor": 0
      },
      "text/plain": [
       "Processing rows for 1982-07:   0%|          | 0/18229 [00:00<?, ?it/s]"
      ]
     },
     "metadata": {},
     "output_type": "display_data"
    },
    {
     "data": {
      "application/vnd.jupyter.widget-view+json": {
       "model_id": "49e3848cd8d84bd9bd811fbb01d14a2d",
       "version_major": 2,
       "version_minor": 0
      },
      "text/plain": [
       "Processing rows for 1990-07:   0%|          | 0/97821 [00:00<?, ?it/s]"
      ]
     },
     "metadata": {},
     "output_type": "display_data"
    },
    {
     "data": {
      "application/vnd.jupyter.widget-view+json": {
       "model_id": "8871b1d1f7c14c88b4973cef27051ab9",
       "version_major": 2,
       "version_minor": 0
      },
      "text/plain": [
       "Processing rows for 2006-02:   0%|          | 0/6644 [00:00<?, ?it/s]"
      ]
     },
     "metadata": {},
     "output_type": "display_data"
    },
    {
     "data": {
      "application/vnd.jupyter.widget-view+json": {
       "model_id": "f310df762c6042b2b9100fb88d2a1c28",
       "version_major": 2,
       "version_minor": 0
      },
      "text/plain": [
       "Processing rows for 2001-03:   0%|          | 0/31865 [00:00<?, ?it/s]"
      ]
     },
     "metadata": {},
     "output_type": "display_data"
    },
    {
     "data": {
      "application/vnd.jupyter.widget-view+json": {
       "model_id": "6aa5d5b26021450fa26da98f8e8f5fb2",
       "version_major": 2,
       "version_minor": 0
      },
      "text/plain": [
       "Processing rows for 1993-01:   0%|          | 0/331740 [00:00<?, ?it/s]"
      ]
     },
     "metadata": {},
     "output_type": "display_data"
    },
    {
     "data": {
      "application/vnd.jupyter.widget-view+json": {
       "model_id": "315749739a384d0bb94069255f158761",
       "version_major": 2,
       "version_minor": 0
      },
      "text/plain": [
       "Processing rows for 1997-08:   0%|          | 0/43216 [00:00<?, ?it/s]"
      ]
     },
     "metadata": {},
     "output_type": "display_data"
    },
    {
     "data": {
      "application/vnd.jupyter.widget-view+json": {
       "model_id": "6ebd804f842c408698b5c2aa7455854c",
       "version_major": 2,
       "version_minor": 0
      },
      "text/plain": [
       "Processing rows for 2000-07:   0%|          | 0/59087 [00:00<?, ?it/s]"
      ]
     },
     "metadata": {},
     "output_type": "display_data"
    },
    {
     "data": {
      "application/vnd.jupyter.widget-view+json": {
       "model_id": "c5487fcbe5a44d1c82c4efd91001508a",
       "version_major": 2,
       "version_minor": 0
      },
      "text/plain": [
       "Processing rows for 1993-06:   0%|          | 0/64690 [00:00<?, ?it/s]"
      ]
     },
     "metadata": {},
     "output_type": "display_data"
    },
    {
     "data": {
      "application/vnd.jupyter.widget-view+json": {
       "model_id": "bf4cfed88b974e0183a9557373ac7aec",
       "version_major": 2,
       "version_minor": 0
      },
      "text/plain": [
       "Processing rows for 2009-01:   0%|          | 0/26337 [00:00<?, ?it/s]"
      ]
     },
     "metadata": {},
     "output_type": "display_data"
    },
    {
     "data": {
      "application/vnd.jupyter.widget-view+json": {
       "model_id": "c86aff2a5ac94cf09e5cc166256c4811",
       "version_major": 2,
       "version_minor": 0
      },
      "text/plain": [
       "Processing rows for 1990-05:   0%|          | 0/111630 [00:00<?, ?it/s]"
      ]
     },
     "metadata": {},
     "output_type": "display_data"
    },
    {
     "data": {
      "application/vnd.jupyter.widget-view+json": {
       "model_id": "d718a058f2ef4ae3b2999c464f8d2d21",
       "version_major": 2,
       "version_minor": 0
      },
      "text/plain": [
       "Processing rows for 1999-02:   0%|          | 0/40395 [00:00<?, ?it/s]"
      ]
     },
     "metadata": {},
     "output_type": "display_data"
    },
    {
     "data": {
      "application/vnd.jupyter.widget-view+json": {
       "model_id": "cc4cfc43401d427bb3e1a4a41a58108c",
       "version_major": 2,
       "version_minor": 0
      },
      "text/plain": [
       "Processing rows for 1998-04:   0%|          | 0/21900 [00:00<?, ?it/s]"
      ]
     },
     "metadata": {},
     "output_type": "display_data"
    },
    {
     "data": {
      "application/vnd.jupyter.widget-view+json": {
       "model_id": "33336447ef304dcd891e1d2f2ff72b4f",
       "version_major": 2,
       "version_minor": 0
      },
      "text/plain": [
       "Processing rows for 2016-04:   0%|          | 0/42271 [00:00<?, ?it/s]"
      ]
     },
     "metadata": {},
     "output_type": "display_data"
    },
    {
     "data": {
      "application/vnd.jupyter.widget-view+json": {
       "model_id": "3fc99ffe3f434488b7124f071dc59347",
       "version_major": 2,
       "version_minor": 0
      },
      "text/plain": [
       "Processing rows for 2013-04:   0%|          | 0/14321 [00:00<?, ?it/s]"
      ]
     },
     "metadata": {},
     "output_type": "display_data"
    },
    {
     "data": {
      "application/vnd.jupyter.widget-view+json": {
       "model_id": "6b3e1b67f68242cbae64719f4ab46b6d",
       "version_major": 2,
       "version_minor": 0
      },
      "text/plain": [
       "Processing rows for 2003-11:   0%|          | 0/63611 [00:00<?, ?it/s]"
      ]
     },
     "metadata": {},
     "output_type": "display_data"
    },
    {
     "data": {
      "application/vnd.jupyter.widget-view+json": {
       "model_id": "4bd9e3d469754d479fc2e33ce6770583",
       "version_major": 2,
       "version_minor": 0
      },
      "text/plain": [
       "Processing rows for 2017-07:   0%|          | 0/98948 [00:00<?, ?it/s]"
      ]
     },
     "metadata": {},
     "output_type": "display_data"
    },
    {
     "data": {
      "application/vnd.jupyter.widget-view+json": {
       "model_id": "a0a2843fe5b84b0cb5cb6101a3382246",
       "version_major": 2,
       "version_minor": 0
      },
      "text/plain": [
       "Processing rows for 2015-08:   0%|          | 0/32713 [00:00<?, ?it/s]"
      ]
     },
     "metadata": {},
     "output_type": "display_data"
    },
    {
     "data": {
      "application/vnd.jupyter.widget-view+json": {
       "model_id": "5d26d24969034bdd8414055d9b028e2f",
       "version_major": 2,
       "version_minor": 0
      },
      "text/plain": [
       "Processing rows for 1993-05:   0%|          | 0/48452 [00:00<?, ?it/s]"
      ]
     },
     "metadata": {},
     "output_type": "display_data"
    },
    {
     "data": {
      "application/vnd.jupyter.widget-view+json": {
       "model_id": "c1e3a67f4bd042fe8cfd74a38caeada5",
       "version_major": 2,
       "version_minor": 0
      },
      "text/plain": [
       "Processing rows for 2019-03:   0%|          | 0/13996 [00:00<?, ?it/s]"
      ]
     },
     "metadata": {},
     "output_type": "display_data"
    },
    {
     "data": {
      "application/vnd.jupyter.widget-view+json": {
       "model_id": "323c1ccc5cf946ff824bf8f840e40929",
       "version_major": 2,
       "version_minor": 0
      },
      "text/plain": [
       "Processing rows for 1995-02:   0%|          | 0/49516 [00:00<?, ?it/s]"
      ]
     },
     "metadata": {},
     "output_type": "display_data"
    },
    {
     "data": {
      "application/vnd.jupyter.widget-view+json": {
       "model_id": "689fef17153c45c082f48cc056327130",
       "version_major": 2,
       "version_minor": 0
      },
      "text/plain": [
       "Processing rows for 2012-06:   0%|          | 0/37815 [00:00<?, ?it/s]"
      ]
     },
     "metadata": {},
     "output_type": "display_data"
    },
    {
     "data": {
      "application/vnd.jupyter.widget-view+json": {
       "model_id": "f3c0e567239744b69500e4d9891dd2ed",
       "version_major": 2,
       "version_minor": 0
      },
      "text/plain": [
       "Processing rows for 1981-08:   0%|          | 0/19888 [00:00<?, ?it/s]"
      ]
     },
     "metadata": {},
     "output_type": "display_data"
    },
    {
     "data": {
      "application/vnd.jupyter.widget-view+json": {
       "model_id": "ddddfe7ec20b43068a10041935aa5c68",
       "version_major": 2,
       "version_minor": 0
      },
      "text/plain": [
       "Processing rows for 1981-12:   0%|          | 0/14522 [00:00<?, ?it/s]"
      ]
     },
     "metadata": {},
     "output_type": "display_data"
    },
    {
     "data": {
      "application/vnd.jupyter.widget-view+json": {
       "model_id": "1185c0cdfdea4a4fb3db1f1bae79b938",
       "version_major": 2,
       "version_minor": 0
      },
      "text/plain": [
       "Processing rows for 1990-10:   0%|          | 0/52976 [00:00<?, ?it/s]"
      ]
     },
     "metadata": {},
     "output_type": "display_data"
    },
    {
     "data": {
      "application/vnd.jupyter.widget-view+json": {
       "model_id": "cc00aee654104828866d29ec2187801b",
       "version_major": 2,
       "version_minor": 0
      },
      "text/plain": [
       "Processing rows for 1991-10:   0%|          | 0/40648 [00:00<?, ?it/s]"
      ]
     },
     "metadata": {},
     "output_type": "display_data"
    },
    {
     "data": {
      "application/vnd.jupyter.widget-view+json": {
       "model_id": "e8b9c6b32c23449d8ce1fcc4052dd35d",
       "version_major": 2,
       "version_minor": 0
      },
      "text/plain": [
       "Processing rows for 1984-09:   0%|          | 0/30674 [00:00<?, ?it/s]"
      ]
     },
     "metadata": {},
     "output_type": "display_data"
    },
    {
     "data": {
      "application/vnd.jupyter.widget-view+json": {
       "model_id": "5c63a6be7714499b9b7c1f6386ef50f3",
       "version_major": 2,
       "version_minor": 0
      },
      "text/plain": [
       "Processing rows for 1987-02:   0%|          | 0/40945 [00:00<?, ?it/s]"
      ]
     },
     "metadata": {},
     "output_type": "display_data"
    },
    {
     "data": {
      "application/vnd.jupyter.widget-view+json": {
       "model_id": "3c6c9367ec734a0ea007942ad5c1a354",
       "version_major": 2,
       "version_minor": 0
      },
      "text/plain": [
       "Processing rows for 1984-04:   0%|          | 0/35101 [00:00<?, ?it/s]"
      ]
     },
     "metadata": {},
     "output_type": "display_data"
    },
    {
     "data": {
      "application/vnd.jupyter.widget-view+json": {
       "model_id": "8a5cb77c19a044dab57054d3d34c922d",
       "version_major": 2,
       "version_minor": 0
      },
      "text/plain": [
       "Processing rows for 1979-02:   0%|          | 0/38879 [00:00<?, ?it/s]"
      ]
     },
     "metadata": {},
     "output_type": "display_data"
    },
    {
     "data": {
      "application/vnd.jupyter.widget-view+json": {
       "model_id": "1f5f98950f824816a48cdbe8aa7a2fbf",
       "version_major": 2,
       "version_minor": 0
      },
      "text/plain": [
       "Processing rows for 1986-10:   0%|          | 0/35080 [00:00<?, ?it/s]"
      ]
     },
     "metadata": {},
     "output_type": "display_data"
    },
    {
     "data": {
      "application/vnd.jupyter.widget-view+json": {
       "model_id": "ae7c38e5b530476184f2758a325fcb5d",
       "version_major": 2,
       "version_minor": 0
      },
      "text/plain": [
       "Processing rows for 1997-12:   0%|          | 0/33042 [00:00<?, ?it/s]"
      ]
     },
     "metadata": {},
     "output_type": "display_data"
    },
    {
     "data": {
      "application/vnd.jupyter.widget-view+json": {
       "model_id": "674f3a972de44fa2bab94b886e4d1a60",
       "version_major": 2,
       "version_minor": 0
      },
      "text/plain": [
       "Processing rows for 1990-01:   0%|          | 0/408395 [00:00<?, ?it/s]"
      ]
     },
     "metadata": {},
     "output_type": "display_data"
    },
    {
     "data": {
      "application/vnd.jupyter.widget-view+json": {
       "model_id": "d094d3284a244234938bb8f7e3e9dacb",
       "version_major": 2,
       "version_minor": 0
      },
      "text/plain": [
       "Processing rows for 1989-08:   0%|          | 0/68435 [00:00<?, ?it/s]"
      ]
     },
     "metadata": {},
     "output_type": "display_data"
    },
    {
     "data": {
      "application/vnd.jupyter.widget-view+json": {
       "model_id": "3dae3e985edb486c80f201ff9b64e247",
       "version_major": 2,
       "version_minor": 0
      },
      "text/plain": [
       "Processing rows for 2018-08:   0%|          | 0/93749 [00:00<?, ?it/s]"
      ]
     },
     "metadata": {},
     "output_type": "display_data"
    },
    {
     "data": {
      "application/vnd.jupyter.widget-view+json": {
       "model_id": "b5b23f0cd2534db590f39ca8f7365882",
       "version_major": 2,
       "version_minor": 0
      },
      "text/plain": [
       "Processing rows for 1987-09:   0%|          | 0/43227 [00:00<?, ?it/s]"
      ]
     },
     "metadata": {},
     "output_type": "display_data"
    },
    {
     "data": {
      "application/vnd.jupyter.widget-view+json": {
       "model_id": "ff78f7a5027144e788fde709a435d8a8",
       "version_major": 2,
       "version_minor": 0
      },
      "text/plain": [
       "Processing rows for 2004-07:   0%|          | 0/52647 [00:00<?, ?it/s]"
      ]
     },
     "metadata": {},
     "output_type": "display_data"
    },
    {
     "data": {
      "application/vnd.jupyter.widget-view+json": {
       "model_id": "dd85f5e13f154aa28274ebbf77c54b80",
       "version_major": 2,
       "version_minor": 0
      },
      "text/plain": [
       "Processing rows for 1992-04:   0%|          | 0/33150 [00:00<?, ?it/s]"
      ]
     },
     "metadata": {},
     "output_type": "display_data"
    },
    {
     "data": {
      "application/vnd.jupyter.widget-view+json": {
       "model_id": "44459f9b80c445299ed784f76b3c974e",
       "version_major": 2,
       "version_minor": 0
      },
      "text/plain": [
       "Processing rows for 2000-04:   0%|          | 0/45069 [00:00<?, ?it/s]"
      ]
     },
     "metadata": {},
     "output_type": "display_data"
    },
    {
     "data": {
      "application/vnd.jupyter.widget-view+json": {
       "model_id": "0692721de30249a8bf5449513ba36a09",
       "version_major": 2,
       "version_minor": 0
      },
      "text/plain": [
       "Processing rows for 2008-06:   0%|          | 0/27884 [00:00<?, ?it/s]"
      ]
     },
     "metadata": {},
     "output_type": "display_data"
    },
    {
     "data": {
      "application/vnd.jupyter.widget-view+json": {
       "model_id": "064d687e30d7444396f1ee3eb5252e4d",
       "version_major": 2,
       "version_minor": 0
      },
      "text/plain": [
       "Processing rows for 2014-02:   0%|          | 0/6484 [00:00<?, ?it/s]"
      ]
     },
     "metadata": {},
     "output_type": "display_data"
    },
    {
     "data": {
      "application/vnd.jupyter.widget-view+json": {
       "model_id": "d65fe77bfa0949cab673990561929e9e",
       "version_major": 2,
       "version_minor": 0
      },
      "text/plain": [
       "Processing rows for 2000-03:   0%|          | 0/44840 [00:00<?, ?it/s]"
      ]
     },
     "metadata": {},
     "output_type": "display_data"
    },
    {
     "data": {
      "application/vnd.jupyter.widget-view+json": {
       "model_id": "e13802347fa842509a7450028d5f2318",
       "version_major": 2,
       "version_minor": 0
      },
      "text/plain": [
       "Processing rows for 1999-07:   0%|          | 0/52859 [00:00<?, ?it/s]"
      ]
     },
     "metadata": {},
     "output_type": "display_data"
    },
    {
     "data": {
      "application/vnd.jupyter.widget-view+json": {
       "model_id": "b4df0628da694b4e9319ce2fcae4c3b7",
       "version_major": 2,
       "version_minor": 0
      },
      "text/plain": [
       "Processing rows for 1980-09:   0%|          | 0/30632 [00:00<?, ?it/s]"
      ]
     },
     "metadata": {},
     "output_type": "display_data"
    },
    {
     "data": {
      "application/vnd.jupyter.widget-view+json": {
       "model_id": "bbd25e77a0194d4dbf278703beb8c42e",
       "version_major": 2,
       "version_minor": 0
      },
      "text/plain": [
       "Processing rows for 2018-04:   0%|          | 0/9380 [00:00<?, ?it/s]"
      ]
     },
     "metadata": {},
     "output_type": "display_data"
    },
    {
     "data": {
      "application/vnd.jupyter.widget-view+json": {
       "model_id": "f51daf22ad3d4d1babb532aba4d803c8",
       "version_major": 2,
       "version_minor": 0
      },
      "text/plain": [
       "Processing rows for 1981-01:   0%|          | 0/53418 [00:00<?, ?it/s]"
      ]
     },
     "metadata": {},
     "output_type": "display_data"
    },
    {
     "data": {
      "application/vnd.jupyter.widget-view+json": {
       "model_id": "a682ae1e989f413facaa87f95667d54b",
       "version_major": 2,
       "version_minor": 0
      },
      "text/plain": [
       "Processing rows for 1994-02:   0%|          | 0/32250 [00:00<?, ?it/s]"
      ]
     },
     "metadata": {},
     "output_type": "display_data"
    },
    {
     "data": {
      "application/vnd.jupyter.widget-view+json": {
       "model_id": "76a2d46b18cd4652b5c3557c1963ce8d",
       "version_major": 2,
       "version_minor": 0
      },
      "text/plain": [
       "Processing rows for 1996-12:   0%|          | 0/39566 [00:00<?, ?it/s]"
      ]
     },
     "metadata": {},
     "output_type": "display_data"
    },
    {
     "data": {
      "application/vnd.jupyter.widget-view+json": {
       "model_id": "f02ed5062ae1448f91ae6848f9778ecc",
       "version_major": 2,
       "version_minor": 0
      },
      "text/plain": [
       "Processing rows for 1980-02:   0%|          | 0/29665 [00:00<?, ?it/s]"
      ]
     },
     "metadata": {},
     "output_type": "display_data"
    },
    {
     "data": {
      "application/vnd.jupyter.widget-view+json": {
       "model_id": "e058b70b7aa64db0955b714e10b11205",
       "version_major": 2,
       "version_minor": 0
      },
      "text/plain": [
       "Processing rows for 1989-02:   0%|          | 0/60820 [00:00<?, ?it/s]"
      ]
     },
     "metadata": {},
     "output_type": "display_data"
    },
    {
     "data": {
      "application/vnd.jupyter.widget-view+json": {
       "model_id": "63ca14000696455393b662c245aa29fa",
       "version_major": 2,
       "version_minor": 0
      },
      "text/plain": [
       "Processing rows for 2016-01:   0%|          | 0/59206 [00:00<?, ?it/s]"
      ]
     },
     "metadata": {},
     "output_type": "display_data"
    },
    {
     "data": {
      "application/vnd.jupyter.widget-view+json": {
       "model_id": "8d6e6a9029864a929ba46f5155f99fc2",
       "version_major": 2,
       "version_minor": 0
      },
      "text/plain": [
       "Processing rows for 2001-02:   0%|          | 0/31850 [00:00<?, ?it/s]"
      ]
     },
     "metadata": {},
     "output_type": "display_data"
    },
    {
     "data": {
      "application/vnd.jupyter.widget-view+json": {
       "model_id": "a735d29c822f4eacbf77e456e4e5e860",
       "version_major": 2,
       "version_minor": 0
      },
      "text/plain": [
       "Processing rows for 1998-02:   0%|          | 0/21724 [00:00<?, ?it/s]"
      ]
     },
     "metadata": {},
     "output_type": "display_data"
    },
    {
     "data": {
      "application/vnd.jupyter.widget-view+json": {
       "model_id": "e70919e8866c428cbf248fbfd1e64581",
       "version_major": 2,
       "version_minor": 0
      },
      "text/plain": [
       "Processing rows for 2013-09:   0%|          | 0/29087 [00:00<?, ?it/s]"
      ]
     },
     "metadata": {},
     "output_type": "display_data"
    },
    {
     "data": {
      "application/vnd.jupyter.widget-view+json": {
       "model_id": "c5a804c721704f0093675df5f4b56bbe",
       "version_major": 2,
       "version_minor": 0
      },
      "text/plain": [
       "Processing rows for 1989-05:   0%|          | 0/175482 [00:00<?, ?it/s]"
      ]
     },
     "metadata": {},
     "output_type": "display_data"
    },
    {
     "data": {
      "application/vnd.jupyter.widget-view+json": {
       "model_id": "ee0e1cc969594ecc9ec601da6ec9a2c1",
       "version_major": 2,
       "version_minor": 0
      },
      "text/plain": [
       "Processing rows for 1999-03:   0%|          | 0/40387 [00:00<?, ?it/s]"
      ]
     },
     "metadata": {},
     "output_type": "display_data"
    },
    {
     "data": {
      "application/vnd.jupyter.widget-view+json": {
       "model_id": "3452cf4e6844462d981e1bc91dd07fea",
       "version_major": 2,
       "version_minor": 0
      },
      "text/plain": [
       "Processing rows for 2007-08:   0%|          | 0/47690 [00:00<?, ?it/s]"
      ]
     },
     "metadata": {},
     "output_type": "display_data"
    },
    {
     "data": {
      "application/vnd.jupyter.widget-view+json": {
       "model_id": "7db60f60db3d41618c8350fe41f04cac",
       "version_major": 2,
       "version_minor": 0
      },
      "text/plain": [
       "Processing rows for 1999-01:   0%|          | 0/172232 [00:00<?, ?it/s]"
      ]
     },
     "metadata": {},
     "output_type": "display_data"
    },
    {
     "data": {
      "application/vnd.jupyter.widget-view+json": {
       "model_id": "a0845d15b7cc47eabfa90b35aae331cf",
       "version_major": 2,
       "version_minor": 0
      },
      "text/plain": [
       "Processing rows for 2009-12:   0%|          | 0/5821 [00:00<?, ?it/s]"
      ]
     },
     "metadata": {},
     "output_type": "display_data"
    },
    {
     "data": {
      "application/vnd.jupyter.widget-view+json": {
       "model_id": "beb30cf012c247f890c79e3244bd2529",
       "version_major": 2,
       "version_minor": 0
      },
      "text/plain": [
       "Processing rows for 1992-02:   0%|          | 0/32113 [00:00<?, ?it/s]"
      ]
     },
     "metadata": {},
     "output_type": "display_data"
    },
    {
     "data": {
      "application/vnd.jupyter.widget-view+json": {
       "model_id": "3dc1a47f664449ab85de8cffe0407f7b",
       "version_major": 2,
       "version_minor": 0
      },
      "text/plain": [
       "Processing rows for 2014-03:   0%|          | 0/10156 [00:00<?, ?it/s]"
      ]
     },
     "metadata": {},
     "output_type": "display_data"
    },
    {
     "data": {
      "application/vnd.jupyter.widget-view+json": {
       "model_id": "28dd0cb7474c4677ada9d93928025703",
       "version_major": 2,
       "version_minor": 0
      },
      "text/plain": [
       "Processing rows for 2010-07:   0%|          | 0/27811 [00:00<?, ?it/s]"
      ]
     },
     "metadata": {},
     "output_type": "display_data"
    },
    {
     "data": {
      "application/vnd.jupyter.widget-view+json": {
       "model_id": "85840eb732844f9f97307edb084c2636",
       "version_major": 2,
       "version_minor": 0
      },
      "text/plain": [
       "Processing rows for 2019-06:   0%|          | 0/247336 [00:00<?, ?it/s]"
      ]
     },
     "metadata": {},
     "output_type": "display_data"
    },
    {
     "data": {
      "application/vnd.jupyter.widget-view+json": {
       "model_id": "9c8b5d8285d342d3b9e6efa8cb86ddb6",
       "version_major": 2,
       "version_minor": 0
      },
      "text/plain": [
       "Processing rows for 1979-03:   0%|          | 0/38879 [00:00<?, ?it/s]"
      ]
     },
     "metadata": {},
     "output_type": "display_data"
    },
    {
     "data": {
      "application/vnd.jupyter.widget-view+json": {
       "model_id": "2bbd5dbeaf924392abbcb8d5cde9e892",
       "version_major": 2,
       "version_minor": 0
      },
      "text/plain": [
       "Processing rows for 1982-12:   0%|          | 0/11459 [00:00<?, ?it/s]"
      ]
     },
     "metadata": {},
     "output_type": "display_data"
    },
    {
     "data": {
      "application/vnd.jupyter.widget-view+json": {
       "model_id": "08c7f28efa9e4758978387ef186f8792",
       "version_major": 2,
       "version_minor": 0
      },
      "text/plain": [
       "Processing rows for 1997-02:   0%|          | 0/32219 [00:00<?, ?it/s]"
      ]
     },
     "metadata": {},
     "output_type": "display_data"
    },
    {
     "data": {
      "application/vnd.jupyter.widget-view+json": {
       "model_id": "a9d21114cf24422e98bf6786a03c1b99",
       "version_major": 2,
       "version_minor": 0
      },
      "text/plain": [
       "Processing rows for 1983-07:   0%|          | 0/25695 [00:00<?, ?it/s]"
      ]
     },
     "metadata": {},
     "output_type": "display_data"
    },
    {
     "data": {
      "application/vnd.jupyter.widget-view+json": {
       "model_id": "19b80b3e06f3474b8016c98cf1abb3f6",
       "version_major": 2,
       "version_minor": 0
      },
      "text/plain": [
       "Processing rows for 1994-06:   0%|          | 0/75219 [00:00<?, ?it/s]"
      ]
     },
     "metadata": {},
     "output_type": "display_data"
    },
    {
     "data": {
      "application/vnd.jupyter.widget-view+json": {
       "model_id": "257e73f01d9549449aba513ead741608",
       "version_major": 2,
       "version_minor": 0
      },
      "text/plain": [
       "Processing rows for 1979-10:   0%|          | 0/39508 [00:00<?, ?it/s]"
      ]
     },
     "metadata": {},
     "output_type": "display_data"
    },
    {
     "data": {
      "application/vnd.jupyter.widget-view+json": {
       "model_id": "0558273ec38745ee8ba1df442e1596e1",
       "version_major": 2,
       "version_minor": 0
      },
      "text/plain": [
       "Processing rows for 2005-08:   0%|          | 0/15389 [00:00<?, ?it/s]"
      ]
     },
     "metadata": {},
     "output_type": "display_data"
    },
    {
     "data": {
      "application/vnd.jupyter.widget-view+json": {
       "model_id": "e9e2117bbd6c4453a20de5319255ccb1",
       "version_major": 2,
       "version_minor": 0
      },
      "text/plain": [
       "Processing rows for 1979-11:   0%|          | 0/38879 [00:00<?, ?it/s]"
      ]
     },
     "metadata": {},
     "output_type": "display_data"
    },
    {
     "data": {
      "application/vnd.jupyter.widget-view+json": {
       "model_id": "0f08239d13f345b49822077fd31e8646",
       "version_major": 2,
       "version_minor": 0
      },
      "text/plain": [
       "Processing rows for 1997-03:   0%|          | 0/32899 [00:00<?, ?it/s]"
      ]
     },
     "metadata": {},
     "output_type": "display_data"
    },
    {
     "data": {
      "application/vnd.jupyter.widget-view+json": {
       "model_id": "0b6511dde0de4683ab219f107e1227a0",
       "version_major": 2,
       "version_minor": 0
      },
      "text/plain": [
       "Processing rows for 1985-03:   0%|          | 0/24497 [00:00<?, ?it/s]"
      ]
     },
     "metadata": {},
     "output_type": "display_data"
    },
    {
     "data": {
      "application/vnd.jupyter.widget-view+json": {
       "model_id": "2459a2372c594157a41ba8d042bf8141",
       "version_major": 2,
       "version_minor": 0
      },
      "text/plain": [
       "Processing rows for 1997-01:   0%|          | 0/185618 [00:00<?, ?it/s]"
      ]
     },
     "metadata": {},
     "output_type": "display_data"
    },
    {
     "data": {
      "application/vnd.jupyter.widget-view+json": {
       "model_id": "a44e6355d33d48d9b58ee8c8e6769d64",
       "version_major": 2,
       "version_minor": 0
      },
      "text/plain": [
       "Processing rows for 2004-05:   0%|          | 0/27977 [00:00<?, ?it/s]"
      ]
     },
     "metadata": {},
     "output_type": "display_data"
    },
    {
     "data": {
      "application/vnd.jupyter.widget-view+json": {
       "model_id": "7a4310faf84b4040b7f222a8519df83d",
       "version_major": 2,
       "version_minor": 0
      },
      "text/plain": [
       "Processing rows for 2011-02:   0%|          | 0/5861 [00:00<?, ?it/s]"
      ]
     },
     "metadata": {},
     "output_type": "display_data"
    },
    {
     "data": {
      "application/vnd.jupyter.widget-view+json": {
       "model_id": "0c77f6c4eb384ff7a33cad4484e4ce1e",
       "version_major": 2,
       "version_minor": 0
      },
      "text/plain": [
       "Processing rows for 2014-05:   0%|          | 0/31082 [00:00<?, ?it/s]"
      ]
     },
     "metadata": {},
     "output_type": "display_data"
    },
    {
     "data": {
      "application/vnd.jupyter.widget-view+json": {
       "model_id": "3be3f332683a4d28bd0eb5b3e1339fb4",
       "version_major": 2,
       "version_minor": 0
      },
      "text/plain": [
       "Processing rows for 2013-07:   0%|          | 0/25600 [00:00<?, ?it/s]"
      ]
     },
     "metadata": {},
     "output_type": "display_data"
    },
    {
     "data": {
      "application/vnd.jupyter.widget-view+json": {
       "model_id": "810e2010af3046d7ac4e68d4180fc077",
       "version_major": 2,
       "version_minor": 0
      },
      "text/plain": [
       "Processing rows for 1985-11:   0%|          | 0/25035 [00:00<?, ?it/s]"
      ]
     },
     "metadata": {},
     "output_type": "display_data"
    },
    {
     "data": {
      "application/vnd.jupyter.widget-view+json": {
       "model_id": "356bbd46bd6142b489f1b9dabf0ff3d1",
       "version_major": 2,
       "version_minor": 0
      },
      "text/plain": [
       "Processing rows for 1984-06:   0%|          | 0/33322 [00:00<?, ?it/s]"
      ]
     },
     "metadata": {},
     "output_type": "display_data"
    },
    {
     "data": {
      "application/vnd.jupyter.widget-view+json": {
       "model_id": "863e74a538ee4196a0f0e1d9778f8122",
       "version_major": 2,
       "version_minor": 0
      },
      "text/plain": [
       "Processing rows for 2004-04:   0%|          | 0/26866 [00:00<?, ?it/s]"
      ]
     },
     "metadata": {},
     "output_type": "display_data"
    },
    {
     "data": {
      "application/vnd.jupyter.widget-view+json": {
       "model_id": "0a0820dd3b8147ca81acee7e3a59a1a7",
       "version_major": 2,
       "version_minor": 0
      },
      "text/plain": [
       "Processing rows for 1988-07:   0%|          | 0/56500 [00:00<?, ?it/s]"
      ]
     },
     "metadata": {},
     "output_type": "display_data"
    },
    {
     "data": {
      "application/vnd.jupyter.widget-view+json": {
       "model_id": "f5da52204e8841b0a7c4cc910970ae17",
       "version_major": 2,
       "version_minor": 0
      },
      "text/plain": [
       "Processing rows for 1984-12:   0%|          | 0/28685 [00:00<?, ?it/s]"
      ]
     },
     "metadata": {},
     "output_type": "display_data"
    },
    {
     "data": {
      "application/vnd.jupyter.widget-view+json": {
       "model_id": "36d8f4d52b8347909657a78e02348f22",
       "version_major": 2,
       "version_minor": 0
      },
      "text/plain": [
       "Processing rows for 1997-10:   0%|          | 0/36457 [00:00<?, ?it/s]"
      ]
     },
     "metadata": {},
     "output_type": "display_data"
    },
    {
     "data": {
      "application/vnd.jupyter.widget-view+json": {
       "model_id": "fe02ac81cea94736b2239b9d28c435d2",
       "version_major": 2,
       "version_minor": 0
      },
      "text/plain": [
       "Processing rows for 2008-01:   0%|          | 0/52504 [00:00<?, ?it/s]"
      ]
     },
     "metadata": {},
     "output_type": "display_data"
    },
    {
     "data": {
      "application/vnd.jupyter.widget-view+json": {
       "model_id": "da73a77a37c3411297e59c53800bca89",
       "version_major": 2,
       "version_minor": 0
      },
      "text/plain": [
       "Processing rows for 1987-12:   0%|          | 0/40850 [00:00<?, ?it/s]"
      ]
     },
     "metadata": {},
     "output_type": "display_data"
    },
    {
     "data": {
      "application/vnd.jupyter.widget-view+json": {
       "model_id": "babfb54afb2c4566a7ab4ad78349e125",
       "version_major": 2,
       "version_minor": 0
      },
      "text/plain": [
       "Processing rows for 2019-01:   0%|          | 0/70757 [00:00<?, ?it/s]"
      ]
     },
     "metadata": {},
     "output_type": "display_data"
    },
    {
     "data": {
      "application/vnd.jupyter.widget-view+json": {
       "model_id": "767cfa4559cb4ba384a05f7b13551499",
       "version_major": 2,
       "version_minor": 0
      },
      "text/plain": [
       "Processing rows for 1994-09:   0%|          | 0/38061 [00:00<?, ?it/s]"
      ]
     },
     "metadata": {},
     "output_type": "display_data"
    },
    {
     "data": {
      "application/vnd.jupyter.widget-view+json": {
       "model_id": "01c3b342c83d47f584cb167a2c3f1ea2",
       "version_major": 2,
       "version_minor": 0
      },
      "text/plain": [
       "Processing rows for 2006-03:   0%|          | 0/7174 [00:00<?, ?it/s]"
      ]
     },
     "metadata": {},
     "output_type": "display_data"
    },
    {
     "data": {
      "application/vnd.jupyter.widget-view+json": {
       "model_id": "2b09c5d08f9d43d5981d0dc083112260",
       "version_major": 2,
       "version_minor": 0
      },
      "text/plain": [
       "Processing rows for 2006-08:   0%|          | 0/30725 [00:00<?, ?it/s]"
      ]
     },
     "metadata": {},
     "output_type": "display_data"
    },
    {
     "data": {
      "application/vnd.jupyter.widget-view+json": {
       "model_id": "c289bd395a3949638a04910317107ae1",
       "version_major": 2,
       "version_minor": 0
      },
      "text/plain": [
       "Processing rows for 2005-09:   0%|          | 0/12883 [00:00<?, ?it/s]"
      ]
     },
     "metadata": {},
     "output_type": "display_data"
    },
    {
     "data": {
      "application/vnd.jupyter.widget-view+json": {
       "model_id": "c32c6ef34e824844b52234fa5071b099",
       "version_major": 2,
       "version_minor": 0
      },
      "text/plain": [
       "Processing rows for 2015-07:   0%|          | 0/71482 [00:00<?, ?it/s]"
      ]
     },
     "metadata": {},
     "output_type": "display_data"
    },
    {
     "data": {
      "application/vnd.jupyter.widget-view+json": {
       "model_id": "9a961760f5374e02b336be7e45f16bd6",
       "version_major": 2,
       "version_minor": 0
      },
      "text/plain": [
       "Processing rows for 2005-01:   0%|          | 0/60006 [00:00<?, ?it/s]"
      ]
     },
     "metadata": {},
     "output_type": "display_data"
    },
    {
     "data": {
      "application/vnd.jupyter.widget-view+json": {
       "model_id": "44d7190c9f3f47bbbce1c06f780bc7de",
       "version_major": 2,
       "version_minor": 0
      },
      "text/plain": [
       "Processing rows for 2004-01:   0%|          | 0/106597 [00:00<?, ?it/s]"
      ]
     },
     "metadata": {},
     "output_type": "display_data"
    },
    {
     "data": {
      "application/vnd.jupyter.widget-view+json": {
       "model_id": "f7679a2e7fa14ea585a25f440503f006",
       "version_major": 2,
       "version_minor": 0
      },
      "text/plain": [
       "Processing rows for 1998-03:   0%|          | 0/21783 [00:00<?, ?it/s]"
      ]
     },
     "metadata": {},
     "output_type": "display_data"
    },
    {
     "data": {
      "application/vnd.jupyter.widget-view+json": {
       "model_id": "df74476362cc4e7e9d419d3954ebbb2e",
       "version_major": 2,
       "version_minor": 0
      },
      "text/plain": [
       "Processing rows for 1989-12:   0%|          | 0/60557 [00:00<?, ?it/s]"
      ]
     },
     "metadata": {},
     "output_type": "display_data"
    },
    {
     "data": {
      "application/vnd.jupyter.widget-view+json": {
       "model_id": "66b981b0ad504e459b8f843a28287195",
       "version_major": 2,
       "version_minor": 0
      },
      "text/plain": [
       "Processing rows for 2009-11:   0%|          | 0/6199 [00:00<?, ?it/s]"
      ]
     },
     "metadata": {},
     "output_type": "display_data"
    },
    {
     "data": {
      "application/vnd.jupyter.widget-view+json": {
       "model_id": "e07da60af4e84e57a54435a87f5cb435",
       "version_major": 2,
       "version_minor": 0
      },
      "text/plain": [
       "Processing rows for 1996-01:   0%|          | 0/192609 [00:00<?, ?it/s]"
      ]
     },
     "metadata": {},
     "output_type": "display_data"
    },
    {
     "data": {
      "application/vnd.jupyter.widget-view+json": {
       "model_id": "ea20c842142a47eabe89940f398a0b96",
       "version_major": 2,
       "version_minor": 0
      },
      "text/plain": [
       "Processing rows for 1997-11:   0%|          | 0/32120 [00:00<?, ?it/s]"
      ]
     },
     "metadata": {},
     "output_type": "display_data"
    },
    {
     "data": {
      "application/vnd.jupyter.widget-view+json": {
       "model_id": "1754263531734404bc279603c1b93111",
       "version_major": 2,
       "version_minor": 0
      },
      "text/plain": [
       "Processing rows for 1999-11:   0%|          | 0/40362 [00:00<?, ?it/s]"
      ]
     },
     "metadata": {},
     "output_type": "display_data"
    },
    {
     "data": {
      "application/vnd.jupyter.widget-view+json": {
       "model_id": "4914bbd0cee44494b42fdee44aa11f02",
       "version_major": 2,
       "version_minor": 0
      },
      "text/plain": [
       "Processing rows for 1995-12:   0%|          | 0/48766 [00:00<?, ?it/s]"
      ]
     },
     "metadata": {},
     "output_type": "display_data"
    },
    {
     "data": {
      "application/vnd.jupyter.widget-view+json": {
       "model_id": "b38a6586c89f49f6aa5a2f7ca634cfea",
       "version_major": 2,
       "version_minor": 0
      },
      "text/plain": [
       "Processing rows for 1998-08:   0%|          | 0/29154 [00:00<?, ?it/s]"
      ]
     },
     "metadata": {},
     "output_type": "display_data"
    },
    {
     "data": {
      "application/vnd.jupyter.widget-view+json": {
       "model_id": "a0e619c2bd5644f3822cfefb78b4ce88",
       "version_major": 2,
       "version_minor": 0
      },
      "text/plain": [
       "Processing rows for 2002-09:   0%|          | 0/44552 [00:00<?, ?it/s]"
      ]
     },
     "metadata": {},
     "output_type": "display_data"
    },
    {
     "data": {
      "application/vnd.jupyter.widget-view+json": {
       "model_id": "90c7f534fd874ba09a481ce7744b5305",
       "version_major": 2,
       "version_minor": 0
      },
      "text/plain": [
       "Processing rows for 1983-02:   0%|          | 0/20584 [00:00<?, ?it/s]"
      ]
     },
     "metadata": {},
     "output_type": "display_data"
    },
    {
     "data": {
      "application/vnd.jupyter.widget-view+json": {
       "model_id": "bdbd411e9abb46d090d3369ccd532a25",
       "version_major": 2,
       "version_minor": 0
      },
      "text/plain": [
       "Processing rows for 2008-04:   0%|          | 0/23946 [00:00<?, ?it/s]"
      ]
     },
     "metadata": {},
     "output_type": "display_data"
    },
    {
     "data": {
      "application/vnd.jupyter.widget-view+json": {
       "model_id": "7409eb18b0fd41ae94b4f06b4b0026bc",
       "version_major": 2,
       "version_minor": 0
      },
      "text/plain": [
       "Processing rows for 2005-12:   0%|          | 0/8282 [00:00<?, ?it/s]"
      ]
     },
     "metadata": {},
     "output_type": "display_data"
    },
    {
     "data": {
      "application/vnd.jupyter.widget-view+json": {
       "model_id": "50dcb85a0b1a459f8073d6a26385f0e6",
       "version_major": 2,
       "version_minor": 0
      },
      "text/plain": [
       "Processing rows for 2008-10:   0%|          | 0/10085 [00:00<?, ?it/s]"
      ]
     },
     "metadata": {},
     "output_type": "display_data"
    },
    {
     "data": {
      "application/vnd.jupyter.widget-view+json": {
       "model_id": "19fd2190832e43fdb88cf0743e39d5d2",
       "version_major": 2,
       "version_minor": 0
      },
      "text/plain": [
       "Processing rows for 1979-09:   0%|          | 0/39597 [00:00<?, ?it/s]"
      ]
     },
     "metadata": {},
     "output_type": "display_data"
    },
    {
     "data": {
      "application/vnd.jupyter.widget-view+json": {
       "model_id": "1e28339d64564e318500d41800d2d281",
       "version_major": 2,
       "version_minor": 0
      },
      "text/plain": [
       "Processing rows for 1993-03:   0%|          | 0/43679 [00:00<?, ?it/s]"
      ]
     },
     "metadata": {},
     "output_type": "display_data"
    },
    {
     "data": {
      "application/vnd.jupyter.widget-view+json": {
       "model_id": "606b89e5a5b14fffb3a7b0a6990bc7fd",
       "version_major": 2,
       "version_minor": 0
      },
      "text/plain": [
       "Processing rows for 2001-12:   0%|          | 0/31899 [00:00<?, ?it/s]"
      ]
     },
     "metadata": {},
     "output_type": "display_data"
    },
    {
     "data": {
      "application/vnd.jupyter.widget-view+json": {
       "model_id": "f221766aeddb464890c8241616b3f5ed",
       "version_major": 2,
       "version_minor": 0
      },
      "text/plain": [
       "Processing rows for 1992-10:   0%|          | 0/34095 [00:00<?, ?it/s]"
      ]
     },
     "metadata": {},
     "output_type": "display_data"
    },
    {
     "data": {
      "application/vnd.jupyter.widget-view+json": {
       "model_id": "541714702ff541c28382bef9af485a73",
       "version_major": 2,
       "version_minor": 0
      },
      "text/plain": [
       "Processing rows for 1983-10:   0%|          | 0/23299 [00:00<?, ?it/s]"
      ]
     },
     "metadata": {},
     "output_type": "display_data"
    },
    {
     "data": {
      "application/vnd.jupyter.widget-view+json": {
       "model_id": "d4f7683c007048d39cc0f5b4a2e887b0",
       "version_major": 2,
       "version_minor": 0
      },
      "text/plain": [
       "Processing rows for 1992-09:   0%|          | 0/34506 [00:00<?, ?it/s]"
      ]
     },
     "metadata": {},
     "output_type": "display_data"
    },
    {
     "data": {
      "application/vnd.jupyter.widget-view+json": {
       "model_id": "07495a34649a41a6884618425190c15c",
       "version_major": 2,
       "version_minor": 0
      },
      "text/plain": [
       "Processing rows for 2003-05:   0%|          | 0/64394 [00:00<?, ?it/s]"
      ]
     },
     "metadata": {},
     "output_type": "display_data"
    },
    {
     "data": {
      "application/vnd.jupyter.widget-view+json": {
       "model_id": "8cd3fafd104042de871830f1eefdc5b0",
       "version_major": 2,
       "version_minor": 0
      },
      "text/plain": [
       "Processing rows for 1985-07:   0%|          | 0/77956 [00:00<?, ?it/s]"
      ]
     },
     "metadata": {},
     "output_type": "display_data"
    },
    {
     "data": {
      "application/vnd.jupyter.widget-view+json": {
       "model_id": "a34617cf9ee64257ae179d82c9a355ff",
       "version_major": 2,
       "version_minor": 0
      },
      "text/plain": [
       "Processing rows for 2008-02:   0%|          | 0/6937 [00:00<?, ?it/s]"
      ]
     },
     "metadata": {},
     "output_type": "display_data"
    },
    {
     "data": {
      "application/vnd.jupyter.widget-view+json": {
       "model_id": "f684865708d84a9c8850de0325578e4b",
       "version_major": 2,
       "version_minor": 0
      },
      "text/plain": [
       "Processing rows for 1986-07:   0%|          | 0/56282 [00:00<?, ?it/s]"
      ]
     },
     "metadata": {},
     "output_type": "display_data"
    },
    {
     "data": {
      "application/vnd.jupyter.widget-view+json": {
       "model_id": "9429b29c2a7b497c9dabaf8f8079724b",
       "version_major": 2,
       "version_minor": 0
      },
      "text/plain": [
       "Processing rows for 1993-09:   0%|          | 0/48735 [00:00<?, ?it/s]"
      ]
     },
     "metadata": {},
     "output_type": "display_data"
    },
    {
     "data": {
      "application/vnd.jupyter.widget-view+json": {
       "model_id": "b062d560eaa645669c696903e1809a05",
       "version_major": 2,
       "version_minor": 0
      },
      "text/plain": [
       "Processing rows for 2017-08:   0%|          | 0/59839 [00:00<?, ?it/s]"
      ]
     },
     "metadata": {},
     "output_type": "display_data"
    },
    {
     "data": {
      "application/vnd.jupyter.widget-view+json": {
       "model_id": "f39e4aefdc89445d9f84b85053f364b1",
       "version_major": 2,
       "version_minor": 0
      },
      "text/plain": [
       "Processing rows for 1992-05:   0%|          | 0/266180 [00:00<?, ?it/s]"
      ]
     },
     "metadata": {},
     "output_type": "display_data"
    },
    {
     "data": {
      "application/vnd.jupyter.widget-view+json": {
       "model_id": "465ffcc856f942c9a48e9cb691aacbfc",
       "version_major": 2,
       "version_minor": 0
      },
      "text/plain": [
       "Processing rows for 2019-11:   0%|          | 0/19995 [00:00<?, ?it/s]"
      ]
     },
     "metadata": {},
     "output_type": "display_data"
    },
    {
     "data": {
      "application/vnd.jupyter.widget-view+json": {
       "model_id": "f3b504d0c68849f7ac1b9e480e49fab2",
       "version_major": 2,
       "version_minor": 0
      },
      "text/plain": [
       "Processing rows for 2010-12:   0%|          | 0/4543 [00:00<?, ?it/s]"
      ]
     },
     "metadata": {},
     "output_type": "display_data"
    },
    {
     "data": {
      "application/vnd.jupyter.widget-view+json": {
       "model_id": "9f5ff82f87a7415ba54d469bb43b6809",
       "version_major": 2,
       "version_minor": 0
      },
      "text/plain": [
       "Processing rows for 2017-06:   0%|          | 0/87844 [00:00<?, ?it/s]"
      ]
     },
     "metadata": {},
     "output_type": "display_data"
    },
    {
     "data": {
      "application/vnd.jupyter.widget-view+json": {
       "model_id": "bf0329c4e47142f38be6380e52489f5c",
       "version_major": 2,
       "version_minor": 0
      },
      "text/plain": [
       "Processing rows for 1985-05:   0%|          | 0/195123 [00:00<?, ?it/s]"
      ]
     },
     "metadata": {},
     "output_type": "display_data"
    },
    {
     "data": {
      "application/vnd.jupyter.widget-view+json": {
       "model_id": "0d268c5c2c76493aab3adacc598dabe2",
       "version_major": 2,
       "version_minor": 0
      },
      "text/plain": [
       "Processing rows for 2009-09:   0%|          | 0/14358 [00:00<?, ?it/s]"
      ]
     },
     "metadata": {},
     "output_type": "display_data"
    },
    {
     "data": {
      "application/vnd.jupyter.widget-view+json": {
       "model_id": "9f6865885c9f45339491164ce86d7fc7",
       "version_major": 2,
       "version_minor": 0
      },
      "text/plain": [
       "Processing rows for 1993-11:   0%|          | 0/42406 [00:00<?, ?it/s]"
      ]
     },
     "metadata": {},
     "output_type": "display_data"
    },
    {
     "data": {
      "application/vnd.jupyter.widget-view+json": {
       "model_id": "e2d29ddcb01749a6a7a9ae7ba9c7e174",
       "version_major": 2,
       "version_minor": 0
      },
      "text/plain": [
       "Processing rows for 2011-03:   0%|          | 0/5649 [00:00<?, ?it/s]"
      ]
     },
     "metadata": {},
     "output_type": "display_data"
    },
    {
     "data": {
      "application/vnd.jupyter.widget-view+json": {
       "model_id": "27d01eb7851a444bbc5a43edc5069257",
       "version_major": 2,
       "version_minor": 0
      },
      "text/plain": [
       "Processing rows for 2005-11:   0%|          | 0/10121 [00:00<?, ?it/s]"
      ]
     },
     "metadata": {},
     "output_type": "display_data"
    },
    {
     "data": {
      "application/vnd.jupyter.widget-view+json": {
       "model_id": "30585ab3f9e2498b92becd1e39aa51d2",
       "version_major": 2,
       "version_minor": 0
      },
      "text/plain": [
       "Processing rows for 2019-12:   0%|          | 0/12892 [00:00<?, ?it/s]"
      ]
     },
     "metadata": {},
     "output_type": "display_data"
    },
    {
     "data": {
      "application/vnd.jupyter.widget-view+json": {
       "model_id": "58e6bd67f53143dba3dabb5b6e20988b",
       "version_major": 2,
       "version_minor": 0
      },
      "text/plain": [
       "Processing rows for 2011-01:   0%|          | 0/14042 [00:00<?, ?it/s]"
      ]
     },
     "metadata": {},
     "output_type": "display_data"
    },
    {
     "data": {
      "application/vnd.jupyter.widget-view+json": {
       "model_id": "ab59921dde6b42288dd313b5dfd33a7a",
       "version_major": 2,
       "version_minor": 0
      },
      "text/plain": [
       "Processing rows for 2008-12:   0%|          | 0/6415 [00:00<?, ?it/s]"
      ]
     },
     "metadata": {},
     "output_type": "display_data"
    },
    {
     "data": {
      "application/vnd.jupyter.widget-view+json": {
       "model_id": "ad6ad78bfdf24b938420d6f4f0e52f18",
       "version_major": 2,
       "version_minor": 0
      },
      "text/plain": [
       "Processing rows for 2016-11:   0%|          | 0/7983 [00:00<?, ?it/s]"
      ]
     },
     "metadata": {},
     "output_type": "display_data"
    },
    {
     "data": {
      "application/vnd.jupyter.widget-view+json": {
       "model_id": "a633c8fadd554e559854dcb1fdb4158e",
       "version_major": 2,
       "version_minor": 0
      },
      "text/plain": [
       "Processing rows for 2007-05:   0%|          | 0/13242 [00:00<?, ?it/s]"
      ]
     },
     "metadata": {},
     "output_type": "display_data"
    },
    {
     "data": {
      "application/vnd.jupyter.widget-view+json": {
       "model_id": "82d73d2adda14e0daba00a0382a116a4",
       "version_major": 2,
       "version_minor": 0
      },
      "text/plain": [
       "Processing rows for 1986-08:   0%|          | 0/41683 [00:00<?, ?it/s]"
      ]
     },
     "metadata": {},
     "output_type": "display_data"
    },
    {
     "data": {
      "application/vnd.jupyter.widget-view+json": {
       "model_id": "5776dde0461b42bf9652c24275e165f8",
       "version_major": 2,
       "version_minor": 0
      },
      "text/plain": [
       "Processing rows for 2002-04:   0%|          | 0/47949 [00:00<?, ?it/s]"
      ]
     },
     "metadata": {},
     "output_type": "display_data"
    },
    {
     "data": {
      "application/vnd.jupyter.widget-view+json": {
       "model_id": "f356bf4c017e40d1b8e743cb63f4273e",
       "version_major": 2,
       "version_minor": 0
      },
      "text/plain": [
       "Processing rows for 1988-12:   0%|          | 0/44987 [00:00<?, ?it/s]"
      ]
     },
     "metadata": {},
     "output_type": "display_data"
    },
    {
     "data": {
      "application/vnd.jupyter.widget-view+json": {
       "model_id": "537686ce8f334c7bb69b19034aee3919",
       "version_major": 2,
       "version_minor": 0
      },
      "text/plain": [
       "Processing rows for 1991-01:   0%|          | 0/302763 [00:00<?, ?it/s]"
      ]
     },
     "metadata": {},
     "output_type": "display_data"
    },
    {
     "data": {
      "application/vnd.jupyter.widget-view+json": {
       "model_id": "d01970866bf042468ae60fbd93efbc14",
       "version_major": 2,
       "version_minor": 0
      },
      "text/plain": [
       "Processing rows for 2012-09:   0%|          | 0/21247 [00:00<?, ?it/s]"
      ]
     },
     "metadata": {},
     "output_type": "display_data"
    },
    {
     "data": {
      "application/vnd.jupyter.widget-view+json": {
       "model_id": "1cff10f93e0b49db9eec08bfb778e9b2",
       "version_major": 2,
       "version_minor": 0
      },
      "text/plain": [
       "Processing rows for 2007-10:   0%|          | 0/7022 [00:00<?, ?it/s]"
      ]
     },
     "metadata": {},
     "output_type": "display_data"
    },
    {
     "data": {
      "application/vnd.jupyter.widget-view+json": {
       "model_id": "ef15b372330b436abbef339e29acdcdf",
       "version_major": 2,
       "version_minor": 0
      },
      "text/plain": [
       "Processing rows for 1994-05:   0%|          | 0/36003 [00:00<?, ?it/s]"
      ]
     },
     "metadata": {},
     "output_type": "display_data"
    },
    {
     "data": {
      "application/vnd.jupyter.widget-view+json": {
       "model_id": "2d2dcd274f714eef8b9ff52bff704efc",
       "version_major": 2,
       "version_minor": 0
      },
      "text/plain": [
       "Processing rows for 1983-01:   0%|          | 0/166104 [00:00<?, ?it/s]"
      ]
     },
     "metadata": {},
     "output_type": "display_data"
    },
    {
     "data": {
      "application/vnd.jupyter.widget-view+json": {
       "model_id": "7e82e1d530df4c7f985021810b2ae70f",
       "version_major": 2,
       "version_minor": 0
      },
      "text/plain": [
       "Processing rows for 2019-07:   0%|          | 0/170232 [00:00<?, ?it/s]"
      ]
     },
     "metadata": {},
     "output_type": "display_data"
    },
    {
     "data": {
      "application/vnd.jupyter.widget-view+json": {
       "model_id": "6fa06221d0954a82a43ab2a9ae13456f",
       "version_major": 2,
       "version_minor": 0
      },
      "text/plain": [
       "Processing rows for 2006-05:   0%|          | 0/28622 [00:00<?, ?it/s]"
      ]
     },
     "metadata": {},
     "output_type": "display_data"
    },
    {
     "data": {
      "application/vnd.jupyter.widget-view+json": {
       "model_id": "0e2b5999e9d14f108838f70b4ee2ff56",
       "version_major": 2,
       "version_minor": 0
      },
      "text/plain": [
       "Processing rows for 2018-01:   0%|          | 0/21516 [00:00<?, ?it/s]"
      ]
     },
     "metadata": {},
     "output_type": "display_data"
    },
    {
     "data": {
      "application/vnd.jupyter.widget-view+json": {
       "model_id": "ff3050feea8b49b2b4152f9ec0c18da3",
       "version_major": 2,
       "version_minor": 0
      },
      "text/plain": [
       "Processing rows for 1986-01:   0%|          | 0/225231 [00:00<?, ?it/s]"
      ]
     },
     "metadata": {},
     "output_type": "display_data"
    },
    {
     "data": {
      "application/vnd.jupyter.widget-view+json": {
       "model_id": "0e7747f3983d4390aa1efa5799d47d48",
       "version_major": 2,
       "version_minor": 0
      },
      "text/plain": [
       "Processing rows for 2004-06:   0%|          | 0/28804 [00:00<?, ?it/s]"
      ]
     },
     "metadata": {},
     "output_type": "display_data"
    },
    {
     "data": {
      "application/vnd.jupyter.widget-view+json": {
       "model_id": "a7314473700c4ab4a112a2f45110f316",
       "version_major": 2,
       "version_minor": 0
      },
      "text/plain": [
       "Processing rows for 2008-05:   0%|          | 0/16767 [00:00<?, ?it/s]"
      ]
     },
     "metadata": {},
     "output_type": "display_data"
    },
    {
     "data": {
      "application/vnd.jupyter.widget-view+json": {
       "model_id": "7a6a8a937d4a45d19b21adcd2fd6cfa2",
       "version_major": 2,
       "version_minor": 0
      },
      "text/plain": [
       "Processing rows for 2011-05:   0%|          | 0/15612 [00:00<?, ?it/s]"
      ]
     },
     "metadata": {},
     "output_type": "display_data"
    },
    {
     "data": {
      "application/vnd.jupyter.widget-view+json": {
       "model_id": "24b8cb02689c42049b304b7f5fd3e135",
       "version_major": 2,
       "version_minor": 0
      },
      "text/plain": [
       "Processing rows for 2002-08:   0%|          | 0/54246 [00:00<?, ?it/s]"
      ]
     },
     "metadata": {},
     "output_type": "display_data"
    },
    {
     "data": {
      "application/vnd.jupyter.widget-view+json": {
       "model_id": "dc726614ab9344748f23a6fef8ba9a55",
       "version_major": 2,
       "version_minor": 0
      },
      "text/plain": [
       "Processing rows for 2003-10:   0%|          | 0/93487 [00:00<?, ?it/s]"
      ]
     },
     "metadata": {},
     "output_type": "display_data"
    },
    {
     "data": {
      "application/vnd.jupyter.widget-view+json": {
       "model_id": "c866b4539a87426d8a8c845c3172fcd1",
       "version_major": 2,
       "version_minor": 0
      },
      "text/plain": [
       "Processing rows for 1986-05:   0%|          | 0/83049 [00:00<?, ?it/s]"
      ]
     },
     "metadata": {},
     "output_type": "display_data"
    },
    {
     "data": {
      "application/vnd.jupyter.widget-view+json": {
       "model_id": "0e09ff7141fb418e98796c159fdecbe1",
       "version_major": 2,
       "version_minor": 0
      },
      "text/plain": [
       "Processing rows for 2000-12:   0%|          | 0/44780 [00:00<?, ?it/s]"
      ]
     },
     "metadata": {},
     "output_type": "display_data"
    },
    {
     "data": {
      "application/vnd.jupyter.widget-view+json": {
       "model_id": "c71bf463a3ec426580b5a0c63492388f",
       "version_major": 2,
       "version_minor": 0
      },
      "text/plain": [
       "Processing rows for 1987-11:   0%|          | 0/40855 [00:00<?, ?it/s]"
      ]
     },
     "metadata": {},
     "output_type": "display_data"
    },
    {
     "data": {
      "application/vnd.jupyter.widget-view+json": {
       "model_id": "6362cd522f804bc789c1bb03c6b51eeb",
       "version_major": 2,
       "version_minor": 0
      },
      "text/plain": [
       "Processing rows for 2015-11:   0%|          | 0/10633 [00:00<?, ?it/s]"
      ]
     },
     "metadata": {},
     "output_type": "display_data"
    },
    {
     "data": {
      "application/vnd.jupyter.widget-view+json": {
       "model_id": "73efac28d1bd4c7498d2b0619cdb7887",
       "version_major": 2,
       "version_minor": 0
      },
      "text/plain": [
       "Processing rows for 2009-02:   0%|          | 0/5731 [00:00<?, ?it/s]"
      ]
     },
     "metadata": {},
     "output_type": "display_data"
    }
   ],
   "source": [
    "event_groups = gbif_data.group_by('eventDate')\n",
    "species_indices = gbif_data['species_index'].unique().to_list()\n",
    "\n",
    "for event_date, group in tqdm(event_groups, desc=\"Processing event dates\"):\n",
    "    \n",
    "    event_date = event_date[0]\n",
    "    # print(f'Processing data for: {event_date}')\n",
    "    raster = np.zeros((len(species_indices), width, height), dtype=np.uint8)\n",
    "\n",
    "    x_coords, y_coords = transformer.transform(group['decimalLongitude'].to_numpy(), group['decimalLatitude'].to_numpy())\n",
    "\n",
    "    col_idx = ((x_coords - x_min) / grid_resolution).astype(int)\n",
    "    row_idx = ((y_max - y_coords) / grid_resolution).astype(int)\n",
    "\n",
    "    for idx, row in tqdm(enumerate(group.iter_rows(named=True)), total=len(group), desc=f\"Processing rows for {event_date}\", leave=False):\n",
    "\n",
    "        species_idx = row['species_index']\n",
    "\n",
    "        c = col_idx[idx]\n",
    "        r = row_idx[idx]\n",
    "\n",
    "        if 0 <= r < height and 0 <= c < width:\n",
    "            raster[species_idx, r, c] = 1\n",
    "\n",
    "    output_path = os.path.join(output_folder, f'occurrence_{event_date}.tif')\n",
    "    with rasterio.open(\n",
    "        output_path,\n",
    "        'w',\n",
    "        driver='GTiff',\n",
    "        height=height,\n",
    "        width=width,\n",
    "        count=len(species_indices),\n",
    "        dtype=raster.dtype,\n",
    "        crs='EPSG:32633',\n",
    "        transform=transform,\n",
    "        compress='LZW'\n",
    "    ) as dst:\n",
    "        for band_idx in range(len(species_indices)):\n",
    "            dst.write(raster[band_idx, :, :], band_idx + 1)\n"
   ]
  }
 ],
 "metadata": {
  "kernelspec": {
   "display_name": "Python 3",
   "language": "python",
   "name": "python3"
  },
  "language_info": {
   "codemirror_mode": {
    "name": "ipython",
    "version": 3
   },
   "file_extension": ".py",
   "mimetype": "text/x-python",
   "name": "python",
   "nbconvert_exporter": "python",
   "pygments_lexer": "ipython3",
   "version": "3.11.1"
  }
 },
 "nbformat": 4,
 "nbformat_minor": 2
}
